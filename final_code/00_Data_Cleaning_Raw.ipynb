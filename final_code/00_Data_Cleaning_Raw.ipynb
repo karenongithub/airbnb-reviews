{
  "cells": [
    {
      "cell_type": "markdown",
      "id": "c04b53ef-6628-4eba-9460-2eee43d4b2ff",
      "metadata": {
        "id": "c04b53ef-6628-4eba-9460-2eee43d4b2ff"
      },
      "source": [
        "### Data Cleaning - Raw Data for Reviews and Ratings"
      ]
    },
    {
      "cell_type": "code",
      "source": [
        "#install langdetect \n",
        "\n",
        "!pip install langdetect"
      ],
      "metadata": {
        "colab": {
          "base_uri": "https://localhost:8080/"
        },
        "id": "8rnQ2VIvAuh5",
        "outputId": "2d96551d-a5a3-4739-b950-fab6081c7b4c"
      },
      "id": "8rnQ2VIvAuh5",
      "execution_count": 1,
      "outputs": [
        {
          "output_type": "stream",
          "name": "stdout",
          "text": [
            "Requirement already satisfied: langdetect in /usr/local/lib/python3.7/dist-packages (1.0.9)\n",
            "Requirement already satisfied: six in /usr/local/lib/python3.7/dist-packages (from langdetect) (1.15.0)\n"
          ]
        }
      ]
    },
    {
      "cell_type": "code",
      "execution_count": 2,
      "id": "721d4cda-c770-4253-b7e7-b89608c0afe0",
      "metadata": {
        "id": "721d4cda-c770-4253-b7e7-b89608c0afe0"
      },
      "outputs": [],
      "source": [
        "import pandas as pd\n",
        "import numpy as np\n",
        "from langdetect import detect\n",
        "\n",
        "pd.set_option('display.max_rows', 1000)\n",
        "pd.set_option('display.max_columns', 500)\n",
        "pd.set_option('display.width', 1000)"
      ]
    },
    {
      "cell_type": "code",
      "execution_count": 3,
      "id": "ba0f6172-8025-4e40-af8a-c3da72038e51",
      "metadata": {
        "colab": {
          "base_uri": "https://localhost:8080/"
        },
        "id": "ba0f6172-8025-4e40-af8a-c3da72038e51",
        "outputId": "7fb82670-b426-4fed-c2fa-c87ac4638adf"
      },
      "outputs": [
        {
          "output_type": "stream",
          "name": "stdout",
          "text": [
            "Mounted at /content/drive\n",
            "/content/drive/My Drive/kchien_data\n"
          ]
        },
        {
          "output_type": "stream",
          "name": "stderr",
          "text": [
            "/usr/local/lib/python3.7/dist-packages/IPython/core/interactiveshell.py:2882: DtypeWarning: Columns (67) have mixed types.Specify dtype option on import or set low_memory=False.\n",
            "  exec(code_obj, self.user_global_ns, self.user_ns)\n"
          ]
        }
      ],
      "source": [
        "#found code solution from stackoverflow: https://stackoverflow.com/questions/48376580/google-colab-how-to-read-data-from-my-google-drive\n",
        "\n",
        "from google.colab import drive\n",
        "drive.mount('/content/drive')\n",
        "\n",
        "%cd /content/drive/My Drive/kchien_data/\n",
        "\n",
        "listings = pd.read_csv('listings.csv')"
      ]
    },
    {
      "cell_type": "code",
      "execution_count": 4,
      "id": "05635add-fa7c-4b34-9443-1c053ff05adb",
      "metadata": {
        "id": "05635add-fa7c-4b34-9443-1c053ff05adb"
      },
      "outputs": [],
      "source": [
        "reviews = pd.read_csv('review_comments.csv')"
      ]
    },
    {
      "cell_type": "code",
      "execution_count": 5,
      "id": "4c83361a-06b9-43d3-9146-b0b0dd4c8175",
      "metadata": {
        "colab": {
          "base_uri": "https://localhost:8080/",
          "height": 143
        },
        "id": "4c83361a-06b9-43d3-9146-b0b0dd4c8175",
        "outputId": "ca0d1645-8618-4aa3-b17f-ae1b7baf81fa"
      },
      "outputs": [
        {
          "output_type": "execute_result",
          "data": {
            "text/plain": [
              "   listing_id     id        date  reviewer_id reviewer_name                                           comments\n",
              "0        2595  17857  2009-11-21        50679          Jean  Notre séjour de trois nuits.\\r<br/>Nous avons ...\n",
              "1        2595  19176  2009-12-05        53267          Cate                                  Great experience.\n",
              "2        2595  19760  2009-12-10        38960         Anita  I've stayed with my friend at the Midtown Cast..."
            ],
            "text/html": [
              "\n",
              "  <div id=\"df-9e106a81-a73a-4cf1-b097-b194a8f66536\">\n",
              "    <div class=\"colab-df-container\">\n",
              "      <div>\n",
              "<style scoped>\n",
              "    .dataframe tbody tr th:only-of-type {\n",
              "        vertical-align: middle;\n",
              "    }\n",
              "\n",
              "    .dataframe tbody tr th {\n",
              "        vertical-align: top;\n",
              "    }\n",
              "\n",
              "    .dataframe thead th {\n",
              "        text-align: right;\n",
              "    }\n",
              "</style>\n",
              "<table border=\"1\" class=\"dataframe\">\n",
              "  <thead>\n",
              "    <tr style=\"text-align: right;\">\n",
              "      <th></th>\n",
              "      <th>listing_id</th>\n",
              "      <th>id</th>\n",
              "      <th>date</th>\n",
              "      <th>reviewer_id</th>\n",
              "      <th>reviewer_name</th>\n",
              "      <th>comments</th>\n",
              "    </tr>\n",
              "  </thead>\n",
              "  <tbody>\n",
              "    <tr>\n",
              "      <th>0</th>\n",
              "      <td>2595</td>\n",
              "      <td>17857</td>\n",
              "      <td>2009-11-21</td>\n",
              "      <td>50679</td>\n",
              "      <td>Jean</td>\n",
              "      <td>Notre séjour de trois nuits.\\r&lt;br/&gt;Nous avons ...</td>\n",
              "    </tr>\n",
              "    <tr>\n",
              "      <th>1</th>\n",
              "      <td>2595</td>\n",
              "      <td>19176</td>\n",
              "      <td>2009-12-05</td>\n",
              "      <td>53267</td>\n",
              "      <td>Cate</td>\n",
              "      <td>Great experience.</td>\n",
              "    </tr>\n",
              "    <tr>\n",
              "      <th>2</th>\n",
              "      <td>2595</td>\n",
              "      <td>19760</td>\n",
              "      <td>2009-12-10</td>\n",
              "      <td>38960</td>\n",
              "      <td>Anita</td>\n",
              "      <td>I've stayed with my friend at the Midtown Cast...</td>\n",
              "    </tr>\n",
              "  </tbody>\n",
              "</table>\n",
              "</div>\n",
              "      <button class=\"colab-df-convert\" onclick=\"convertToInteractive('df-9e106a81-a73a-4cf1-b097-b194a8f66536')\"\n",
              "              title=\"Convert this dataframe to an interactive table.\"\n",
              "              style=\"display:none;\">\n",
              "        \n",
              "  <svg xmlns=\"http://www.w3.org/2000/svg\" height=\"24px\"viewBox=\"0 0 24 24\"\n",
              "       width=\"24px\">\n",
              "    <path d=\"M0 0h24v24H0V0z\" fill=\"none\"/>\n",
              "    <path d=\"M18.56 5.44l.94 2.06.94-2.06 2.06-.94-2.06-.94-.94-2.06-.94 2.06-2.06.94zm-11 1L8.5 8.5l.94-2.06 2.06-.94-2.06-.94L8.5 2.5l-.94 2.06-2.06.94zm10 10l.94 2.06.94-2.06 2.06-.94-2.06-.94-.94-2.06-.94 2.06-2.06.94z\"/><path d=\"M17.41 7.96l-1.37-1.37c-.4-.4-.92-.59-1.43-.59-.52 0-1.04.2-1.43.59L10.3 9.45l-7.72 7.72c-.78.78-.78 2.05 0 2.83L4 21.41c.39.39.9.59 1.41.59.51 0 1.02-.2 1.41-.59l7.78-7.78 2.81-2.81c.8-.78.8-2.07 0-2.86zM5.41 20L4 18.59l7.72-7.72 1.47 1.35L5.41 20z\"/>\n",
              "  </svg>\n",
              "      </button>\n",
              "      \n",
              "  <style>\n",
              "    .colab-df-container {\n",
              "      display:flex;\n",
              "      flex-wrap:wrap;\n",
              "      gap: 12px;\n",
              "    }\n",
              "\n",
              "    .colab-df-convert {\n",
              "      background-color: #E8F0FE;\n",
              "      border: none;\n",
              "      border-radius: 50%;\n",
              "      cursor: pointer;\n",
              "      display: none;\n",
              "      fill: #1967D2;\n",
              "      height: 32px;\n",
              "      padding: 0 0 0 0;\n",
              "      width: 32px;\n",
              "    }\n",
              "\n",
              "    .colab-df-convert:hover {\n",
              "      background-color: #E2EBFA;\n",
              "      box-shadow: 0px 1px 2px rgba(60, 64, 67, 0.3), 0px 1px 3px 1px rgba(60, 64, 67, 0.15);\n",
              "      fill: #174EA6;\n",
              "    }\n",
              "\n",
              "    [theme=dark] .colab-df-convert {\n",
              "      background-color: #3B4455;\n",
              "      fill: #D2E3FC;\n",
              "    }\n",
              "\n",
              "    [theme=dark] .colab-df-convert:hover {\n",
              "      background-color: #434B5C;\n",
              "      box-shadow: 0px 1px 3px 1px rgba(0, 0, 0, 0.15);\n",
              "      filter: drop-shadow(0px 1px 2px rgba(0, 0, 0, 0.3));\n",
              "      fill: #FFFFFF;\n",
              "    }\n",
              "  </style>\n",
              "\n",
              "      <script>\n",
              "        const buttonEl =\n",
              "          document.querySelector('#df-9e106a81-a73a-4cf1-b097-b194a8f66536 button.colab-df-convert');\n",
              "        buttonEl.style.display =\n",
              "          google.colab.kernel.accessAllowed ? 'block' : 'none';\n",
              "\n",
              "        async function convertToInteractive(key) {\n",
              "          const element = document.querySelector('#df-9e106a81-a73a-4cf1-b097-b194a8f66536');\n",
              "          const dataTable =\n",
              "            await google.colab.kernel.invokeFunction('convertToInteractive',\n",
              "                                                     [key], {});\n",
              "          if (!dataTable) return;\n",
              "\n",
              "          const docLinkHtml = 'Like what you see? Visit the ' +\n",
              "            '<a target=\"_blank\" href=https://colab.research.google.com/notebooks/data_table.ipynb>data table notebook</a>'\n",
              "            + ' to learn more about interactive tables.';\n",
              "          element.innerHTML = '';\n",
              "          dataTable['output_type'] = 'display_data';\n",
              "          await google.colab.output.renderOutput(dataTable, element);\n",
              "          const docLink = document.createElement('div');\n",
              "          docLink.innerHTML = docLinkHtml;\n",
              "          element.appendChild(docLink);\n",
              "        }\n",
              "      </script>\n",
              "    </div>\n",
              "  </div>\n",
              "  "
            ]
          },
          "metadata": {},
          "execution_count": 5
        }
      ],
      "source": [
        "reviews.head(3)"
      ]
    },
    {
      "cell_type": "code",
      "execution_count": 6,
      "id": "e9b348c2-8b3b-41c7-b327-f8340cd5416f",
      "metadata": {
        "scrolled": true,
        "tags": [],
        "id": "e9b348c2-8b3b-41c7-b327-f8340cd5416f"
      },
      "outputs": [],
      "source": [
        "listings = listings[['id', 'review_scores_rating', 'review_scores_accuracy', 'review_scores_cleanliness', 'review_scores_checkin', 'review_scores_communication', 'review_scores_location', 'review_scores_value']]\n",
        "listings.columns = listings.columns.str.replace('id', 'listing_id')"
      ]
    },
    {
      "cell_type": "code",
      "execution_count": 7,
      "id": "3652bde0-dc94-4e6b-8049-3a678d191e49",
      "metadata": {
        "id": "3652bde0-dc94-4e6b-8049-3a678d191e49",
        "colab": {
          "base_uri": "https://localhost:8080/"
        },
        "outputId": "80d6a60c-2145-4255-adbb-80c1262bba32"
      },
      "outputs": [
        {
          "output_type": "stream",
          "name": "stderr",
          "text": [
            "/usr/local/lib/python3.7/dist-packages/pandas/util/_decorators.py:311: SettingWithCopyWarning: \n",
            "A value is trying to be set on a copy of a slice from a DataFrame\n",
            "\n",
            "See the caveats in the documentation: https://pandas.pydata.org/pandas-docs/stable/user_guide/indexing.html#returning-a-view-versus-a-copy\n",
            "  return func(*args, **kwargs)\n"
          ]
        }
      ],
      "source": [
        "#drop nulls -- dataset is large enough\n",
        "\n",
        "listings.isna().sum()\n",
        "listings.dropna(inplace=True)"
      ]
    },
    {
      "cell_type": "code",
      "execution_count": 8,
      "id": "36fb6a20-78e1-43be-88da-1a13d1d5875a",
      "metadata": {
        "id": "36fb6a20-78e1-43be-88da-1a13d1d5875a"
      },
      "outputs": [],
      "source": [
        "#drop nulls -- dataset is large enough\n",
        "\n",
        "reviews.isna().sum()\n",
        "reviews.dropna(inplace=True)"
      ]
    },
    {
      "cell_type": "code",
      "execution_count": 9,
      "id": "8007b33a-d2e8-4f40-9d00-98c545d93599",
      "metadata": {
        "colab": {
          "base_uri": "https://localhost:8080/",
          "height": 312
        },
        "id": "8007b33a-d2e8-4f40-9d00-98c545d93599",
        "outputId": "95fafae3-e28f-4ec5-9566-a15ae4461138"
      },
      "outputs": [
        {
          "output_type": "execute_result",
          "data": {
            "text/plain": [
              "   listing_id     id        date  reviewer_id reviewer_name                                           comments  review_scores_rating  review_scores_accuracy  review_scores_cleanliness  review_scores_checkin  review_scores_communication  review_scores_location  review_scores_value\n",
              "0        2595  17857  2009-11-21        50679          Jean  Notre séjour de trois nuits.\\r<br/>Nous avons ...                   4.7                    4.72                       4.62                   4.76                         4.79                    4.86                 4.41\n",
              "1        2595  19176  2009-12-05        53267          Cate                                  Great experience.                   4.7                    4.72                       4.62                   4.76                         4.79                    4.86                 4.41\n",
              "2        2595  19760  2009-12-10        38960         Anita  I've stayed with my friend at the Midtown Cast...                   4.7                    4.72                       4.62                   4.76                         4.79                    4.86                 4.41"
            ],
            "text/html": [
              "\n",
              "  <div id=\"df-cbfe781d-1479-48ad-bc68-628bb3070ed4\">\n",
              "    <div class=\"colab-df-container\">\n",
              "      <div>\n",
              "<style scoped>\n",
              "    .dataframe tbody tr th:only-of-type {\n",
              "        vertical-align: middle;\n",
              "    }\n",
              "\n",
              "    .dataframe tbody tr th {\n",
              "        vertical-align: top;\n",
              "    }\n",
              "\n",
              "    .dataframe thead th {\n",
              "        text-align: right;\n",
              "    }\n",
              "</style>\n",
              "<table border=\"1\" class=\"dataframe\">\n",
              "  <thead>\n",
              "    <tr style=\"text-align: right;\">\n",
              "      <th></th>\n",
              "      <th>listing_id</th>\n",
              "      <th>id</th>\n",
              "      <th>date</th>\n",
              "      <th>reviewer_id</th>\n",
              "      <th>reviewer_name</th>\n",
              "      <th>comments</th>\n",
              "      <th>review_scores_rating</th>\n",
              "      <th>review_scores_accuracy</th>\n",
              "      <th>review_scores_cleanliness</th>\n",
              "      <th>review_scores_checkin</th>\n",
              "      <th>review_scores_communication</th>\n",
              "      <th>review_scores_location</th>\n",
              "      <th>review_scores_value</th>\n",
              "    </tr>\n",
              "  </thead>\n",
              "  <tbody>\n",
              "    <tr>\n",
              "      <th>0</th>\n",
              "      <td>2595</td>\n",
              "      <td>17857</td>\n",
              "      <td>2009-11-21</td>\n",
              "      <td>50679</td>\n",
              "      <td>Jean</td>\n",
              "      <td>Notre séjour de trois nuits.\\r&lt;br/&gt;Nous avons ...</td>\n",
              "      <td>4.7</td>\n",
              "      <td>4.72</td>\n",
              "      <td>4.62</td>\n",
              "      <td>4.76</td>\n",
              "      <td>4.79</td>\n",
              "      <td>4.86</td>\n",
              "      <td>4.41</td>\n",
              "    </tr>\n",
              "    <tr>\n",
              "      <th>1</th>\n",
              "      <td>2595</td>\n",
              "      <td>19176</td>\n",
              "      <td>2009-12-05</td>\n",
              "      <td>53267</td>\n",
              "      <td>Cate</td>\n",
              "      <td>Great experience.</td>\n",
              "      <td>4.7</td>\n",
              "      <td>4.72</td>\n",
              "      <td>4.62</td>\n",
              "      <td>4.76</td>\n",
              "      <td>4.79</td>\n",
              "      <td>4.86</td>\n",
              "      <td>4.41</td>\n",
              "    </tr>\n",
              "    <tr>\n",
              "      <th>2</th>\n",
              "      <td>2595</td>\n",
              "      <td>19760</td>\n",
              "      <td>2009-12-10</td>\n",
              "      <td>38960</td>\n",
              "      <td>Anita</td>\n",
              "      <td>I've stayed with my friend at the Midtown Cast...</td>\n",
              "      <td>4.7</td>\n",
              "      <td>4.72</td>\n",
              "      <td>4.62</td>\n",
              "      <td>4.76</td>\n",
              "      <td>4.79</td>\n",
              "      <td>4.86</td>\n",
              "      <td>4.41</td>\n",
              "    </tr>\n",
              "  </tbody>\n",
              "</table>\n",
              "</div>\n",
              "      <button class=\"colab-df-convert\" onclick=\"convertToInteractive('df-cbfe781d-1479-48ad-bc68-628bb3070ed4')\"\n",
              "              title=\"Convert this dataframe to an interactive table.\"\n",
              "              style=\"display:none;\">\n",
              "        \n",
              "  <svg xmlns=\"http://www.w3.org/2000/svg\" height=\"24px\"viewBox=\"0 0 24 24\"\n",
              "       width=\"24px\">\n",
              "    <path d=\"M0 0h24v24H0V0z\" fill=\"none\"/>\n",
              "    <path d=\"M18.56 5.44l.94 2.06.94-2.06 2.06-.94-2.06-.94-.94-2.06-.94 2.06-2.06.94zm-11 1L8.5 8.5l.94-2.06 2.06-.94-2.06-.94L8.5 2.5l-.94 2.06-2.06.94zm10 10l.94 2.06.94-2.06 2.06-.94-2.06-.94-.94-2.06-.94 2.06-2.06.94z\"/><path d=\"M17.41 7.96l-1.37-1.37c-.4-.4-.92-.59-1.43-.59-.52 0-1.04.2-1.43.59L10.3 9.45l-7.72 7.72c-.78.78-.78 2.05 0 2.83L4 21.41c.39.39.9.59 1.41.59.51 0 1.02-.2 1.41-.59l7.78-7.78 2.81-2.81c.8-.78.8-2.07 0-2.86zM5.41 20L4 18.59l7.72-7.72 1.47 1.35L5.41 20z\"/>\n",
              "  </svg>\n",
              "      </button>\n",
              "      \n",
              "  <style>\n",
              "    .colab-df-container {\n",
              "      display:flex;\n",
              "      flex-wrap:wrap;\n",
              "      gap: 12px;\n",
              "    }\n",
              "\n",
              "    .colab-df-convert {\n",
              "      background-color: #E8F0FE;\n",
              "      border: none;\n",
              "      border-radius: 50%;\n",
              "      cursor: pointer;\n",
              "      display: none;\n",
              "      fill: #1967D2;\n",
              "      height: 32px;\n",
              "      padding: 0 0 0 0;\n",
              "      width: 32px;\n",
              "    }\n",
              "\n",
              "    .colab-df-convert:hover {\n",
              "      background-color: #E2EBFA;\n",
              "      box-shadow: 0px 1px 2px rgba(60, 64, 67, 0.3), 0px 1px 3px 1px rgba(60, 64, 67, 0.15);\n",
              "      fill: #174EA6;\n",
              "    }\n",
              "\n",
              "    [theme=dark] .colab-df-convert {\n",
              "      background-color: #3B4455;\n",
              "      fill: #D2E3FC;\n",
              "    }\n",
              "\n",
              "    [theme=dark] .colab-df-convert:hover {\n",
              "      background-color: #434B5C;\n",
              "      box-shadow: 0px 1px 3px 1px rgba(0, 0, 0, 0.15);\n",
              "      filter: drop-shadow(0px 1px 2px rgba(0, 0, 0, 0.3));\n",
              "      fill: #FFFFFF;\n",
              "    }\n",
              "  </style>\n",
              "\n",
              "      <script>\n",
              "        const buttonEl =\n",
              "          document.querySelector('#df-cbfe781d-1479-48ad-bc68-628bb3070ed4 button.colab-df-convert');\n",
              "        buttonEl.style.display =\n",
              "          google.colab.kernel.accessAllowed ? 'block' : 'none';\n",
              "\n",
              "        async function convertToInteractive(key) {\n",
              "          const element = document.querySelector('#df-cbfe781d-1479-48ad-bc68-628bb3070ed4');\n",
              "          const dataTable =\n",
              "            await google.colab.kernel.invokeFunction('convertToInteractive',\n",
              "                                                     [key], {});\n",
              "          if (!dataTable) return;\n",
              "\n",
              "          const docLinkHtml = 'Like what you see? Visit the ' +\n",
              "            '<a target=\"_blank\" href=https://colab.research.google.com/notebooks/data_table.ipynb>data table notebook</a>'\n",
              "            + ' to learn more about interactive tables.';\n",
              "          element.innerHTML = '';\n",
              "          dataTable['output_type'] = 'display_data';\n",
              "          await google.colab.output.renderOutput(dataTable, element);\n",
              "          const docLink = document.createElement('div');\n",
              "          docLink.innerHTML = docLinkHtml;\n",
              "          element.appendChild(docLink);\n",
              "        }\n",
              "      </script>\n",
              "    </div>\n",
              "  </div>\n",
              "  "
            ]
          },
          "metadata": {},
          "execution_count": 9
        }
      ],
      "source": [
        "#merge listings and review data together\n",
        "\n",
        "df = reviews.merge(listings, how='left', on='listing_id')\n",
        "df.head(3)"
      ]
    },
    {
      "cell_type": "code",
      "execution_count": 10,
      "id": "c492c81f-cea5-4458-884c-09b39d923a4a",
      "metadata": {
        "id": "c492c81f-cea5-4458-884c-09b39d923a4a"
      },
      "outputs": [],
      "source": [
        "#remove html code within comments\n",
        "\n",
        "df['comments'] = df['comments'].replace('\\r<br/>',' ', regex=True) \n",
        "df['comments'] = df['comments'].replace('\\'',' ', regex=True) "
      ]
    },
    {
      "cell_type": "code",
      "execution_count": 11,
      "id": "a38f8fde-8b86-43a7-b29a-de1dd30f0981",
      "metadata": {
        "colab": {
          "base_uri": "https://localhost:8080/",
          "height": 53
        },
        "id": "a38f8fde-8b86-43a7-b29a-de1dd30f0981",
        "outputId": "a2aa0886-0c18-49e6-bb93-2e14f1060431"
      },
      "outputs": [
        {
          "output_type": "execute_result",
          "data": {
            "text/plain": [
              "'Jennifer s place is cozy and a short walking distance from Time Square. The place was big enough for two.  Jennifer left detailed instructions and was also helpful in terms of recommending great places in NY.  Everything was great:)'"
            ],
            "application/vnd.google.colaboratory.intrinsic+json": {
              "type": "string"
            }
          },
          "metadata": {},
          "execution_count": 11
        }
      ],
      "source": [
        "#check replace worked\n",
        "\n",
        "df['comments'].iloc[12]"
      ]
    },
    {
      "cell_type": "code",
      "execution_count": null,
      "id": "0f40ab29-0ce4-4f85-a1d9-d107848dcd12",
      "metadata": {
        "scrolled": true,
        "tags": [],
        "id": "0f40ab29-0ce4-4f85-a1d9-d107848dcd12"
      },
      "outputs": [],
      "source": [
        "#detect language of comments\n",
        "#used stackoverflow code to fix errors when detecting languages:\n",
        "#https://stackoverflow.com/questions/63573625/langdetectexception-how-to-fix-it-by-adding-all-rows-not-detected-as-other\n",
        "\n",
        "def detect_lang(x):\n",
        "    try:\n",
        "        lang = detect(x)\n",
        "    except:\n",
        "        lang = 'Other'\n",
        "    return lang\n",
        "\n",
        "df['language'] = df['comments'].apply(detect_lang)"
      ]
    },
    {
      "cell_type": "code",
      "execution_count": null,
      "id": "2efe11b2-ca44-4801-a7b7-fc576d5ef98a",
      "metadata": {
        "id": "2efe11b2-ca44-4801-a7b7-fc576d5ef98a"
      },
      "outputs": [],
      "source": [
        "#check language column\n",
        "df.head(3)"
      ]
    },
    {
      "cell_type": "code",
      "execution_count": null,
      "id": "67505060-c9b3-47cc-a1c4-66321911f862",
      "metadata": {
        "id": "67505060-c9b3-47cc-a1c4-66321911f862"
      },
      "outputs": [],
      "source": [
        "#add word count column\n",
        "df['word_count'] = df['comments'].str.count(' ')+1"
      ]
    },
    {
      "cell_type": "code",
      "execution_count": null,
      "id": "49bb18ab-0f30-46c3-ba7d-82d74d9b9611",
      "metadata": {
        "id": "49bb18ab-0f30-46c3-ba7d-82d74d9b9611"
      },
      "outputs": [],
      "source": [
        "#check word count column\n",
        "df.head(3)"
      ]
    }
  ],
  "metadata": {
    "kernelspec": {
      "display_name": "Python 3 (ipykernel)",
      "language": "python",
      "name": "python3"
    },
    "language_info": {
      "codemirror_mode": {
        "name": "ipython",
        "version": 3
      },
      "file_extension": ".py",
      "mimetype": "text/x-python",
      "name": "python",
      "nbconvert_exporter": "python",
      "pygments_lexer": "ipython3",
      "version": "3.9.7"
    },
    "colab": {
      "name": "00 - Data Cleaning - Raw.ipynb",
      "provenance": [],
      "collapsed_sections": [],
      "machine_shape": "hm"
    }
  },
  "nbformat": 4,
  "nbformat_minor": 5
}