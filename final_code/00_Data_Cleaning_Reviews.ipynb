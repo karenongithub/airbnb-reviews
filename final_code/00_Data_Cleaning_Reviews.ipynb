{
  "cells": [
    {
      "cell_type": "markdown",
      "id": "3cfb1ff3-6e2d-41bf-909d-0877dec934e3",
      "metadata": {
        "id": "3cfb1ff3-6e2d-41bf-909d-0877dec934e3"
      },
      "source": [
        "## Data Cleaning - Reviews"
      ]
    },
    {
      "cell_type": "code",
      "execution_count": 1,
      "id": "dc986d29-36a0-4962-b4ae-ce047c8e03da",
      "metadata": {
        "id": "dc986d29-36a0-4962-b4ae-ce047c8e03da"
      },
      "outputs": [],
      "source": [
        "import pandas as pd\n",
        "import numpy as np\n",
        "import matplotlib.pyplot as plt\n",
        "import seaborn as sns\n",
        "\n",
        "from sklearn.feature_extraction.text import CountVectorizer\n",
        "from sklearn.feature_extraction import text\n",
        "\n",
        "from nltk.tokenize import sent_tokenize, word_tokenize, RegexpTokenizer\n",
        "from nltk.stem import WordNetLemmatizer\n",
        "from nltk.stem.porter import PorterStemmer\n",
        "from nltk.corpus import stopwords\n",
        "\n",
        "pd.set_option('display.max_rows', 1000)\n",
        "pd.set_option('display.max_columns', 500)\n",
        "pd.set_option('display.width', 1000)"
      ]
    },
    {
      "cell_type": "code",
      "execution_count": 2,
      "id": "af093149-11ff-44a5-b7a8-325fb96f1b97",
      "metadata": {
        "id": "af093149-11ff-44a5-b7a8-325fb96f1b97",
        "colab": {
          "base_uri": "https://localhost:8080/"
        },
        "outputId": "ab9e6d72-bec2-4018-eb46-4a3ac23b3819"
      },
      "outputs": [
        {
          "output_type": "stream",
          "name": "stdout",
          "text": [
            "Mounted at /content/drive\n",
            "/content/drive/My Drive/kchien_data\n"
          ]
        }
      ],
      "source": [
        "#found code solution from stackoverflow: https://stackoverflow.com/questions/48376580/google-colab-how-to-read-data-from-my-google-drive\n",
        "\n",
        "from google.colab import drive\n",
        "drive.mount('/content/drive')\n",
        "\n",
        "%cd /content/drive/My Drive/kchien_data/\n",
        "\n",
        "df = pd.read_csv('clean_review_and_scores2.csv')"
      ]
    },
    {
      "cell_type": "code",
      "execution_count": 3,
      "id": "af9c6dfc-ec58-4367-acc4-6c07f2b4871d",
      "metadata": {
        "id": "af9c6dfc-ec58-4367-acc4-6c07f2b4871d",
        "outputId": "d4f1c8c7-5602-40f7-d65f-36f4a343c9d8",
        "colab": {
          "base_uri": "https://localhost:8080/",
          "height": 468
        }
      },
      "outputs": [
        {
          "output_type": "execute_result",
          "data": {
            "text/plain": [
              "   listing_id       id        date  reviewer_id reviewer_name                                           comments  review_scores_rating  review_scores_accuracy  review_scores_cleanliness  review_scores_checkin  review_scores_communication  review_scores_location  review_scores_value language  word_count  overall_score_bin\n",
              "0        2595  19760.0  2009-12-10      38960.0         Anita  I ve stayed with my friend at the Midtown Cast...                   4.7                    4.72                       4.62                   4.76                         4.79                    4.86                 4.41       en        93.0                4.5\n",
              "1        2595  34320.0  2010-04-09      71130.0       Kai-Uwe  We ve been staying here for about 9 nights, en...                   4.7                    4.72                       4.62                   4.76                         4.79                    4.86                 4.41       en        67.0                4.5\n",
              "2        2595  46312.0  2010-05-25     117113.0        Alicia  We had a wonderful stay at Jennifer s charming...                   4.7                    4.72                       4.62                   4.76                         4.79                    4.86                 4.41       en        25.0                4.5"
            ],
            "text/html": [
              "\n",
              "  <div id=\"df-632f87c1-e084-4197-86ee-26248a7dbfe3\">\n",
              "    <div class=\"colab-df-container\">\n",
              "      <div>\n",
              "<style scoped>\n",
              "    .dataframe tbody tr th:only-of-type {\n",
              "        vertical-align: middle;\n",
              "    }\n",
              "\n",
              "    .dataframe tbody tr th {\n",
              "        vertical-align: top;\n",
              "    }\n",
              "\n",
              "    .dataframe thead th {\n",
              "        text-align: right;\n",
              "    }\n",
              "</style>\n",
              "<table border=\"1\" class=\"dataframe\">\n",
              "  <thead>\n",
              "    <tr style=\"text-align: right;\">\n",
              "      <th></th>\n",
              "      <th>listing_id</th>\n",
              "      <th>id</th>\n",
              "      <th>date</th>\n",
              "      <th>reviewer_id</th>\n",
              "      <th>reviewer_name</th>\n",
              "      <th>comments</th>\n",
              "      <th>review_scores_rating</th>\n",
              "      <th>review_scores_accuracy</th>\n",
              "      <th>review_scores_cleanliness</th>\n",
              "      <th>review_scores_checkin</th>\n",
              "      <th>review_scores_communication</th>\n",
              "      <th>review_scores_location</th>\n",
              "      <th>review_scores_value</th>\n",
              "      <th>language</th>\n",
              "      <th>word_count</th>\n",
              "      <th>overall_score_bin</th>\n",
              "    </tr>\n",
              "  </thead>\n",
              "  <tbody>\n",
              "    <tr>\n",
              "      <th>0</th>\n",
              "      <td>2595</td>\n",
              "      <td>19760.0</td>\n",
              "      <td>2009-12-10</td>\n",
              "      <td>38960.0</td>\n",
              "      <td>Anita</td>\n",
              "      <td>I ve stayed with my friend at the Midtown Cast...</td>\n",
              "      <td>4.7</td>\n",
              "      <td>4.72</td>\n",
              "      <td>4.62</td>\n",
              "      <td>4.76</td>\n",
              "      <td>4.79</td>\n",
              "      <td>4.86</td>\n",
              "      <td>4.41</td>\n",
              "      <td>en</td>\n",
              "      <td>93.0</td>\n",
              "      <td>4.5</td>\n",
              "    </tr>\n",
              "    <tr>\n",
              "      <th>1</th>\n",
              "      <td>2595</td>\n",
              "      <td>34320.0</td>\n",
              "      <td>2010-04-09</td>\n",
              "      <td>71130.0</td>\n",
              "      <td>Kai-Uwe</td>\n",
              "      <td>We ve been staying here for about 9 nights, en...</td>\n",
              "      <td>4.7</td>\n",
              "      <td>4.72</td>\n",
              "      <td>4.62</td>\n",
              "      <td>4.76</td>\n",
              "      <td>4.79</td>\n",
              "      <td>4.86</td>\n",
              "      <td>4.41</td>\n",
              "      <td>en</td>\n",
              "      <td>67.0</td>\n",
              "      <td>4.5</td>\n",
              "    </tr>\n",
              "    <tr>\n",
              "      <th>2</th>\n",
              "      <td>2595</td>\n",
              "      <td>46312.0</td>\n",
              "      <td>2010-05-25</td>\n",
              "      <td>117113.0</td>\n",
              "      <td>Alicia</td>\n",
              "      <td>We had a wonderful stay at Jennifer s charming...</td>\n",
              "      <td>4.7</td>\n",
              "      <td>4.72</td>\n",
              "      <td>4.62</td>\n",
              "      <td>4.76</td>\n",
              "      <td>4.79</td>\n",
              "      <td>4.86</td>\n",
              "      <td>4.41</td>\n",
              "      <td>en</td>\n",
              "      <td>25.0</td>\n",
              "      <td>4.5</td>\n",
              "    </tr>\n",
              "  </tbody>\n",
              "</table>\n",
              "</div>\n",
              "      <button class=\"colab-df-convert\" onclick=\"convertToInteractive('df-632f87c1-e084-4197-86ee-26248a7dbfe3')\"\n",
              "              title=\"Convert this dataframe to an interactive table.\"\n",
              "              style=\"display:none;\">\n",
              "        \n",
              "  <svg xmlns=\"http://www.w3.org/2000/svg\" height=\"24px\"viewBox=\"0 0 24 24\"\n",
              "       width=\"24px\">\n",
              "    <path d=\"M0 0h24v24H0V0z\" fill=\"none\"/>\n",
              "    <path d=\"M18.56 5.44l.94 2.06.94-2.06 2.06-.94-2.06-.94-.94-2.06-.94 2.06-2.06.94zm-11 1L8.5 8.5l.94-2.06 2.06-.94-2.06-.94L8.5 2.5l-.94 2.06-2.06.94zm10 10l.94 2.06.94-2.06 2.06-.94-2.06-.94-.94-2.06-.94 2.06-2.06.94z\"/><path d=\"M17.41 7.96l-1.37-1.37c-.4-.4-.92-.59-1.43-.59-.52 0-1.04.2-1.43.59L10.3 9.45l-7.72 7.72c-.78.78-.78 2.05 0 2.83L4 21.41c.39.39.9.59 1.41.59.51 0 1.02-.2 1.41-.59l7.78-7.78 2.81-2.81c.8-.78.8-2.07 0-2.86zM5.41 20L4 18.59l7.72-7.72 1.47 1.35L5.41 20z\"/>\n",
              "  </svg>\n",
              "      </button>\n",
              "      \n",
              "  <style>\n",
              "    .colab-df-container {\n",
              "      display:flex;\n",
              "      flex-wrap:wrap;\n",
              "      gap: 12px;\n",
              "    }\n",
              "\n",
              "    .colab-df-convert {\n",
              "      background-color: #E8F0FE;\n",
              "      border: none;\n",
              "      border-radius: 50%;\n",
              "      cursor: pointer;\n",
              "      display: none;\n",
              "      fill: #1967D2;\n",
              "      height: 32px;\n",
              "      padding: 0 0 0 0;\n",
              "      width: 32px;\n",
              "    }\n",
              "\n",
              "    .colab-df-convert:hover {\n",
              "      background-color: #E2EBFA;\n",
              "      box-shadow: 0px 1px 2px rgba(60, 64, 67, 0.3), 0px 1px 3px 1px rgba(60, 64, 67, 0.15);\n",
              "      fill: #174EA6;\n",
              "    }\n",
              "\n",
              "    [theme=dark] .colab-df-convert {\n",
              "      background-color: #3B4455;\n",
              "      fill: #D2E3FC;\n",
              "    }\n",
              "\n",
              "    [theme=dark] .colab-df-convert:hover {\n",
              "      background-color: #434B5C;\n",
              "      box-shadow: 0px 1px 3px 1px rgba(0, 0, 0, 0.15);\n",
              "      filter: drop-shadow(0px 1px 2px rgba(0, 0, 0, 0.3));\n",
              "      fill: #FFFFFF;\n",
              "    }\n",
              "  </style>\n",
              "\n",
              "      <script>\n",
              "        const buttonEl =\n",
              "          document.querySelector('#df-632f87c1-e084-4197-86ee-26248a7dbfe3 button.colab-df-convert');\n",
              "        buttonEl.style.display =\n",
              "          google.colab.kernel.accessAllowed ? 'block' : 'none';\n",
              "\n",
              "        async function convertToInteractive(key) {\n",
              "          const element = document.querySelector('#df-632f87c1-e084-4197-86ee-26248a7dbfe3');\n",
              "          const dataTable =\n",
              "            await google.colab.kernel.invokeFunction('convertToInteractive',\n",
              "                                                     [key], {});\n",
              "          if (!dataTable) return;\n",
              "\n",
              "          const docLinkHtml = 'Like what you see? Visit the ' +\n",
              "            '<a target=\"_blank\" href=https://colab.research.google.com/notebooks/data_table.ipynb>data table notebook</a>'\n",
              "            + ' to learn more about interactive tables.';\n",
              "          element.innerHTML = '';\n",
              "          dataTable['output_type'] = 'display_data';\n",
              "          await google.colab.output.renderOutput(dataTable, element);\n",
              "          const docLink = document.createElement('div');\n",
              "          docLink.innerHTML = docLinkHtml;\n",
              "          element.appendChild(docLink);\n",
              "        }\n",
              "      </script>\n",
              "    </div>\n",
              "  </div>\n",
              "  "
            ]
          },
          "metadata": {},
          "execution_count": 3
        }
      ],
      "source": [
        "df.head(3)"
      ]
    },
    {
      "cell_type": "code",
      "execution_count": 4,
      "id": "f7766d38-8043-49f9-b485-6b13435f7e83",
      "metadata": {
        "id": "f7766d38-8043-49f9-b485-6b13435f7e83"
      },
      "outputs": [],
      "source": [
        "#remove puncutation from comments\n",
        "\n",
        "df['comments'] = df['comments'].str.replace(r'[^\\w\\s]', '', regex=True)"
      ]
    },
    {
      "cell_type": "code",
      "execution_count": 5,
      "id": "e438fc68-fb43-4cb6-98ab-6d4f88f7ac0a",
      "metadata": {
        "id": "e438fc68-fb43-4cb6-98ab-6d4f88f7ac0a"
      },
      "outputs": [],
      "source": [
        "#change comments to lowercase\n",
        "\n",
        "df['comments'] = df['comments'].str.lower()"
      ]
    },
    {
      "cell_type": "code",
      "execution_count": 6,
      "id": "f0bcfc28-4dbc-447c-9a79-bd714f0f620f",
      "metadata": {
        "id": "f0bcfc28-4dbc-447c-9a79-bd714f0f620f",
        "outputId": "33f5350c-6f48-4d5f-9d38-021d294b3ec0",
        "colab": {
          "base_uri": "https://localhost:8080/",
          "height": 468
        }
      },
      "outputs": [
        {
          "output_type": "execute_result",
          "data": {
            "text/plain": [
              "   listing_id       id        date  reviewer_id reviewer_name                                           comments  review_scores_rating  review_scores_accuracy  review_scores_cleanliness  review_scores_checkin  review_scores_communication  review_scores_location  review_scores_value language  word_count  overall_score_bin\n",
              "0        2595  19760.0  2009-12-10      38960.0         Anita  i ve stayed with my friend at the midtown cast...                   4.7                    4.72                       4.62                   4.76                         4.79                    4.86                 4.41       en        93.0                4.5\n",
              "1        2595  34320.0  2010-04-09      71130.0       Kai-Uwe  we ve been staying here for about 9 nights enj...                   4.7                    4.72                       4.62                   4.76                         4.79                    4.86                 4.41       en        67.0                4.5\n",
              "2        2595  46312.0  2010-05-25     117113.0        Alicia  we had a wonderful stay at jennifer s charming...                   4.7                    4.72                       4.62                   4.76                         4.79                    4.86                 4.41       en        25.0                4.5"
            ],
            "text/html": [
              "\n",
              "  <div id=\"df-b7b897f1-893e-4f5b-8826-8e68699382fb\">\n",
              "    <div class=\"colab-df-container\">\n",
              "      <div>\n",
              "<style scoped>\n",
              "    .dataframe tbody tr th:only-of-type {\n",
              "        vertical-align: middle;\n",
              "    }\n",
              "\n",
              "    .dataframe tbody tr th {\n",
              "        vertical-align: top;\n",
              "    }\n",
              "\n",
              "    .dataframe thead th {\n",
              "        text-align: right;\n",
              "    }\n",
              "</style>\n",
              "<table border=\"1\" class=\"dataframe\">\n",
              "  <thead>\n",
              "    <tr style=\"text-align: right;\">\n",
              "      <th></th>\n",
              "      <th>listing_id</th>\n",
              "      <th>id</th>\n",
              "      <th>date</th>\n",
              "      <th>reviewer_id</th>\n",
              "      <th>reviewer_name</th>\n",
              "      <th>comments</th>\n",
              "      <th>review_scores_rating</th>\n",
              "      <th>review_scores_accuracy</th>\n",
              "      <th>review_scores_cleanliness</th>\n",
              "      <th>review_scores_checkin</th>\n",
              "      <th>review_scores_communication</th>\n",
              "      <th>review_scores_location</th>\n",
              "      <th>review_scores_value</th>\n",
              "      <th>language</th>\n",
              "      <th>word_count</th>\n",
              "      <th>overall_score_bin</th>\n",
              "    </tr>\n",
              "  </thead>\n",
              "  <tbody>\n",
              "    <tr>\n",
              "      <th>0</th>\n",
              "      <td>2595</td>\n",
              "      <td>19760.0</td>\n",
              "      <td>2009-12-10</td>\n",
              "      <td>38960.0</td>\n",
              "      <td>Anita</td>\n",
              "      <td>i ve stayed with my friend at the midtown cast...</td>\n",
              "      <td>4.7</td>\n",
              "      <td>4.72</td>\n",
              "      <td>4.62</td>\n",
              "      <td>4.76</td>\n",
              "      <td>4.79</td>\n",
              "      <td>4.86</td>\n",
              "      <td>4.41</td>\n",
              "      <td>en</td>\n",
              "      <td>93.0</td>\n",
              "      <td>4.5</td>\n",
              "    </tr>\n",
              "    <tr>\n",
              "      <th>1</th>\n",
              "      <td>2595</td>\n",
              "      <td>34320.0</td>\n",
              "      <td>2010-04-09</td>\n",
              "      <td>71130.0</td>\n",
              "      <td>Kai-Uwe</td>\n",
              "      <td>we ve been staying here for about 9 nights enj...</td>\n",
              "      <td>4.7</td>\n",
              "      <td>4.72</td>\n",
              "      <td>4.62</td>\n",
              "      <td>4.76</td>\n",
              "      <td>4.79</td>\n",
              "      <td>4.86</td>\n",
              "      <td>4.41</td>\n",
              "      <td>en</td>\n",
              "      <td>67.0</td>\n",
              "      <td>4.5</td>\n",
              "    </tr>\n",
              "    <tr>\n",
              "      <th>2</th>\n",
              "      <td>2595</td>\n",
              "      <td>46312.0</td>\n",
              "      <td>2010-05-25</td>\n",
              "      <td>117113.0</td>\n",
              "      <td>Alicia</td>\n",
              "      <td>we had a wonderful stay at jennifer s charming...</td>\n",
              "      <td>4.7</td>\n",
              "      <td>4.72</td>\n",
              "      <td>4.62</td>\n",
              "      <td>4.76</td>\n",
              "      <td>4.79</td>\n",
              "      <td>4.86</td>\n",
              "      <td>4.41</td>\n",
              "      <td>en</td>\n",
              "      <td>25.0</td>\n",
              "      <td>4.5</td>\n",
              "    </tr>\n",
              "  </tbody>\n",
              "</table>\n",
              "</div>\n",
              "      <button class=\"colab-df-convert\" onclick=\"convertToInteractive('df-b7b897f1-893e-4f5b-8826-8e68699382fb')\"\n",
              "              title=\"Convert this dataframe to an interactive table.\"\n",
              "              style=\"display:none;\">\n",
              "        \n",
              "  <svg xmlns=\"http://www.w3.org/2000/svg\" height=\"24px\"viewBox=\"0 0 24 24\"\n",
              "       width=\"24px\">\n",
              "    <path d=\"M0 0h24v24H0V0z\" fill=\"none\"/>\n",
              "    <path d=\"M18.56 5.44l.94 2.06.94-2.06 2.06-.94-2.06-.94-.94-2.06-.94 2.06-2.06.94zm-11 1L8.5 8.5l.94-2.06 2.06-.94-2.06-.94L8.5 2.5l-.94 2.06-2.06.94zm10 10l.94 2.06.94-2.06 2.06-.94-2.06-.94-.94-2.06-.94 2.06-2.06.94z\"/><path d=\"M17.41 7.96l-1.37-1.37c-.4-.4-.92-.59-1.43-.59-.52 0-1.04.2-1.43.59L10.3 9.45l-7.72 7.72c-.78.78-.78 2.05 0 2.83L4 21.41c.39.39.9.59 1.41.59.51 0 1.02-.2 1.41-.59l7.78-7.78 2.81-2.81c.8-.78.8-2.07 0-2.86zM5.41 20L4 18.59l7.72-7.72 1.47 1.35L5.41 20z\"/>\n",
              "  </svg>\n",
              "      </button>\n",
              "      \n",
              "  <style>\n",
              "    .colab-df-container {\n",
              "      display:flex;\n",
              "      flex-wrap:wrap;\n",
              "      gap: 12px;\n",
              "    }\n",
              "\n",
              "    .colab-df-convert {\n",
              "      background-color: #E8F0FE;\n",
              "      border: none;\n",
              "      border-radius: 50%;\n",
              "      cursor: pointer;\n",
              "      display: none;\n",
              "      fill: #1967D2;\n",
              "      height: 32px;\n",
              "      padding: 0 0 0 0;\n",
              "      width: 32px;\n",
              "    }\n",
              "\n",
              "    .colab-df-convert:hover {\n",
              "      background-color: #E2EBFA;\n",
              "      box-shadow: 0px 1px 2px rgba(60, 64, 67, 0.3), 0px 1px 3px 1px rgba(60, 64, 67, 0.15);\n",
              "      fill: #174EA6;\n",
              "    }\n",
              "\n",
              "    [theme=dark] .colab-df-convert {\n",
              "      background-color: #3B4455;\n",
              "      fill: #D2E3FC;\n",
              "    }\n",
              "\n",
              "    [theme=dark] .colab-df-convert:hover {\n",
              "      background-color: #434B5C;\n",
              "      box-shadow: 0px 1px 3px 1px rgba(0, 0, 0, 0.15);\n",
              "      filter: drop-shadow(0px 1px 2px rgba(0, 0, 0, 0.3));\n",
              "      fill: #FFFFFF;\n",
              "    }\n",
              "  </style>\n",
              "\n",
              "      <script>\n",
              "        const buttonEl =\n",
              "          document.querySelector('#df-b7b897f1-893e-4f5b-8826-8e68699382fb button.colab-df-convert');\n",
              "        buttonEl.style.display =\n",
              "          google.colab.kernel.accessAllowed ? 'block' : 'none';\n",
              "\n",
              "        async function convertToInteractive(key) {\n",
              "          const element = document.querySelector('#df-b7b897f1-893e-4f5b-8826-8e68699382fb');\n",
              "          const dataTable =\n",
              "            await google.colab.kernel.invokeFunction('convertToInteractive',\n",
              "                                                     [key], {});\n",
              "          if (!dataTable) return;\n",
              "\n",
              "          const docLinkHtml = 'Like what you see? Visit the ' +\n",
              "            '<a target=\"_blank\" href=https://colab.research.google.com/notebooks/data_table.ipynb>data table notebook</a>'\n",
              "            + ' to learn more about interactive tables.';\n",
              "          element.innerHTML = '';\n",
              "          dataTable['output_type'] = 'display_data';\n",
              "          await google.colab.output.renderOutput(dataTable, element);\n",
              "          const docLink = document.createElement('div');\n",
              "          docLink.innerHTML = docLinkHtml;\n",
              "          element.appendChild(docLink);\n",
              "        }\n",
              "      </script>\n",
              "    </div>\n",
              "  </div>\n",
              "  "
            ]
          },
          "metadata": {},
          "execution_count": 6
        }
      ],
      "source": [
        "df.head(3)"
      ]
    },
    {
      "cell_type": "code",
      "execution_count": 7,
      "id": "5e6454ef-e7d5-4565-ac80-733fef3363d4",
      "metadata": {
        "id": "5e6454ef-e7d5-4565-ac80-733fef3363d4",
        "outputId": "c1c72c7f-308a-46c6-f976-3ff82bb0c25c",
        "colab": {
          "base_uri": "https://localhost:8080/"
        }
      },
      "outputs": [
        {
          "output_type": "stream",
          "name": "stdout",
          "text": [
            "<class 'pandas.core.frame.DataFrame'>\n",
            "RangeIndex: 602390 entries, 0 to 602389\n",
            "Data columns (total 16 columns):\n",
            " #   Column                       Non-Null Count   Dtype  \n",
            "---  ------                       --------------   -----  \n",
            " 0   listing_id                   602390 non-null  int64  \n",
            " 1   id                           602390 non-null  float64\n",
            " 2   date                         602390 non-null  object \n",
            " 3   reviewer_id                  602390 non-null  float64\n",
            " 4   reviewer_name                602390 non-null  object \n",
            " 5   comments                     602390 non-null  object \n",
            " 6   review_scores_rating         602390 non-null  float64\n",
            " 7   review_scores_accuracy       602390 non-null  float64\n",
            " 8   review_scores_cleanliness    602390 non-null  float64\n",
            " 9   review_scores_checkin        602390 non-null  float64\n",
            " 10  review_scores_communication  602390 non-null  float64\n",
            " 11  review_scores_location       602390 non-null  float64\n",
            " 12  review_scores_value          602390 non-null  float64\n",
            " 13  language                     602390 non-null  object \n",
            " 14  word_count                   602390 non-null  float64\n",
            " 15  overall_score_bin            602390 non-null  float64\n",
            "dtypes: float64(11), int64(1), object(4)\n",
            "memory usage: 73.5+ MB\n"
          ]
        }
      ],
      "source": [
        "df.info()"
      ]
    },
    {
      "cell_type": "code",
      "execution_count": 8,
      "id": "7cd33eca-27d7-49a9-aa30-f08acf9a380f",
      "metadata": {
        "id": "7cd33eca-27d7-49a9-aa30-f08acf9a380f",
        "outputId": "3ba4d43b-b927-4a51-e722-c0fa6382ecc3",
        "colab": {
          "base_uri": "https://localhost:8080/"
        }
      },
      "outputs": [
        {
          "output_type": "execute_result",
          "data": {
            "text/plain": [
              "listing_id                     0\n",
              "id                             0\n",
              "date                           0\n",
              "reviewer_id                    0\n",
              "reviewer_name                  0\n",
              "comments                       0\n",
              "review_scores_rating           0\n",
              "review_scores_accuracy         0\n",
              "review_scores_cleanliness      0\n",
              "review_scores_checkin          0\n",
              "review_scores_communication    0\n",
              "review_scores_location         0\n",
              "review_scores_value            0\n",
              "language                       0\n",
              "word_count                     0\n",
              "overall_score_bin              0\n",
              "dtype: int64"
            ]
          },
          "metadata": {},
          "execution_count": 8
        }
      ],
      "source": [
        "df.isna().sum()"
      ]
    },
    {
      "cell_type": "code",
      "execution_count": 9,
      "id": "6d731d4c-91ed-4200-a640-06c512e430e7",
      "metadata": {
        "id": "6d731d4c-91ed-4200-a640-06c512e430e7"
      },
      "outputs": [],
      "source": [
        "#export total cleaned review data to csv and created dataframe\n",
        "df2 = df[['id', 'date', 'reviewer_id', 'comments', 'review_scores_rating', 'review_scores_accuracy',\n",
        "           'review_scores_cleanliness', 'review_scores_checkin', 'review_scores_communication', 'review_scores_location',\n",
        "           'review_scores_value', 'overall_score_bin']]"
      ]
    },
    {
      "cell_type": "code",
      "execution_count": 10,
      "id": "9bbcec89-9306-4186-ae99-96230fff899b",
      "metadata": {
        "id": "9bbcec89-9306-4186-ae99-96230fff899b"
      },
      "outputs": [],
      "source": [
        "#split data into separate categories\n",
        "\n",
        "zero = df2[(df2['review_scores_rating'] >= 0) & (df2['review_scores_rating'] <1)]\n",
        "one = df2[(df2['review_scores_rating'] >= 1) & (df2['review_scores_rating'] <2)]\n",
        "two = df2[(df2['review_scores_rating'] >= 2) & (df2['review_scores_rating'] <3)]\n",
        "three = df2[(df2['review_scores_rating'] >= 3) & (df2['review_scores_rating'] <4)]\n",
        "four = df2[(df2['review_scores_rating'] >= 4) & (df2['review_scores_rating'] <5)]\n",
        "five = df2[df2['review_scores_rating'] == 5]"
      ]
    },
    {
      "cell_type": "code",
      "execution_count": 11,
      "id": "a5cba986-1cbd-4a22-9dba-ad1931408e33",
      "metadata": {
        "id": "a5cba986-1cbd-4a22-9dba-ad1931408e33",
        "outputId": "62886cc1-a56a-40bd-a16e-c291d52ed648",
        "colab": {
          "base_uri": "https://localhost:8080/"
        }
      },
      "outputs": [
        {
          "output_type": "stream",
          "name": "stdout",
          "text": [
            "0\n",
            "153\n",
            "181\n",
            "2391\n",
            "568756\n",
            "30909\n"
          ]
        }
      ],
      "source": [
        "#check counts of reviews \n",
        "\n",
        "print(len(zero))\n",
        "print(len(one))\n",
        "print(len(two))\n",
        "print(len(three))\n",
        "print(len(four))\n",
        "print(len(five))"
      ]
    },
    {
      "cell_type": "code",
      "execution_count": 12,
      "id": "abcdc313-e4e7-4d61-ba1c-806742eaa009",
      "metadata": {
        "id": "abcdc313-e4e7-4d61-ba1c-806742eaa009"
      },
      "outputs": [],
      "source": [
        "#randomly sampled % of original dataset\n",
        "zerosampled = zero.sample(frac=0.02)\n",
        "onesampled = one.sample(frac=0.02)\n",
        "twosampled = two.sample(frac=0.02)\n",
        "threesampled = three.sample(frac=0.02)\n",
        "foursampled = four.sample(frac=0.02)\n",
        "fivesampled = five.sample(frac=0.02)\n",
        "zerototwo = df[(df['review_scores_rating'] >= 0) & (df['review_scores_rating'] <3)]"
      ]
    },
    {
      "cell_type": "code",
      "execution_count": 13,
      "id": "7ffb16a9-57cf-42b8-be94-6ecaacbaa31a",
      "metadata": {
        "id": "7ffb16a9-57cf-42b8-be94-6ecaacbaa31a",
        "outputId": "d5031eb7-ed16-49e0-9039-e7305607b5bd",
        "colab": {
          "base_uri": "https://localhost:8080/"
        }
      },
      "outputs": [
        {
          "output_type": "stream",
          "name": "stdout",
          "text": [
            "0\n",
            "3\n",
            "48\n",
            "11375\n",
            "618\n",
            "334\n"
          ]
        }
      ],
      "source": [
        "print(len(zerosampled))\n",
        "print(len(onesampled))\n",
        "print(len(threesampled))\n",
        "print(len(foursampled))\n",
        "print(len(fivesampled))\n",
        "print(len(zerototwo))"
      ]
    },
    {
      "cell_type": "markdown",
      "id": "de9af427-b7df-4d7d-87ef-ca7206e5f360",
      "metadata": {
        "id": "de9af427-b7df-4d7d-87ef-ca7206e5f360"
      },
      "source": [
        "* for ratings that are between 0 and less than 4, there are significantly less observations\n",
        "* attempt to combine for vectorizing to analyze in groups. 3 will be middle, 0-2 will be its own category"
      ]
    }
  ],
  "metadata": {
    "kernelspec": {
      "display_name": "Python 3 (ipykernel)",
      "language": "python",
      "name": "python3"
    },
    "language_info": {
      "codemirror_mode": {
        "name": "ipython",
        "version": 3
      },
      "file_extension": ".py",
      "mimetype": "text/x-python",
      "name": "python",
      "nbconvert_exporter": "python",
      "pygments_lexer": "ipython3",
      "version": "3.9.7"
    },
    "colab": {
      "name": "00 - Data Cleaning - Reviews.ipynb",
      "provenance": [],
      "collapsed_sections": []
    }
  },
  "nbformat": 4,
  "nbformat_minor": 5
}