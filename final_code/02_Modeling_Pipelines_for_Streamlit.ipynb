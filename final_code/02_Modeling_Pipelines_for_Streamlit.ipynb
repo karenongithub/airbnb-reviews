{
  "cells": [
    {
      "cell_type": "markdown",
      "metadata": {
        "id": "LtahS-KzLhnk"
      },
      "source": [
        "#Setting Up Pipeline for Streamlit"
      ]
    },
    {
      "cell_type": "code",
      "execution_count": 1,
      "metadata": {
        "id": "LUfvqD5DLkt7"
      },
      "outputs": [],
      "source": [
        "import pandas as pd\n",
        "import numpy as np\n",
        "import matplotlib.pyplot as plt\n",
        "import seaborn as sns\n",
        "\n",
        "from sklearn.pipeline import Pipeline\n",
        "from sklearn.feature_extraction.text import CountVectorizer\n",
        "from sklearn.feature_extraction import text\n",
        "from sklearn.model_selection import train_test_split\n",
        "from sklearn.linear_model import LogisticRegression\n",
        "\n",
        "from nltk.tokenize import sent_tokenize, word_tokenize, RegexpTokenizer\n",
        "from nltk.stem import WordNetLemmatizer\n",
        "from nltk.stem.porter import PorterStemmer\n",
        "from nltk.corpus import stopwords\n",
        "from spacy.lang.en.stop_words import STOP_WORDS\n",
        "\n",
        "import pickle\n",
        "\n",
        "pd.set_option('display.max_rows', 1000)\n",
        "pd.set_option('display.max_columns', 500)\n",
        "pd.set_option('display.width', 1000)\n",
        "\n",
        "#setting random seed for all items\n",
        "np.random.seed(42)"
      ]
    },
    {
      "cell_type": "code",
      "execution_count": 2,
      "metadata": {
        "colab": {
          "base_uri": "https://localhost:8080/"
        },
        "id": "97vWPu_3LloO",
        "outputId": "b06af3a5-5476-47de-ffff-0ed3b36ff94f"
      },
      "outputs": [
        {
          "output_type": "stream",
          "name": "stdout",
          "text": [
            "Mounted at /content/drive\n",
            "/content/drive/My Drive/kchien_data\n"
          ]
        }
      ],
      "source": [
        "#found code solution from stackoverflow: https://stackoverflow.com/questions/48376580/google-colab-how-to-read-data-from-my-google-drive\n",
        "\n",
        "from google.colab import drive\n",
        "drive.mount('/content/drive')\n",
        "\n",
        "%cd /content/drive/My Drive/kchien_data/\n",
        "\n",
        "df = pd.read_csv('review_data_for_modeling.csv')"
      ]
    },
    {
      "cell_type": "code",
      "execution_count": 3,
      "metadata": {
        "colab": {
          "base_uri": "https://localhost:8080/",
          "height": 143
        },
        "id": "GxGV5gApMwWI",
        "outputId": "553c8c80-2067-426b-898f-f66c9a0d6af5"
      },
      "outputs": [
        {
          "output_type": "execute_result",
          "data": {
            "text/plain": [
              "                                            comments  location  host  hygeine  comfort  cost\n",
              "0              dont like deposit 2weeks release card         0     0        0        0     0\n",
              "1  location location location best spot city went...         1     1        0        0     0\n",
              "2  hello experience nice gonzalo nora great lande...         0     1        1        1     0"
            ],
            "text/html": [
              "\n",
              "  <div id=\"df-c3ef64c1-3316-4124-8936-b02581a7659b\">\n",
              "    <div class=\"colab-df-container\">\n",
              "      <div>\n",
              "<style scoped>\n",
              "    .dataframe tbody tr th:only-of-type {\n",
              "        vertical-align: middle;\n",
              "    }\n",
              "\n",
              "    .dataframe tbody tr th {\n",
              "        vertical-align: top;\n",
              "    }\n",
              "\n",
              "    .dataframe thead th {\n",
              "        text-align: right;\n",
              "    }\n",
              "</style>\n",
              "<table border=\"1\" class=\"dataframe\">\n",
              "  <thead>\n",
              "    <tr style=\"text-align: right;\">\n",
              "      <th></th>\n",
              "      <th>comments</th>\n",
              "      <th>location</th>\n",
              "      <th>host</th>\n",
              "      <th>hygeine</th>\n",
              "      <th>comfort</th>\n",
              "      <th>cost</th>\n",
              "    </tr>\n",
              "  </thead>\n",
              "  <tbody>\n",
              "    <tr>\n",
              "      <th>0</th>\n",
              "      <td>dont like deposit 2weeks release card</td>\n",
              "      <td>0</td>\n",
              "      <td>0</td>\n",
              "      <td>0</td>\n",
              "      <td>0</td>\n",
              "      <td>0</td>\n",
              "    </tr>\n",
              "    <tr>\n",
              "      <th>1</th>\n",
              "      <td>location location location best spot city went...</td>\n",
              "      <td>1</td>\n",
              "      <td>1</td>\n",
              "      <td>0</td>\n",
              "      <td>0</td>\n",
              "      <td>0</td>\n",
              "    </tr>\n",
              "    <tr>\n",
              "      <th>2</th>\n",
              "      <td>hello experience nice gonzalo nora great lande...</td>\n",
              "      <td>0</td>\n",
              "      <td>1</td>\n",
              "      <td>1</td>\n",
              "      <td>1</td>\n",
              "      <td>0</td>\n",
              "    </tr>\n",
              "  </tbody>\n",
              "</table>\n",
              "</div>\n",
              "      <button class=\"colab-df-convert\" onclick=\"convertToInteractive('df-c3ef64c1-3316-4124-8936-b02581a7659b')\"\n",
              "              title=\"Convert this dataframe to an interactive table.\"\n",
              "              style=\"display:none;\">\n",
              "        \n",
              "  <svg xmlns=\"http://www.w3.org/2000/svg\" height=\"24px\"viewBox=\"0 0 24 24\"\n",
              "       width=\"24px\">\n",
              "    <path d=\"M0 0h24v24H0V0z\" fill=\"none\"/>\n",
              "    <path d=\"M18.56 5.44l.94 2.06.94-2.06 2.06-.94-2.06-.94-.94-2.06-.94 2.06-2.06.94zm-11 1L8.5 8.5l.94-2.06 2.06-.94-2.06-.94L8.5 2.5l-.94 2.06-2.06.94zm10 10l.94 2.06.94-2.06 2.06-.94-2.06-.94-.94-2.06-.94 2.06-2.06.94z\"/><path d=\"M17.41 7.96l-1.37-1.37c-.4-.4-.92-.59-1.43-.59-.52 0-1.04.2-1.43.59L10.3 9.45l-7.72 7.72c-.78.78-.78 2.05 0 2.83L4 21.41c.39.39.9.59 1.41.59.51 0 1.02-.2 1.41-.59l7.78-7.78 2.81-2.81c.8-.78.8-2.07 0-2.86zM5.41 20L4 18.59l7.72-7.72 1.47 1.35L5.41 20z\"/>\n",
              "  </svg>\n",
              "      </button>\n",
              "      \n",
              "  <style>\n",
              "    .colab-df-container {\n",
              "      display:flex;\n",
              "      flex-wrap:wrap;\n",
              "      gap: 12px;\n",
              "    }\n",
              "\n",
              "    .colab-df-convert {\n",
              "      background-color: #E8F0FE;\n",
              "      border: none;\n",
              "      border-radius: 50%;\n",
              "      cursor: pointer;\n",
              "      display: none;\n",
              "      fill: #1967D2;\n",
              "      height: 32px;\n",
              "      padding: 0 0 0 0;\n",
              "      width: 32px;\n",
              "    }\n",
              "\n",
              "    .colab-df-convert:hover {\n",
              "      background-color: #E2EBFA;\n",
              "      box-shadow: 0px 1px 2px rgba(60, 64, 67, 0.3), 0px 1px 3px 1px rgba(60, 64, 67, 0.15);\n",
              "      fill: #174EA6;\n",
              "    }\n",
              "\n",
              "    [theme=dark] .colab-df-convert {\n",
              "      background-color: #3B4455;\n",
              "      fill: #D2E3FC;\n",
              "    }\n",
              "\n",
              "    [theme=dark] .colab-df-convert:hover {\n",
              "      background-color: #434B5C;\n",
              "      box-shadow: 0px 1px 3px 1px rgba(0, 0, 0, 0.15);\n",
              "      filter: drop-shadow(0px 1px 2px rgba(0, 0, 0, 0.3));\n",
              "      fill: #FFFFFF;\n",
              "    }\n",
              "  </style>\n",
              "\n",
              "      <script>\n",
              "        const buttonEl =\n",
              "          document.querySelector('#df-c3ef64c1-3316-4124-8936-b02581a7659b button.colab-df-convert');\n",
              "        buttonEl.style.display =\n",
              "          google.colab.kernel.accessAllowed ? 'block' : 'none';\n",
              "\n",
              "        async function convertToInteractive(key) {\n",
              "          const element = document.querySelector('#df-c3ef64c1-3316-4124-8936-b02581a7659b');\n",
              "          const dataTable =\n",
              "            await google.colab.kernel.invokeFunction('convertToInteractive',\n",
              "                                                     [key], {});\n",
              "          if (!dataTable) return;\n",
              "\n",
              "          const docLinkHtml = 'Like what you see? Visit the ' +\n",
              "            '<a target=\"_blank\" href=https://colab.research.google.com/notebooks/data_table.ipynb>data table notebook</a>'\n",
              "            + ' to learn more about interactive tables.';\n",
              "          element.innerHTML = '';\n",
              "          dataTable['output_type'] = 'display_data';\n",
              "          await google.colab.output.renderOutput(dataTable, element);\n",
              "          const docLink = document.createElement('div');\n",
              "          docLink.innerHTML = docLinkHtml;\n",
              "          element.appendChild(docLink);\n",
              "        }\n",
              "      </script>\n",
              "    </div>\n",
              "  </div>\n",
              "  "
            ]
          },
          "metadata": {},
          "execution_count": 3
        }
      ],
      "source": [
        "df.head(3)"
      ]
    },
    {
      "cell_type": "code",
      "execution_count": 4,
      "metadata": {
        "id": "5plNRak6MxFJ"
      },
      "outputs": [],
      "source": [
        "#creating function to create and pickle pipelines\n",
        "def pickle_pipelines (target):\n",
        "\n",
        "  #prepare dataframes\n",
        "  X = df['comments']\n",
        "  y = df[target]\n",
        "\n",
        "  #train test split\n",
        "  X_train, X_test, y_train, y_test = train_test_split(X, y, stratify=y)\n",
        "\n",
        "  #set up stopwords\n",
        "  custom_stop = ['airbnb', 'air bnb', 't', 's', 'air', 'bnb', 'new', 'york', 'new york', 'stay', 'place', 'apartment', 'll', 've']\n",
        "  stop_words = text.ENGLISH_STOP_WORDS.union(custom_stop).union(STOP_WORDS)\n",
        "\n",
        "  #set up pipeline\n",
        "  pipe = Pipeline([\n",
        "    ('cv', CountVectorizer(stop_words = stop_words)),\n",
        "    ('lr', LogisticRegression(solver='liblinear'))])\n",
        "  \n",
        "  #fit pipeline\n",
        "  pipe.fit(X_train,y_train)\n",
        "\n",
        "  #pickle pipeline\n",
        "  with open('{}_pipe.pkl'.format(target), 'wb') as pickle_out:\n",
        "    pickle_out = pickle.dump(pipe, pickle_out)\n",
        "\n",
        "  print(f'{target} pickle completed')\n",
        "\n",
        "  return"
      ]
    },
    {
      "cell_type": "code",
      "execution_count": 5,
      "metadata": {
        "colab": {
          "base_uri": "https://localhost:8080/"
        },
        "id": "2KDXxIXiQ-_4",
        "outputId": "70819164-5de7-44d4-b9ad-d6724f246198"
      },
      "outputs": [
        {
          "output_type": "stream",
          "name": "stdout",
          "text": [
            "location pickle completed\n",
            "host pickle completed\n",
            "hygeine pickle completed\n",
            "comfort pickle completed\n"
          ]
        }
      ],
      "source": [
        "#run features through pickle function\n",
        "\n",
        "features = ['location', 'host', 'hygeine', 'comfort']\n",
        "\n",
        "for x in features:\n",
        "  pickle_pipelines(x)"
      ]
    },
    {
      "cell_type": "code",
      "execution_count": 6,
      "metadata": {
        "id": "MkcLrrD_uJto",
        "colab": {
          "base_uri": "https://localhost:8080/"
        },
        "outputId": "ad535f7a-e709-4039-b336-0c12fe284985"
      },
      "outputs": [
        {
          "output_type": "stream",
          "name": "stdout",
          "text": [
            "cost pickle completed\n"
          ]
        }
      ],
      "source": [
        "#pickle cost with weighted average\n",
        "\n",
        "X = df['comments']\n",
        "y = df['cost']\n",
        "\n",
        "#train test split\n",
        "X_train, X_test, y_train, y_test = train_test_split(X, y, stratify=y)\n",
        "\n",
        "#set up stopwords\n",
        "custom_stop = ['airbnb', 'air bnb', 't', 's', 'air', 'bnb', 'new', 'york', 'new york', 'stay', 'place', 'apartment', 'll', 've']\n",
        "stop_words = text.ENGLISH_STOP_WORDS.union(custom_stop).union(STOP_WORDS)\n",
        "\n",
        "#set up weighted average\n",
        "cost_w = {0:1, 1:94}\n",
        "\n",
        "#set up pipeline\n",
        "pipe = Pipeline([\n",
        "    ('cv', CountVectorizer(stop_words = stop_words)),\n",
        "    ('lr', LogisticRegression(solver='liblinear', class_weight=cost_w))])\n",
        "  \n",
        "#fit pipeline\n",
        "pipe.fit(X_train,y_train)\n",
        "\n",
        "#pickle pipeline\n",
        "with open('cost_pipe.pkl', 'wb') as pickle_out:\n",
        "    pickle_out = pickle.dump(pipe, pickle_out)\n",
        "\n",
        "print(f'cost pickle completed')"
      ]
    },
    {
      "cell_type": "markdown",
      "metadata": {
        "id": "54JzSL3qSSmt"
      },
      "source": [
        "# Test Pickled Pipelines"
      ]
    },
    {
      "cell_type": "code",
      "execution_count": 7,
      "metadata": {
        "id": "5RTUmelXSXMs"
      },
      "outputs": [],
      "source": [
        "with open('location_pipe.pkl', 'rb') as pickle_in:\n",
        "    pipe = pickle.load(pickle_in)"
      ]
    },
    {
      "cell_type": "code",
      "execution_count": 8,
      "metadata": {
        "colab": {
          "base_uri": "https://localhost:8080/"
        },
        "id": "fUDuWncVSdGv",
        "outputId": "9b6e95dc-b421-4795-a9d6-77af9dda03bb"
      },
      "outputs": [
        {
          "output_type": "execute_result",
          "data": {
            "text/plain": [
              "array([1])"
            ]
          },
          "metadata": {},
          "execution_count": 8
        }
      ],
      "source": [
        "pipe.predict(['great sam accommodating responds super fast messages definite plus train close looks exactly photos'])"
      ]
    },
    {
      "cell_type": "code",
      "execution_count": 8,
      "metadata": {
        "id": "gQoXTLZDSj5_"
      },
      "outputs": [],
      "source": [
        ""
      ]
    }
  ],
  "metadata": {
    "colab": {
      "collapsed_sections": [],
      "name": "02 - Modeling - Pipelines_for_Streamlit.ipynb",
      "provenance": []
    },
    "kernelspec": {
      "display_name": "Python 3 (ipykernel)",
      "language": "python",
      "name": "python3"
    },
    "language_info": {
      "codemirror_mode": {
        "name": "ipython",
        "version": 3
      },
      "file_extension": ".py",
      "mimetype": "text/x-python",
      "name": "python",
      "nbconvert_exporter": "python",
      "pygments_lexer": "ipython3",
      "version": "3.9.7"
    }
  },
  "nbformat": 4,
  "nbformat_minor": 0
}