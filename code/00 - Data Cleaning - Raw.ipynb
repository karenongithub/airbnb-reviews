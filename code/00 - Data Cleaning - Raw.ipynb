{
 "cells": [
  {
   "cell_type": "markdown",
   "id": "c04b53ef-6628-4eba-9460-2eee43d4b2ff",
   "metadata": {},
   "source": [
    "### Data Cleaning - Raw Data for Reviews and Ratings"
   ]
  },
  {
   "cell_type": "code",
   "execution_count": 1,
   "id": "721d4cda-c770-4253-b7e7-b89608c0afe0",
   "metadata": {},
   "outputs": [],
   "source": [
    "import pandas as pd\n",
    "import numpy as np\n",
    "from langdetect import detect\n",
    "\n",
    "pd.set_option('display.max_rows', 1000)\n",
    "pd.set_option('display.max_columns', 500)\n",
    "pd.set_option('display.width', 1000)"
   ]
  },
  {
   "cell_type": "code",
   "execution_count": 2,
   "id": "ba0f6172-8025-4e40-af8a-c3da72038e51",
   "metadata": {},
   "outputs": [
    {
     "name": "stderr",
     "output_type": "stream",
     "text": [
      "/Users/karenchien/opt/anaconda3/lib/python3.9/site-packages/IPython/core/interactiveshell.py:3444: DtypeWarning: Columns (67) have mixed types.Specify dtype option on import or set low_memory=False.\n",
      "  exec(code_obj, self.user_global_ns, self.user_ns)\n"
     ]
    }
   ],
   "source": [
    "url = 'https://drive.google.com/file/d/1UTYaZWaIPRl_MNdyzPOEilQf33nUQm4_/view?usp=sharing'\n",
    "path = 'https://drive.google.com/uc?export=download&id='+url.split('/')[-2]\n",
    "\n",
    "listings = pd.read_csv(path)"
   ]
  },
  {
   "cell_type": "code",
   "execution_count": 3,
   "id": "05635add-fa7c-4b34-9443-1c053ff05adb",
   "metadata": {},
   "outputs": [],
   "source": [
    "url2 = 'https://drive.google.com/file/d/1icjWWfkJppQxtkhwYlwlWeWGOaKYe8QQ/view?usp=sharing'\n",
    "path2 = 'https://drive.google.com/uc?export=download&id='+url2.split('/')[-2]\n",
    "\n",
    "reviews = pd.read_csv(path2)"
   ]
  },
  {
   "cell_type": "code",
   "execution_count": 4,
   "id": "4c83361a-06b9-43d3-9146-b0b0dd4c8175",
   "metadata": {},
   "outputs": [
    {
     "data": {
      "text/html": [
       "<div>\n",
       "<style scoped>\n",
       "    .dataframe tbody tr th:only-of-type {\n",
       "        vertical-align: middle;\n",
       "    }\n",
       "\n",
       "    .dataframe tbody tr th {\n",
       "        vertical-align: top;\n",
       "    }\n",
       "\n",
       "    .dataframe thead th {\n",
       "        text-align: right;\n",
       "    }\n",
       "</style>\n",
       "<table border=\"1\" class=\"dataframe\">\n",
       "  <thead>\n",
       "    <tr style=\"text-align: right;\">\n",
       "      <th></th>\n",
       "      <th>listing_id</th>\n",
       "      <th>id</th>\n",
       "      <th>date</th>\n",
       "      <th>reviewer_id</th>\n",
       "      <th>reviewer_name</th>\n",
       "      <th>comments</th>\n",
       "    </tr>\n",
       "  </thead>\n",
       "  <tbody>\n",
       "    <tr>\n",
       "      <th>0</th>\n",
       "      <td>2595</td>\n",
       "      <td>17857</td>\n",
       "      <td>2009-11-21</td>\n",
       "      <td>50679</td>\n",
       "      <td>Jean</td>\n",
       "      <td>Notre séjour de trois nuits.\\r&lt;br/&gt;Nous avons ...</td>\n",
       "    </tr>\n",
       "    <tr>\n",
       "      <th>1</th>\n",
       "      <td>2595</td>\n",
       "      <td>19176</td>\n",
       "      <td>2009-12-05</td>\n",
       "      <td>53267</td>\n",
       "      <td>Cate</td>\n",
       "      <td>Great experience.</td>\n",
       "    </tr>\n",
       "    <tr>\n",
       "      <th>2</th>\n",
       "      <td>2595</td>\n",
       "      <td>19760</td>\n",
       "      <td>2009-12-10</td>\n",
       "      <td>38960</td>\n",
       "      <td>Anita</td>\n",
       "      <td>I've stayed with my friend at the Midtown Cast...</td>\n",
       "    </tr>\n",
       "  </tbody>\n",
       "</table>\n",
       "</div>"
      ],
      "text/plain": [
       "   listing_id     id        date  reviewer_id reviewer_name                                           comments\n",
       "0        2595  17857  2009-11-21        50679          Jean  Notre séjour de trois nuits.\\r<br/>Nous avons ...\n",
       "1        2595  19176  2009-12-05        53267          Cate                                  Great experience.\n",
       "2        2595  19760  2009-12-10        38960         Anita  I've stayed with my friend at the Midtown Cast..."
      ]
     },
     "execution_count": 4,
     "metadata": {},
     "output_type": "execute_result"
    }
   ],
   "source": [
    "reviews.head(3)"
   ]
  },
  {
   "cell_type": "code",
   "execution_count": 5,
   "id": "e9b348c2-8b3b-41c7-b327-f8340cd5416f",
   "metadata": {
    "scrolled": true,
    "tags": []
   },
   "outputs": [],
   "source": [
    "listings = listings[['id', 'review_scores_rating', 'review_scores_accuracy', 'review_scores_cleanliness', 'review_scores_checkin', 'review_scores_communication', 'review_scores_location', 'review_scores_value']]\n",
    "listings.columns = listings.columns.str.replace('id', 'listing_id')"
   ]
  },
  {
   "cell_type": "code",
   "execution_count": 6,
   "id": "3652bde0-dc94-4e6b-8049-3a678d191e49",
   "metadata": {},
   "outputs": [],
   "source": [
    "#drop nulls -- dataset is large enough\n",
    "\n",
    "listings.isna().sum()\n",
    "listings.dropna(inplace=True)"
   ]
  },
  {
   "cell_type": "code",
   "execution_count": 7,
   "id": "36fb6a20-78e1-43be-88da-1a13d1d5875a",
   "metadata": {},
   "outputs": [],
   "source": [
    "#drop nulls -- dataset is large enough\n",
    "\n",
    "reviews.isna().sum()\n",
    "reviews.dropna(inplace=True)"
   ]
  },
  {
   "cell_type": "code",
   "execution_count": 8,
   "id": "8007b33a-d2e8-4f40-9d00-98c545d93599",
   "metadata": {},
   "outputs": [
    {
     "data": {
      "text/html": [
       "<div>\n",
       "<style scoped>\n",
       "    .dataframe tbody tr th:only-of-type {\n",
       "        vertical-align: middle;\n",
       "    }\n",
       "\n",
       "    .dataframe tbody tr th {\n",
       "        vertical-align: top;\n",
       "    }\n",
       "\n",
       "    .dataframe thead th {\n",
       "        text-align: right;\n",
       "    }\n",
       "</style>\n",
       "<table border=\"1\" class=\"dataframe\">\n",
       "  <thead>\n",
       "    <tr style=\"text-align: right;\">\n",
       "      <th></th>\n",
       "      <th>listing_id</th>\n",
       "      <th>id</th>\n",
       "      <th>date</th>\n",
       "      <th>reviewer_id</th>\n",
       "      <th>reviewer_name</th>\n",
       "      <th>comments</th>\n",
       "      <th>review_scores_rating</th>\n",
       "      <th>review_scores_accuracy</th>\n",
       "      <th>review_scores_cleanliness</th>\n",
       "      <th>review_scores_checkin</th>\n",
       "      <th>review_scores_communication</th>\n",
       "      <th>review_scores_location</th>\n",
       "      <th>review_scores_value</th>\n",
       "    </tr>\n",
       "  </thead>\n",
       "  <tbody>\n",
       "    <tr>\n",
       "      <th>0</th>\n",
       "      <td>2595</td>\n",
       "      <td>17857</td>\n",
       "      <td>2009-11-21</td>\n",
       "      <td>50679</td>\n",
       "      <td>Jean</td>\n",
       "      <td>Notre séjour de trois nuits.\\r&lt;br/&gt;Nous avons ...</td>\n",
       "      <td>4.7</td>\n",
       "      <td>4.72</td>\n",
       "      <td>4.62</td>\n",
       "      <td>4.76</td>\n",
       "      <td>4.79</td>\n",
       "      <td>4.86</td>\n",
       "      <td>4.41</td>\n",
       "    </tr>\n",
       "    <tr>\n",
       "      <th>1</th>\n",
       "      <td>2595</td>\n",
       "      <td>19176</td>\n",
       "      <td>2009-12-05</td>\n",
       "      <td>53267</td>\n",
       "      <td>Cate</td>\n",
       "      <td>Great experience.</td>\n",
       "      <td>4.7</td>\n",
       "      <td>4.72</td>\n",
       "      <td>4.62</td>\n",
       "      <td>4.76</td>\n",
       "      <td>4.79</td>\n",
       "      <td>4.86</td>\n",
       "      <td>4.41</td>\n",
       "    </tr>\n",
       "    <tr>\n",
       "      <th>2</th>\n",
       "      <td>2595</td>\n",
       "      <td>19760</td>\n",
       "      <td>2009-12-10</td>\n",
       "      <td>38960</td>\n",
       "      <td>Anita</td>\n",
       "      <td>I've stayed with my friend at the Midtown Cast...</td>\n",
       "      <td>4.7</td>\n",
       "      <td>4.72</td>\n",
       "      <td>4.62</td>\n",
       "      <td>4.76</td>\n",
       "      <td>4.79</td>\n",
       "      <td>4.86</td>\n",
       "      <td>4.41</td>\n",
       "    </tr>\n",
       "  </tbody>\n",
       "</table>\n",
       "</div>"
      ],
      "text/plain": [
       "   listing_id     id        date  reviewer_id reviewer_name                                           comments  review_scores_rating  review_scores_accuracy  review_scores_cleanliness  review_scores_checkin  review_scores_communication  review_scores_location  review_scores_value\n",
       "0        2595  17857  2009-11-21        50679          Jean  Notre séjour de trois nuits.\\r<br/>Nous avons ...                   4.7                    4.72                       4.62                   4.76                         4.79                    4.86                 4.41\n",
       "1        2595  19176  2009-12-05        53267          Cate                                  Great experience.                   4.7                    4.72                       4.62                   4.76                         4.79                    4.86                 4.41\n",
       "2        2595  19760  2009-12-10        38960         Anita  I've stayed with my friend at the Midtown Cast...                   4.7                    4.72                       4.62                   4.76                         4.79                    4.86                 4.41"
      ]
     },
     "execution_count": 8,
     "metadata": {},
     "output_type": "execute_result"
    }
   ],
   "source": [
    "#merge listings and review data together\n",
    "\n",
    "df = reviews.merge(listings, how='left', on='listing_id')\n",
    "df.head(3)"
   ]
  },
  {
   "cell_type": "code",
   "execution_count": 9,
   "id": "b0091fd5-2345-4ef2-81a9-967dc2862941",
   "metadata": {},
   "outputs": [
    {
     "data": {
      "text/plain": [
       "\"Jennifer's place is cozy and a short walking distance from Time Square. The place was big enough for two. \\r<br/>Jennifer left detailed instructions and was also helpful in terms of recommending great places in NY.\\r<br/>\\r<br/>Everything was great:)\""
      ]
     },
     "execution_count": 9,
     "metadata": {},
     "output_type": "execute_result"
    }
   ],
   "source": [
    "#check why csv is importing strangely based on html breaks \n",
    "\n",
    "df['comments'].iloc[12]"
   ]
  },
  {
   "cell_type": "code",
   "execution_count": 10,
   "id": "c492c81f-cea5-4458-884c-09b39d923a4a",
   "metadata": {},
   "outputs": [],
   "source": [
    "#remove html code within comments\n",
    "\n",
    "df['comments'] = df['comments'].replace('\\r<br/>',' ', regex=True) \n",
    "df['comments'] = df['comments'].replace('\\'',' ', regex=True) "
   ]
  },
  {
   "cell_type": "code",
   "execution_count": 11,
   "id": "a38f8fde-8b86-43a7-b29a-de1dd30f0981",
   "metadata": {},
   "outputs": [
    {
     "data": {
      "text/plain": [
       "'Jennifer s place is cozy and a short walking distance from Time Square. The place was big enough for two.  Jennifer left detailed instructions and was also helpful in terms of recommending great places in NY.  Everything was great:)'"
      ]
     },
     "execution_count": 11,
     "metadata": {},
     "output_type": "execute_result"
    }
   ],
   "source": [
    "#check replace worked\n",
    "\n",
    "df['comments'].iloc[12]"
   ]
  },
  {
   "cell_type": "code",
   "execution_count": 12,
   "id": "e161476b-a14b-4803-a89b-524fa186e9ac",
   "metadata": {},
   "outputs": [
    {
     "data": {
      "text/plain": [
       "'Notre séjour de trois nuits. Nous avons apprécier L appartement qui est très bien situé. Agréable, propre et bien soigné. C est idéal pour une famille de 3 ou 4 personnes. Petits soucis en arrivant il y avait personne pour nous recevoir, et il manquait le savon pour la douche, le liquide vaisselle, nous les avons reçu de surlendemain. Il y a aussi le bruit du Métro de NY, donc une première nuit difficile si on est pas habitué. Jennifer est correcte le remboursement de la caution était très rapide.  A part ces petits détails notre court séjour c est bien passé.  Si j ai la possibilité de revenir sur NY pour les vacances, je reprendrai à \"The Midtown Castle\" Jean Possession - Ile de La Réunion '"
      ]
     },
     "execution_count": 12,
     "metadata": {},
     "output_type": "execute_result"
    }
   ],
   "source": [
    "df['comments'].iloc[0]"
   ]
  },
  {
   "cell_type": "code",
   "execution_count": 13,
   "id": "0f40ab29-0ce4-4f85-a1d9-d107848dcd12",
   "metadata": {
    "scrolled": true,
    "tags": []
   },
   "outputs": [],
   "source": [
    "#detect language of comments\n",
    "#used stackoverflow code to fix errors when detecting languages:\n",
    "#https://stackoverflow.com/questions/63573625/langdetectexception-how-to-fix-it-by-adding-all-rows-not-detected-as-other\n",
    "\n",
    "def detect_lang(x):\n",
    "    try:\n",
    "        lang = detect(x)\n",
    "    except:\n",
    "        lang = 'Other'\n",
    "    return lang\n",
    "\n",
    "df['language'] = df['comments'].apply(detect_lang)"
   ]
  },
  {
   "cell_type": "code",
   "execution_count": 14,
   "id": "2efe11b2-ca44-4801-a7b7-fc576d5ef98a",
   "metadata": {},
   "outputs": [
    {
     "data": {
      "text/html": [
       "<div>\n",
       "<style scoped>\n",
       "    .dataframe tbody tr th:only-of-type {\n",
       "        vertical-align: middle;\n",
       "    }\n",
       "\n",
       "    .dataframe tbody tr th {\n",
       "        vertical-align: top;\n",
       "    }\n",
       "\n",
       "    .dataframe thead th {\n",
       "        text-align: right;\n",
       "    }\n",
       "</style>\n",
       "<table border=\"1\" class=\"dataframe\">\n",
       "  <thead>\n",
       "    <tr style=\"text-align: right;\">\n",
       "      <th></th>\n",
       "      <th>listing_id</th>\n",
       "      <th>id</th>\n",
       "      <th>date</th>\n",
       "      <th>reviewer_id</th>\n",
       "      <th>reviewer_name</th>\n",
       "      <th>comments</th>\n",
       "      <th>review_scores_rating</th>\n",
       "      <th>review_scores_accuracy</th>\n",
       "      <th>review_scores_cleanliness</th>\n",
       "      <th>review_scores_checkin</th>\n",
       "      <th>review_scores_communication</th>\n",
       "      <th>review_scores_location</th>\n",
       "      <th>review_scores_value</th>\n",
       "      <th>language</th>\n",
       "    </tr>\n",
       "  </thead>\n",
       "  <tbody>\n",
       "    <tr>\n",
       "      <th>0</th>\n",
       "      <td>2595</td>\n",
       "      <td>17857</td>\n",
       "      <td>2009-11-21</td>\n",
       "      <td>50679</td>\n",
       "      <td>Jean</td>\n",
       "      <td>Notre séjour de trois nuits. Nous avons appréc...</td>\n",
       "      <td>4.7</td>\n",
       "      <td>4.72</td>\n",
       "      <td>4.62</td>\n",
       "      <td>4.76</td>\n",
       "      <td>4.79</td>\n",
       "      <td>4.86</td>\n",
       "      <td>4.41</td>\n",
       "      <td>fr</td>\n",
       "    </tr>\n",
       "    <tr>\n",
       "      <th>1</th>\n",
       "      <td>2595</td>\n",
       "      <td>19176</td>\n",
       "      <td>2009-12-05</td>\n",
       "      <td>53267</td>\n",
       "      <td>Cate</td>\n",
       "      <td>Great experience.</td>\n",
       "      <td>4.7</td>\n",
       "      <td>4.72</td>\n",
       "      <td>4.62</td>\n",
       "      <td>4.76</td>\n",
       "      <td>4.79</td>\n",
       "      <td>4.86</td>\n",
       "      <td>4.41</td>\n",
       "      <td>ro</td>\n",
       "    </tr>\n",
       "    <tr>\n",
       "      <th>2</th>\n",
       "      <td>2595</td>\n",
       "      <td>19760</td>\n",
       "      <td>2009-12-10</td>\n",
       "      <td>38960</td>\n",
       "      <td>Anita</td>\n",
       "      <td>I ve stayed with my friend at the Midtown Cast...</td>\n",
       "      <td>4.7</td>\n",
       "      <td>4.72</td>\n",
       "      <td>4.62</td>\n",
       "      <td>4.76</td>\n",
       "      <td>4.79</td>\n",
       "      <td>4.86</td>\n",
       "      <td>4.41</td>\n",
       "      <td>en</td>\n",
       "    </tr>\n",
       "  </tbody>\n",
       "</table>\n",
       "</div>"
      ],
      "text/plain": [
       "   listing_id     id        date  reviewer_id reviewer_name                                           comments  review_scores_rating  review_scores_accuracy  review_scores_cleanliness  review_scores_checkin  review_scores_communication  review_scores_location  review_scores_value language\n",
       "0        2595  17857  2009-11-21        50679          Jean  Notre séjour de trois nuits. Nous avons appréc...                   4.7                    4.72                       4.62                   4.76                         4.79                    4.86                 4.41       fr\n",
       "1        2595  19176  2009-12-05        53267          Cate                                  Great experience.                   4.7                    4.72                       4.62                   4.76                         4.79                    4.86                 4.41       ro\n",
       "2        2595  19760  2009-12-10        38960         Anita  I ve stayed with my friend at the Midtown Cast...                   4.7                    4.72                       4.62                   4.76                         4.79                    4.86                 4.41       en"
      ]
     },
     "execution_count": 14,
     "metadata": {},
     "output_type": "execute_result"
    }
   ],
   "source": [
    "df.head(3)"
   ]
  },
  {
   "cell_type": "code",
   "execution_count": 15,
   "id": "67505060-c9b3-47cc-a1c4-66321911f862",
   "metadata": {},
   "outputs": [],
   "source": [
    "df['word_count'] = df['comments'].str.count(' ')+1"
   ]
  },
  {
   "cell_type": "code",
   "execution_count": 16,
   "id": "49bb18ab-0f30-46c3-ba7d-82d74d9b9611",
   "metadata": {},
   "outputs": [],
   "source": [
    "#export cleaned dataset\n",
    "\n",
    "df.to_csv('../data/clean_review_and_scores.csv', index=False)"
   ]
  }
 ],
 "metadata": {
  "kernelspec": {
   "display_name": "Python 3 (ipykernel)",
   "language": "python",
   "name": "python3"
  },
  "language_info": {
   "codemirror_mode": {
    "name": "ipython",
    "version": 3
   },
   "file_extension": ".py",
   "mimetype": "text/x-python",
   "name": "python",
   "nbconvert_exporter": "python",
   "pygments_lexer": "ipython3",
   "version": "3.9.7"
  }
 },
 "nbformat": 4,
 "nbformat_minor": 5
}
