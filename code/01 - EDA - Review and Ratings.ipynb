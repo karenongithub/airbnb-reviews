{
 "cells": [
  {
   "cell_type": "markdown",
   "id": "9a8790c4-4a4b-49d3-ac8a-0b8dcc8ff328",
   "metadata": {},
   "source": [
    "## EDA - Reviews and Ratings"
   ]
  },
  {
   "cell_type": "code",
   "execution_count": 1,
   "id": "0275ff71-0da3-4546-9371-0819dab8cdf8",
   "metadata": {},
   "outputs": [],
   "source": [
    "import pandas as pd\n",
    "import numpy as np\n",
    "import matplotlib.pyplot as plt\n",
    "import seaborn as sns\n",
    "\n",
    "pd.set_option('display.max_rows', 1000)\n",
    "pd.set_option('display.max_columns', 500)\n",
    "pd.set_option('display.width', 1000)"
   ]
  },
  {
   "cell_type": "code",
   "execution_count": 2,
   "id": "ae550719-343b-4dc6-a9e5-df0d35ccc685",
   "metadata": {},
   "outputs": [
    {
     "name": "stderr",
     "output_type": "stream",
     "text": [
      "/Users/karenchien/opt/anaconda3/lib/python3.9/site-packages/IPython/core/interactiveshell.py:3444: DtypeWarning: Columns (0,8) have mixed types.Specify dtype option on import or set low_memory=False.\n",
      "  exec(code_obj, self.user_global_ns, self.user_ns)\n"
     ]
    }
   ],
   "source": [
    "df = pd.read_csv('./data/clean_review_and_scores.csv')"
   ]
  },
  {
   "cell_type": "code",
   "execution_count": 3,
   "id": "f5668ed0-8fae-444b-a978-c2d7bd76fd92",
   "metadata": {
    "scrolled": true,
    "tags": []
   },
   "outputs": [
    {
     "data": {
      "text/html": [
       "<div>\n",
       "<style scoped>\n",
       "    .dataframe tbody tr th:only-of-type {\n",
       "        vertical-align: middle;\n",
       "    }\n",
       "\n",
       "    .dataframe tbody tr th {\n",
       "        vertical-align: top;\n",
       "    }\n",
       "\n",
       "    .dataframe thead th {\n",
       "        text-align: right;\n",
       "    }\n",
       "</style>\n",
       "<table border=\"1\" class=\"dataframe\">\n",
       "  <thead>\n",
       "    <tr style=\"text-align: right;\">\n",
       "      <th></th>\n",
       "      <th>listing_id</th>\n",
       "      <th>id</th>\n",
       "      <th>date</th>\n",
       "      <th>reviewer_id</th>\n",
       "      <th>reviewer_name</th>\n",
       "      <th>comments</th>\n",
       "      <th>review_scores_rating</th>\n",
       "      <th>review_scores_accuracy</th>\n",
       "      <th>review_scores_cleanliness</th>\n",
       "      <th>review_scores_checkin</th>\n",
       "      <th>review_scores_communication</th>\n",
       "      <th>review_scores_location</th>\n",
       "      <th>review_scores_value</th>\n",
       "      <th>language</th>\n",
       "      <th>word_count</th>\n",
       "    </tr>\n",
       "  </thead>\n",
       "  <tbody>\n",
       "    <tr>\n",
       "      <th>0</th>\n",
       "      <td>2595</td>\n",
       "      <td>17857.0</td>\n",
       "      <td>2009-11-21</td>\n",
       "      <td>50679.0</td>\n",
       "      <td>Jean</td>\n",
       "      <td>Notre séjour de trois nuits. Nous avons appréc...</td>\n",
       "      <td>4.7</td>\n",
       "      <td>4.72</td>\n",
       "      <td>4.62</td>\n",
       "      <td>4.76</td>\n",
       "      <td>4.79</td>\n",
       "      <td>4.86</td>\n",
       "      <td>4.41</td>\n",
       "      <td>fr</td>\n",
       "      <td>130.0</td>\n",
       "    </tr>\n",
       "    <tr>\n",
       "      <th>1</th>\n",
       "      <td>2595</td>\n",
       "      <td>19176.0</td>\n",
       "      <td>2009-12-05</td>\n",
       "      <td>53267.0</td>\n",
       "      <td>Cate</td>\n",
       "      <td>Great experience.</td>\n",
       "      <td>4.7</td>\n",
       "      <td>4.72</td>\n",
       "      <td>4.62</td>\n",
       "      <td>4.76</td>\n",
       "      <td>4.79</td>\n",
       "      <td>4.86</td>\n",
       "      <td>4.41</td>\n",
       "      <td>ro</td>\n",
       "      <td>2.0</td>\n",
       "    </tr>\n",
       "    <tr>\n",
       "      <th>2</th>\n",
       "      <td>2595</td>\n",
       "      <td>19760.0</td>\n",
       "      <td>2009-12-10</td>\n",
       "      <td>38960.0</td>\n",
       "      <td>Anita</td>\n",
       "      <td>I ve stayed with my friend at the Midtown Cast...</td>\n",
       "      <td>4.7</td>\n",
       "      <td>4.72</td>\n",
       "      <td>4.62</td>\n",
       "      <td>4.76</td>\n",
       "      <td>4.79</td>\n",
       "      <td>4.86</td>\n",
       "      <td>4.41</td>\n",
       "      <td>en</td>\n",
       "      <td>93.0</td>\n",
       "    </tr>\n",
       "    <tr>\n",
       "      <th>3</th>\n",
       "      <td>2595</td>\n",
       "      <td>34320.0</td>\n",
       "      <td>2010-04-09</td>\n",
       "      <td>71130.0</td>\n",
       "      <td>Kai-Uwe</td>\n",
       "      <td>We ve been staying here for about 9 nights, en...</td>\n",
       "      <td>4.7</td>\n",
       "      <td>4.72</td>\n",
       "      <td>4.62</td>\n",
       "      <td>4.76</td>\n",
       "      <td>4.79</td>\n",
       "      <td>4.86</td>\n",
       "      <td>4.41</td>\n",
       "      <td>en</td>\n",
       "      <td>67.0</td>\n",
       "    </tr>\n",
       "    <tr>\n",
       "      <th>4</th>\n",
       "      <td>2595</td>\n",
       "      <td>46312.0</td>\n",
       "      <td>2010-05-25</td>\n",
       "      <td>117113.0</td>\n",
       "      <td>Alicia</td>\n",
       "      <td>We had a wonderful stay at Jennifer s charming...</td>\n",
       "      <td>4.7</td>\n",
       "      <td>4.72</td>\n",
       "      <td>4.62</td>\n",
       "      <td>4.76</td>\n",
       "      <td>4.79</td>\n",
       "      <td>4.86</td>\n",
       "      <td>4.41</td>\n",
       "      <td>en</td>\n",
       "      <td>25.0</td>\n",
       "    </tr>\n",
       "    <tr>\n",
       "      <th>5</th>\n",
       "      <td>2595</td>\n",
       "      <td>1238204.0</td>\n",
       "      <td>2012-05-07</td>\n",
       "      <td>1783688.0</td>\n",
       "      <td>Sergey</td>\n",
       "      <td>Hi to everyone! Would say our greatest complim...</td>\n",
       "      <td>4.7</td>\n",
       "      <td>4.72</td>\n",
       "      <td>4.62</td>\n",
       "      <td>4.76</td>\n",
       "      <td>4.79</td>\n",
       "      <td>4.86</td>\n",
       "      <td>4.41</td>\n",
       "      <td>en</td>\n",
       "      <td>99.0</td>\n",
       "    </tr>\n",
       "    <tr>\n",
       "      <th>6</th>\n",
       "      <td>2595</td>\n",
       "      <td>1293632.0</td>\n",
       "      <td>2012-05-17</td>\n",
       "      <td>1870771.0</td>\n",
       "      <td>Loïc</td>\n",
       "      <td>Jennifer was very friendly and helpful, and he...</td>\n",
       "      <td>4.7</td>\n",
       "      <td>4.72</td>\n",
       "      <td>4.62</td>\n",
       "      <td>4.76</td>\n",
       "      <td>4.79</td>\n",
       "      <td>4.86</td>\n",
       "      <td>4.41</td>\n",
       "      <td>en</td>\n",
       "      <td>37.0</td>\n",
       "    </tr>\n",
       "    <tr>\n",
       "      <th>7</th>\n",
       "      <td>2595</td>\n",
       "      <td>2022498.0</td>\n",
       "      <td>2012-08-18</td>\n",
       "      <td>2124102.0</td>\n",
       "      <td>Melanie</td>\n",
       "      <td>This apartment is like a real castle old and u...</td>\n",
       "      <td>4.7</td>\n",
       "      <td>4.72</td>\n",
       "      <td>4.62</td>\n",
       "      <td>4.76</td>\n",
       "      <td>4.79</td>\n",
       "      <td>4.86</td>\n",
       "      <td>4.41</td>\n",
       "      <td>en</td>\n",
       "      <td>217.0</td>\n",
       "    </tr>\n",
       "    <tr>\n",
       "      <th>8</th>\n",
       "      <td>2595</td>\n",
       "      <td>4682989.0</td>\n",
       "      <td>2013-05-20</td>\n",
       "      <td>496053.0</td>\n",
       "      <td>Eric</td>\n",
       "      <td>Jennifer s place was in a great midtown locati...</td>\n",
       "      <td>4.7</td>\n",
       "      <td>4.72</td>\n",
       "      <td>4.62</td>\n",
       "      <td>4.76</td>\n",
       "      <td>4.79</td>\n",
       "      <td>4.86</td>\n",
       "      <td>4.41</td>\n",
       "      <td>en</td>\n",
       "      <td>59.0</td>\n",
       "    </tr>\n",
       "    <tr>\n",
       "      <th>9</th>\n",
       "      <td>2595</td>\n",
       "      <td>13193832.0</td>\n",
       "      <td>2014-05-21</td>\n",
       "      <td>13685934.0</td>\n",
       "      <td>Gerald</td>\n",
       "      <td>Jennifer is a very nice host. Everything is cl...</td>\n",
       "      <td>4.7</td>\n",
       "      <td>4.72</td>\n",
       "      <td>4.62</td>\n",
       "      <td>4.76</td>\n",
       "      <td>4.79</td>\n",
       "      <td>4.86</td>\n",
       "      <td>4.41</td>\n",
       "      <td>en</td>\n",
       "      <td>25.0</td>\n",
       "    </tr>\n",
       "    <tr>\n",
       "      <th>10</th>\n",
       "      <td>2595</td>\n",
       "      <td>15515108.0</td>\n",
       "      <td>2014-07-10</td>\n",
       "      <td>10781357.0</td>\n",
       "      <td>Richard</td>\n",
       "      <td>This is a cute studio in a wonderful location ...</td>\n",
       "      <td>4.7</td>\n",
       "      <td>4.72</td>\n",
       "      <td>4.62</td>\n",
       "      <td>4.76</td>\n",
       "      <td>4.79</td>\n",
       "      <td>4.86</td>\n",
       "      <td>4.41</td>\n",
       "      <td>en</td>\n",
       "      <td>52.0</td>\n",
       "    </tr>\n",
       "    <tr>\n",
       "      <th>11</th>\n",
       "      <td>2595</td>\n",
       "      <td>20372242.0</td>\n",
       "      <td>2014-09-28</td>\n",
       "      <td>4212558.0</td>\n",
       "      <td>Carson</td>\n",
       "      <td>A great location, a very comfortable space and...</td>\n",
       "      <td>4.7</td>\n",
       "      <td>4.72</td>\n",
       "      <td>4.62</td>\n",
       "      <td>4.76</td>\n",
       "      <td>4.79</td>\n",
       "      <td>4.86</td>\n",
       "      <td>4.41</td>\n",
       "      <td>en</td>\n",
       "      <td>16.0</td>\n",
       "    </tr>\n",
       "    <tr>\n",
       "      <th>12</th>\n",
       "      <td>2595</td>\n",
       "      <td>20937971.0</td>\n",
       "      <td>2014-10-07</td>\n",
       "      <td>13460520.0</td>\n",
       "      <td>Michael</td>\n",
       "      <td>Jennifer s place is cozy and a short walking d...</td>\n",
       "      <td>4.7</td>\n",
       "      <td>4.72</td>\n",
       "      <td>4.62</td>\n",
       "      <td>4.76</td>\n",
       "      <td>4.79</td>\n",
       "      <td>4.86</td>\n",
       "      <td>4.41</td>\n",
       "      <td>en</td>\n",
       "      <td>41.0</td>\n",
       "    </tr>\n",
       "    <tr>\n",
       "      <th>13</th>\n",
       "      <td>2595</td>\n",
       "      <td>21464102.0</td>\n",
       "      <td>2014-10-18</td>\n",
       "      <td>16584002.0</td>\n",
       "      <td>Kitty</td>\n",
       "      <td>We hebben genoten van ons verblijf in het appa...</td>\n",
       "      <td>4.7</td>\n",
       "      <td>4.72</td>\n",
       "      <td>4.62</td>\n",
       "      <td>4.76</td>\n",
       "      <td>4.79</td>\n",
       "      <td>4.86</td>\n",
       "      <td>4.41</td>\n",
       "      <td>nl</td>\n",
       "      <td>37.0</td>\n",
       "    </tr>\n",
       "    <tr>\n",
       "      <th>14</th>\n",
       "      <td>2595</td>\n",
       "      <td>28794060.0</td>\n",
       "      <td>2015-03-30</td>\n",
       "      <td>27436102.0</td>\n",
       "      <td>Kellie</td>\n",
       "      <td>Jennifer was very good at communicating with u...</td>\n",
       "      <td>4.7</td>\n",
       "      <td>4.72</td>\n",
       "      <td>4.62</td>\n",
       "      <td>4.76</td>\n",
       "      <td>4.79</td>\n",
       "      <td>4.86</td>\n",
       "      <td>4.41</td>\n",
       "      <td>en</td>\n",
       "      <td>151.0</td>\n",
       "    </tr>\n",
       "    <tr>\n",
       "      <th>15</th>\n",
       "      <td>2595</td>\n",
       "      <td>30430122.0</td>\n",
       "      <td>2015-04-21</td>\n",
       "      <td>6429364.0</td>\n",
       "      <td>Sonya</td>\n",
       "      <td>I love this space.  It is truly a gem in the h...</td>\n",
       "      <td>4.7</td>\n",
       "      <td>4.72</td>\n",
       "      <td>4.62</td>\n",
       "      <td>4.76</td>\n",
       "      <td>4.79</td>\n",
       "      <td>4.86</td>\n",
       "      <td>4.41</td>\n",
       "      <td>en</td>\n",
       "      <td>38.0</td>\n",
       "    </tr>\n",
       "    <tr>\n",
       "      <th>16</th>\n",
       "      <td>2595</td>\n",
       "      <td>32532759.0</td>\n",
       "      <td>2015-05-19</td>\n",
       "      <td>12146524.0</td>\n",
       "      <td>Michiel</td>\n",
       "      <td>This was our first Airbnb experience, and Jenn...</td>\n",
       "      <td>4.7</td>\n",
       "      <td>4.72</td>\n",
       "      <td>4.62</td>\n",
       "      <td>4.76</td>\n",
       "      <td>4.79</td>\n",
       "      <td>4.86</td>\n",
       "      <td>4.41</td>\n",
       "      <td>en</td>\n",
       "      <td>32.0</td>\n",
       "    </tr>\n",
       "    <tr>\n",
       "      <th>17</th>\n",
       "      <td>2595</td>\n",
       "      <td>47785650.0</td>\n",
       "      <td>2015-09-21</td>\n",
       "      <td>12885233.0</td>\n",
       "      <td>Lin</td>\n",
       "      <td>Great location, in the middle of everything. T...</td>\n",
       "      <td>4.7</td>\n",
       "      <td>4.72</td>\n",
       "      <td>4.62</td>\n",
       "      <td>4.76</td>\n",
       "      <td>4.79</td>\n",
       "      <td>4.86</td>\n",
       "      <td>4.41</td>\n",
       "      <td>en</td>\n",
       "      <td>26.0</td>\n",
       "    </tr>\n",
       "    <tr>\n",
       "      <th>18</th>\n",
       "      <td>2595</td>\n",
       "      <td>48764464.0</td>\n",
       "      <td>2015-09-28</td>\n",
       "      <td>18636130.0</td>\n",
       "      <td>Alex</td>\n",
       "      <td>Jennifer was without doubt an amazing host, sh...</td>\n",
       "      <td>4.7</td>\n",
       "      <td>4.72</td>\n",
       "      <td>4.62</td>\n",
       "      <td>4.76</td>\n",
       "      <td>4.79</td>\n",
       "      <td>4.86</td>\n",
       "      <td>4.41</td>\n",
       "      <td>en</td>\n",
       "      <td>93.0</td>\n",
       "    </tr>\n",
       "    <tr>\n",
       "      <th>19</th>\n",
       "      <td>2595</td>\n",
       "      <td>69547296.0</td>\n",
       "      <td>2016-04-11</td>\n",
       "      <td>16512817.0</td>\n",
       "      <td>Gary</td>\n",
       "      <td>Jennifer was an unbelievable host! Great commu...</td>\n",
       "      <td>4.7</td>\n",
       "      <td>4.72</td>\n",
       "      <td>4.62</td>\n",
       "      <td>4.76</td>\n",
       "      <td>4.79</td>\n",
       "      <td>4.86</td>\n",
       "      <td>4.41</td>\n",
       "      <td>en</td>\n",
       "      <td>113.0</td>\n",
       "    </tr>\n",
       "  </tbody>\n",
       "</table>\n",
       "</div>"
      ],
      "text/plain": [
       "   listing_id          id        date  reviewer_id reviewer_name                                           comments  review_scores_rating  review_scores_accuracy review_scores_cleanliness  review_scores_checkin  review_scores_communication  review_scores_location  review_scores_value language  word_count\n",
       "0        2595     17857.0  2009-11-21      50679.0          Jean  Notre séjour de trois nuits. Nous avons appréc...                   4.7                    4.72                      4.62                   4.76                         4.79                    4.86                 4.41       fr       130.0\n",
       "1        2595     19176.0  2009-12-05      53267.0          Cate                                  Great experience.                   4.7                    4.72                      4.62                   4.76                         4.79                    4.86                 4.41       ro         2.0\n",
       "2        2595     19760.0  2009-12-10      38960.0         Anita  I ve stayed with my friend at the Midtown Cast...                   4.7                    4.72                      4.62                   4.76                         4.79                    4.86                 4.41       en        93.0\n",
       "3        2595     34320.0  2010-04-09      71130.0       Kai-Uwe  We ve been staying here for about 9 nights, en...                   4.7                    4.72                      4.62                   4.76                         4.79                    4.86                 4.41       en        67.0\n",
       "4        2595     46312.0  2010-05-25     117113.0        Alicia  We had a wonderful stay at Jennifer s charming...                   4.7                    4.72                      4.62                   4.76                         4.79                    4.86                 4.41       en        25.0\n",
       "5        2595   1238204.0  2012-05-07    1783688.0        Sergey  Hi to everyone! Would say our greatest complim...                   4.7                    4.72                      4.62                   4.76                         4.79                    4.86                 4.41       en        99.0\n",
       "6        2595   1293632.0  2012-05-17    1870771.0          Loïc  Jennifer was very friendly and helpful, and he...                   4.7                    4.72                      4.62                   4.76                         4.79                    4.86                 4.41       en        37.0\n",
       "7        2595   2022498.0  2012-08-18    2124102.0       Melanie  This apartment is like a real castle old and u...                   4.7                    4.72                      4.62                   4.76                         4.79                    4.86                 4.41       en       217.0\n",
       "8        2595   4682989.0  2013-05-20     496053.0          Eric  Jennifer s place was in a great midtown locati...                   4.7                    4.72                      4.62                   4.76                         4.79                    4.86                 4.41       en        59.0\n",
       "9        2595  13193832.0  2014-05-21   13685934.0        Gerald  Jennifer is a very nice host. Everything is cl...                   4.7                    4.72                      4.62                   4.76                         4.79                    4.86                 4.41       en        25.0\n",
       "10       2595  15515108.0  2014-07-10   10781357.0       Richard  This is a cute studio in a wonderful location ...                   4.7                    4.72                      4.62                   4.76                         4.79                    4.86                 4.41       en        52.0\n",
       "11       2595  20372242.0  2014-09-28    4212558.0        Carson  A great location, a very comfortable space and...                   4.7                    4.72                      4.62                   4.76                         4.79                    4.86                 4.41       en        16.0\n",
       "12       2595  20937971.0  2014-10-07   13460520.0       Michael  Jennifer s place is cozy and a short walking d...                   4.7                    4.72                      4.62                   4.76                         4.79                    4.86                 4.41       en        41.0\n",
       "13       2595  21464102.0  2014-10-18   16584002.0         Kitty  We hebben genoten van ons verblijf in het appa...                   4.7                    4.72                      4.62                   4.76                         4.79                    4.86                 4.41       nl        37.0\n",
       "14       2595  28794060.0  2015-03-30   27436102.0        Kellie  Jennifer was very good at communicating with u...                   4.7                    4.72                      4.62                   4.76                         4.79                    4.86                 4.41       en       151.0\n",
       "15       2595  30430122.0  2015-04-21    6429364.0         Sonya  I love this space.  It is truly a gem in the h...                   4.7                    4.72                      4.62                   4.76                         4.79                    4.86                 4.41       en        38.0\n",
       "16       2595  32532759.0  2015-05-19   12146524.0       Michiel  This was our first Airbnb experience, and Jenn...                   4.7                    4.72                      4.62                   4.76                         4.79                    4.86                 4.41       en        32.0\n",
       "17       2595  47785650.0  2015-09-21   12885233.0           Lin  Great location, in the middle of everything. T...                   4.7                    4.72                      4.62                   4.76                         4.79                    4.86                 4.41       en        26.0\n",
       "18       2595  48764464.0  2015-09-28   18636130.0          Alex  Jennifer was without doubt an amazing host, sh...                   4.7                    4.72                      4.62                   4.76                         4.79                    4.86                 4.41       en        93.0\n",
       "19       2595  69547296.0  2016-04-11   16512817.0          Gary  Jennifer was an unbelievable host! Great commu...                   4.7                    4.72                      4.62                   4.76                         4.79                    4.86                 4.41       en       113.0"
      ]
     },
     "execution_count": 3,
     "metadata": {},
     "output_type": "execute_result"
    }
   ],
   "source": [
    "df.head(20)"
   ]
  },
  {
   "cell_type": "code",
   "execution_count": 4,
   "id": "a37590e2-5883-46e8-b4e7-087bb56ecfbe",
   "metadata": {},
   "outputs": [
    {
     "name": "stdout",
     "output_type": "stream",
     "text": [
      "<class 'pandas.core.frame.DataFrame'>\n",
      "RangeIndex: 891074 entries, 0 to 891073\n",
      "Data columns (total 15 columns):\n",
      " #   Column                       Non-Null Count   Dtype  \n",
      "---  ------                       --------------   -----  \n",
      " 0   listing_id                   891074 non-null  object \n",
      " 1   id                           891074 non-null  float64\n",
      " 2   date                         891074 non-null  object \n",
      " 3   reviewer_id                  891074 non-null  float64\n",
      " 4   reviewer_name                891074 non-null  object \n",
      " 5   comments                     891074 non-null  object \n",
      " 6   review_scores_rating         890324 non-null  float64\n",
      " 7   review_scores_accuracy       890324 non-null  float64\n",
      " 8   review_scores_cleanliness    890324 non-null  object \n",
      " 9   review_scores_checkin        890324 non-null  float64\n",
      " 10  review_scores_communication  890322 non-null  float64\n",
      " 11  review_scores_location       890322 non-null  float64\n",
      " 12  review_scores_value          890322 non-null  float64\n",
      " 13  language                     891070 non-null  object \n",
      " 14  word_count                   891070 non-null  float64\n",
      "dtypes: float64(9), object(6)\n",
      "memory usage: 102.0+ MB\n"
     ]
    }
   ],
   "source": [
    "df.info()"
   ]
  },
  {
   "cell_type": "code",
   "execution_count": 5,
   "id": "345ef21d-95c2-4aff-be1c-693aaaace78f",
   "metadata": {},
   "outputs": [
    {
     "data": {
      "text/plain": [
       "listing_id                       0\n",
       "id                               0\n",
       "date                             0\n",
       "reviewer_id                      0\n",
       "reviewer_name                    0\n",
       "comments                         0\n",
       "review_scores_rating           750\n",
       "review_scores_accuracy         750\n",
       "review_scores_cleanliness      750\n",
       "review_scores_checkin          750\n",
       "review_scores_communication    752\n",
       "review_scores_location         752\n",
       "review_scores_value            752\n",
       "language                         4\n",
       "word_count                       4\n",
       "dtype: int64"
      ]
     },
     "execution_count": 5,
     "metadata": {},
     "output_type": "execute_result"
    }
   ],
   "source": [
    "df.isna().sum()"
   ]
  },
  {
   "cell_type": "code",
   "execution_count": 6,
   "id": "c529467f-d4fa-4d44-80b4-bdb883f3018b",
   "metadata": {},
   "outputs": [],
   "source": [
    "df.dropna(inplace=True)"
   ]
  },
  {
   "cell_type": "code",
   "execution_count": 7,
   "id": "d5c3502b-356e-45cd-8525-5ddb1152b072",
   "metadata": {},
   "outputs": [],
   "source": [
    "df['review_scores_cleanliness'] = df['review_scores_cleanliness'].astype(float)"
   ]
  },
  {
   "cell_type": "markdown",
   "id": "104a2fee-0261-4ea7-b991-3a186f19fb96",
   "metadata": {},
   "source": [
    "## Ratings EDA"
   ]
  },
  {
   "cell_type": "code",
   "execution_count": 8,
   "id": "d8188579-ef08-4f7c-9b87-fee2450e86c1",
   "metadata": {},
   "outputs": [
    {
     "data": {
      "image/png": "[encoded data removed]",
      "text/plain": [
       "<Figure size 432x288 with 1 Axes>"
      ]
     },
     "metadata": {
      "needs_background": "light"
     },
     "output_type": "display_data"
    },
    {
     "data": {
      "image/png": "[encoded data removed]",
      "text/plain": [
       "<Figure size 432x288 with 1 Axes>"
      ]
     },
     "metadata": {
      "needs_background": "light"
     },
     "output_type": "display_data"
    },
    {
     "data": {
      "image/png": "[encoded data removed]",
      "text/plain": [
       "<Figure size 432x288 with 1 Axes>"
      ]
     },
     "metadata": {
      "needs_background": "light"
     },
     "output_type": "display_data"
    },
    {
     "data": {
      "image/png": "[encoded data removed]",
      "text/plain": [
       "<Figure size 432x288 with 1 Axes>"
      ]
     },
     "metadata": {
      "needs_background": "light"
     },
     "output_type": "display_data"
    },
    {
     "data": {
      "image/png": "[encoded data removed]",
      "text/plain": [
       "<Figure size 432x288 with 1 Axes>"
      ]
     },
     "metadata": {
      "needs_background": "light"
     },
     "output_type": "display_data"
    },
    {
     "data": {
      "image/png": "[encoded data removed]",
      "text/plain": [
       "<Figure size 432x288 with 1 Axes>"
      ]
     },
     "metadata": {
      "needs_background": "light"
     },
     "output_type": "display_data"
    },
    {
     "data": {
      "image/png": "[encoded data removed]",
      "text/plain": [
       "<Figure size 432x288 with 1 Axes>"
      ]
     },
     "metadata": {
      "needs_background": "light"
     },
     "output_type": "display_data"
    }
   ],
   "source": [
    "#check distribution of ratings\n",
    "\n",
    "review_scores = list(df.filter(regex='review_scores_').columns)\n",
    "\n",
    "for x in review_scores:\n",
    "    df[x].hist()\n",
    "    plt.title(x)\n",
    "    plt.show()"
   ]
  },
  {
   "cell_type": "markdown",
   "id": "c303bd96-036e-4c6a-8a07-8001dcdafb36",
   "metadata": {},
   "source": [
    "* Uneven distribution of ratings -- looks like most AirBnB listings are higher rather than lower\n",
    "* Will need to account for imbalanced classes in model"
   ]
  },
  {
   "cell_type": "code",
   "execution_count": 9,
   "id": "365f8690-b11c-4b64-a437-479c4ba3ac86",
   "metadata": {},
   "outputs": [
    {
     "name": "stderr",
     "output_type": "stream",
     "text": [
      "/Users/karenchien/opt/anaconda3/lib/python3.9/site-packages/seaborn/_decorators.py:36: FutureWarning: Pass the following variable as a keyword arg: x. From version 0.12, the only valid positional argument will be `data`, and passing other arguments without an explicit keyword will result in an error or misinterpretation.\n",
      "  warnings.warn(\n"
     ]
    },
    {
     "data": {
      "image/png": "[encoded data removed]",
      "text/plain": [
       "<Figure size 432x288 with 1 Axes>"
      ]
     },
     "metadata": {
      "needs_background": "light"
     },
     "output_type": "display_data"
    },
    {
     "name": "stderr",
     "output_type": "stream",
     "text": [
      "/Users/karenchien/opt/anaconda3/lib/python3.9/site-packages/seaborn/_decorators.py:36: FutureWarning: Pass the following variable as a keyword arg: x. From version 0.12, the only valid positional argument will be `data`, and passing other arguments without an explicit keyword will result in an error or misinterpretation.\n",
      "  warnings.warn(\n"
     ]
    },
    {
     "data": {
      "image/png": "[encoded data removed]",
      "text/plain": [
       "<Figure size 432x288 with 1 Axes>"
      ]
     },
     "metadata": {
      "needs_background": "light"
     },
     "output_type": "display_data"
    },
    {
     "name": "stderr",
     "output_type": "stream",
     "text": [
      "/Users/karenchien/opt/anaconda3/lib/python3.9/site-packages/seaborn/_decorators.py:36: FutureWarning: Pass the following variable as a keyword arg: x. From version 0.12, the only valid positional argument will be `data`, and passing other arguments without an explicit keyword will result in an error or misinterpretation.\n",
      "  warnings.warn(\n"
     ]
    },
    {
     "data": {
      "image/png": "[encoded data removed]",
      "text/plain": [
       "<Figure size 432x288 with 1 Axes>"
      ]
     },
     "metadata": {
      "needs_background": "light"
     },
     "output_type": "display_data"
    },
    {
     "name": "stderr",
     "output_type": "stream",
     "text": [
      "/Users/karenchien/opt/anaconda3/lib/python3.9/site-packages/seaborn/_decorators.py:36: FutureWarning: Pass the following variable as a keyword arg: x. From version 0.12, the only valid positional argument will be `data`, and passing other arguments without an explicit keyword will result in an error or misinterpretation.\n",
      "  warnings.warn(\n"
     ]
    },
    {
     "data": {
      "image/png": "[encoded data removed]",
      "text/plain": [
       "<Figure size 432x288 with 1 Axes>"
      ]
     },
     "metadata": {
      "needs_background": "light"
     },
     "output_type": "display_data"
    },
    {
     "name": "stderr",
     "output_type": "stream",
     "text": [
      "/Users/karenchien/opt/anaconda3/lib/python3.9/site-packages/seaborn/_decorators.py:36: FutureWarning: Pass the following variable as a keyword arg: x. From version 0.12, the only valid positional argument will be `data`, and passing other arguments without an explicit keyword will result in an error or misinterpretation.\n",
      "  warnings.warn(\n"
     ]
    },
    {
     "data": {
      "image/png": "[encoded data removed]",
      "text/plain": [
       "<Figure size 432x288 with 1 Axes>"
      ]
     },
     "metadata": {
      "needs_background": "light"
     },
     "output_type": "display_data"
    },
    {
     "name": "stderr",
     "output_type": "stream",
     "text": [
      "/Users/karenchien/opt/anaconda3/lib/python3.9/site-packages/seaborn/_decorators.py:36: FutureWarning: Pass the following variable as a keyword arg: x. From version 0.12, the only valid positional argument will be `data`, and passing other arguments without an explicit keyword will result in an error or misinterpretation.\n",
      "  warnings.warn(\n"
     ]
    },
    {
     "data": {
      "image/png": "[encoded data removed]",
      "text/plain": [
       "<Figure size 432x288 with 1 Axes>"
      ]
     },
     "metadata": {
      "needs_background": "light"
     },
     "output_type": "display_data"
    },
    {
     "name": "stderr",
     "output_type": "stream",
     "text": [
      "/Users/karenchien/opt/anaconda3/lib/python3.9/site-packages/seaborn/_decorators.py:36: FutureWarning: Pass the following variable as a keyword arg: x. From version 0.12, the only valid positional argument will be `data`, and passing other arguments without an explicit keyword will result in an error or misinterpretation.\n",
      "  warnings.warn(\n"
     ]
    },
    {
     "data": {
      "image/png": "[encoded data removed]",
      "text/plain": [
       "<Figure size 432x288 with 1 Axes>"
      ]
     },
     "metadata": {
      "needs_background": "light"
     },
     "output_type": "display_data"
    }
   ],
   "source": [
    "#check what are outliers\n",
    "\n",
    "for x in review_scores:\n",
    "    sns.boxplot(df[x])\n",
    "    plt.title(x)\n",
    "    plt.show()"
   ]
  },
  {
   "cell_type": "code",
   "execution_count": 10,
   "id": "b9573b0f-d4d1-4aae-b334-a503f5b8ce0f",
   "metadata": {},
   "outputs": [
    {
     "data": {
      "text/plain": [
       "<AxesSubplot:>"
      ]
     },
     "execution_count": 10,
     "metadata": {},
     "output_type": "execute_result"
    },
    {
     "data": {
      "image/png": "[encoded data removed]",
      "text/plain": [
       "<Figure size 1440x720 with 1 Axes>"
      ]
     },
     "metadata": {
      "needs_background": "light"
     },
     "output_type": "display_data"
    }
   ],
   "source": [
    "#checking count of how many unique values\n",
    "\n",
    "df['review_scores_rating'].value_counts().plot.bar(figsize=(20,10))"
   ]
  },
  {
   "cell_type": "markdown",
   "id": "23bdaf22-5b1a-4533-903d-11f4d7b2b792",
   "metadata": {},
   "source": [
    "## Word Count EDA"
   ]
  },
  {
   "cell_type": "code",
   "execution_count": 11,
   "id": "75c42bf8-2bec-4823-9417-de0c6efbcd03",
   "metadata": {},
   "outputs": [
    {
     "data": {
      "text/plain": [
       "count    890322.000000\n",
       "mean         47.840190\n",
       "std          50.987588\n",
       "min           1.000000\n",
       "25%          15.000000\n",
       "50%          34.000000\n",
       "75%          63.000000\n",
       "max        1041.000000\n",
       "Name: word_count, dtype: float64"
      ]
     },
     "execution_count": 11,
     "metadata": {},
     "output_type": "execute_result"
    }
   ],
   "source": [
    "#check average word count for comments\n",
    "\n",
    "df['word_count'].describe()"
   ]
  },
  {
   "cell_type": "code",
   "execution_count": 12,
   "id": "de971e6b-aea3-4e95-9d91-fd21fbb5879b",
   "metadata": {},
   "outputs": [
    {
     "data": {
      "text/plain": [
       "<AxesSubplot:>"
      ]
     },
     "execution_count": 12,
     "metadata": {},
     "output_type": "execute_result"
    },
    {
     "data": {
      "image/png": "[encoded data removed]",
      "text/plain": [
       "<Figure size 432x288 with 1 Axes>"
      ]
     },
     "metadata": {
      "needs_background": "light"
     },
     "output_type": "display_data"
    }
   ],
   "source": [
    "df['word_count'].hist()"
   ]
  },
  {
   "cell_type": "code",
   "execution_count": 13,
   "id": "61d5ed54-58de-4d34-8e9d-12828771c43e",
   "metadata": {},
   "outputs": [
    {
     "data": {
      "text/plain": [
       "<AxesSubplot:>"
      ]
     },
     "execution_count": 13,
     "metadata": {},
     "output_type": "execute_result"
    },
    {
     "data": {
      "image/png": "[encoded data removed]",
      "text/plain": [
       "<Figure size 432x288 with 1 Axes>"
      ]
     },
     "metadata": {
      "needs_background": "light"
     },
     "output_type": "display_data"
    }
   ],
   "source": [
    "#check average word count for non-english comments\n",
    "\n",
    "nonenglish = df[~df['language'].isin(['en'])]\n",
    "nonenglish['word_count'].hist()"
   ]
  },
  {
   "cell_type": "code",
   "execution_count": 14,
   "id": "359e838b-1b4c-404f-b267-4f08e17921a3",
   "metadata": {},
   "outputs": [
    {
     "data": {
      "text/plain": [
       "count    93851.000000\n",
       "mean        42.823859\n",
       "std         50.607784\n",
       "min          1.000000\n",
       "25%          5.000000\n",
       "50%         29.000000\n",
       "75%         61.000000\n",
       "max        897.000000\n",
       "Name: word_count, dtype: float64"
      ]
     },
     "execution_count": 14,
     "metadata": {},
     "output_type": "execute_result"
    }
   ],
   "source": [
    "nonenglish['word_count'].describe()"
   ]
  },
  {
   "cell_type": "code",
   "execution_count": 15,
   "id": "b6618dae-2c1c-44b8-a151-3138337d0b49",
   "metadata": {
    "scrolled": true,
    "tags": []
   },
   "outputs": [
    {
     "data": {
      "text/html": [
       "<div>\n",
       "<style scoped>\n",
       "    .dataframe tbody tr th:only-of-type {\n",
       "        vertical-align: middle;\n",
       "    }\n",
       "\n",
       "    .dataframe tbody tr th {\n",
       "        vertical-align: top;\n",
       "    }\n",
       "\n",
       "    .dataframe thead th {\n",
       "        text-align: right;\n",
       "    }\n",
       "</style>\n",
       "<table border=\"1\" class=\"dataframe\">\n",
       "  <thead>\n",
       "    <tr style=\"text-align: right;\">\n",
       "      <th></th>\n",
       "      <th>listing_id</th>\n",
       "      <th>id</th>\n",
       "      <th>date</th>\n",
       "      <th>reviewer_id</th>\n",
       "      <th>reviewer_name</th>\n",
       "      <th>comments</th>\n",
       "      <th>review_scores_rating</th>\n",
       "      <th>review_scores_accuracy</th>\n",
       "      <th>review_scores_cleanliness</th>\n",
       "      <th>review_scores_checkin</th>\n",
       "      <th>review_scores_communication</th>\n",
       "      <th>review_scores_location</th>\n",
       "      <th>review_scores_value</th>\n",
       "      <th>language</th>\n",
       "      <th>word_count</th>\n",
       "    </tr>\n",
       "  </thead>\n",
       "  <tbody>\n",
       "    <tr>\n",
       "      <th>1</th>\n",
       "      <td>2595</td>\n",
       "      <td>1.917600e+04</td>\n",
       "      <td>2009-12-05</td>\n",
       "      <td>53267.0</td>\n",
       "      <td>Cate</td>\n",
       "      <td>Great experience.</td>\n",
       "      <td>4.70</td>\n",
       "      <td>4.72</td>\n",
       "      <td>4.62</td>\n",
       "      <td>4.76</td>\n",
       "      <td>4.79</td>\n",
       "      <td>4.86</td>\n",
       "      <td>4.41</td>\n",
       "      <td>ro</td>\n",
       "      <td>2.0</td>\n",
       "    </tr>\n",
       "    <tr>\n",
       "      <th>43</th>\n",
       "      <td>2595</td>\n",
       "      <td>4.498159e+08</td>\n",
       "      <td>2019-05-07</td>\n",
       "      <td>168460710.0</td>\n",
       "      <td>Christopher</td>\n",
       "      <td>10 / 10 would stay again</td>\n",
       "      <td>4.70</td>\n",
       "      <td>4.72</td>\n",
       "      <td>4.62</td>\n",
       "      <td>4.76</td>\n",
       "      <td>4.79</td>\n",
       "      <td>4.86</td>\n",
       "      <td>4.41</td>\n",
       "      <td>tl</td>\n",
       "      <td>6.0</td>\n",
       "    </tr>\n",
       "    <tr>\n",
       "      <th>220</th>\n",
       "      <td>3831</td>\n",
       "      <td>2.311006e+08</td>\n",
       "      <td>2018-01-30</td>\n",
       "      <td>45150770.0</td>\n",
       "      <td>Kazue</td>\n",
       "      <td>家の近くにﾊﾞｽが色々通っていて､地下鉄駅からも近いです。水周りも綺麗で､旅行中でも朝食や夕...</td>\n",
       "      <td>4.45</td>\n",
       "      <td>4.58</td>\n",
       "      <td>4.49</td>\n",
       "      <td>4.78</td>\n",
       "      <td>4.80</td>\n",
       "      <td>4.71</td>\n",
       "      <td>4.64</td>\n",
       "      <td>ja</td>\n",
       "      <td>1.0</td>\n",
       "    </tr>\n",
       "    <tr>\n",
       "      <th>250</th>\n",
       "      <td>3831</td>\n",
       "      <td>2.891158e+08</td>\n",
       "      <td>2018-07-11</td>\n",
       "      <td>130956729.0</td>\n",
       "      <td>Carlos</td>\n",
       "      <td>Muy buen lugar!</td>\n",
       "      <td>4.45</td>\n",
       "      <td>4.58</td>\n",
       "      <td>4.49</td>\n",
       "      <td>4.78</td>\n",
       "      <td>4.80</td>\n",
       "      <td>4.71</td>\n",
       "      <td>4.64</td>\n",
       "      <td>es</td>\n",
       "      <td>3.0</td>\n",
       "    </tr>\n",
       "    <tr>\n",
       "      <th>271</th>\n",
       "      <td>3831</td>\n",
       "      <td>3.599348e+08</td>\n",
       "      <td>2018-12-18</td>\n",
       "      <td>22889557.0</td>\n",
       "      <td>Kyle</td>\n",
       "      <td>As described</td>\n",
       "      <td>4.45</td>\n",
       "      <td>4.58</td>\n",
       "      <td>4.49</td>\n",
       "      <td>4.78</td>\n",
       "      <td>4.80</td>\n",
       "      <td>4.71</td>\n",
       "      <td>4.64</td>\n",
       "      <td>es</td>\n",
       "      <td>2.0</td>\n",
       "    </tr>\n",
       "    <tr>\n",
       "      <th>...</th>\n",
       "      <td>...</td>\n",
       "      <td>...</td>\n",
       "      <td>...</td>\n",
       "      <td>...</td>\n",
       "      <td>...</td>\n",
       "      <td>...</td>\n",
       "      <td>...</td>\n",
       "      <td>...</td>\n",
       "      <td>...</td>\n",
       "      <td>...</td>\n",
       "      <td>...</td>\n",
       "      <td>...</td>\n",
       "      <td>...</td>\n",
       "      <td>...</td>\n",
       "      <td>...</td>\n",
       "    </tr>\n",
       "    <tr>\n",
       "      <th>890931</th>\n",
       "      <td>53317234</td>\n",
       "      <td>5.057507e+17</td>\n",
       "      <td>2021-11-28</td>\n",
       "      <td>228942946.0</td>\n",
       "      <td>Liniuzka</td>\n",
       "      <td>Amables limpios céntricos increíbles</td>\n",
       "      <td>5.00</td>\n",
       "      <td>5.00</td>\n",
       "      <td>5.00</td>\n",
       "      <td>5.00</td>\n",
       "      <td>5.00</td>\n",
       "      <td>5.00</td>\n",
       "      <td>5.00</td>\n",
       "      <td>es</td>\n",
       "      <td>4.0</td>\n",
       "    </tr>\n",
       "    <tr>\n",
       "      <th>890938</th>\n",
       "      <td>53321762</td>\n",
       "      <td>5.006659e+17</td>\n",
       "      <td>2021-11-21</td>\n",
       "      <td>432379452.0</td>\n",
       "      <td>Naeshawn</td>\n",
       "      <td>Amazing</td>\n",
       "      <td>5.00</td>\n",
       "      <td>5.00</td>\n",
       "      <td>5.00</td>\n",
       "      <td>4.83</td>\n",
       "      <td>5.00</td>\n",
       "      <td>5.00</td>\n",
       "      <td>5.00</td>\n",
       "      <td>sw</td>\n",
       "      <td>1.0</td>\n",
       "    </tr>\n",
       "    <tr>\n",
       "      <th>891041</th>\n",
       "      <td>53489130</td>\n",
       "      <td>5.034761e+17</td>\n",
       "      <td>2021-11-25</td>\n",
       "      <td>94541631.0</td>\n",
       "      <td>Mir</td>\n",
       "      <td>Dont book</td>\n",
       "      <td>1.00</td>\n",
       "      <td>1.00</td>\n",
       "      <td>1.00</td>\n",
       "      <td>1.00</td>\n",
       "      <td>1.00</td>\n",
       "      <td>1.00</td>\n",
       "      <td>1.00</td>\n",
       "      <td>af</td>\n",
       "      <td>2.0</td>\n",
       "    </tr>\n",
       "    <tr>\n",
       "      <th>891048</th>\n",
       "      <td>53506855</td>\n",
       "      <td>5.050490e+17</td>\n",
       "      <td>2021-11-27</td>\n",
       "      <td>145811451.0</td>\n",
       "      <td>凡哲</td>\n",
       "      <td>Cool guy</td>\n",
       "      <td>4.50</td>\n",
       "      <td>4.50</td>\n",
       "      <td>4.50</td>\n",
       "      <td>5.00</td>\n",
       "      <td>3.50</td>\n",
       "      <td>4.50</td>\n",
       "      <td>5.00</td>\n",
       "      <td>so</td>\n",
       "      <td>2.0</td>\n",
       "    </tr>\n",
       "    <tr>\n",
       "      <th>891049</th>\n",
       "      <td>53506855</td>\n",
       "      <td>5.065573e+17</td>\n",
       "      <td>2021-11-29</td>\n",
       "      <td>358002180.0</td>\n",
       "      <td>Synaii</td>\n",
       "      <td>nice view cozy room</td>\n",
       "      <td>4.50</td>\n",
       "      <td>4.50</td>\n",
       "      <td>4.50</td>\n",
       "      <td>5.00</td>\n",
       "      <td>3.50</td>\n",
       "      <td>4.50</td>\n",
       "      <td>5.00</td>\n",
       "      <td>pl</td>\n",
       "      <td>4.0</td>\n",
       "    </tr>\n",
       "  </tbody>\n",
       "</table>\n",
       "<p>25389 rows × 15 columns</p>\n",
       "</div>"
      ],
      "text/plain": [
       "       listing_id            id        date  reviewer_id reviewer_name                                           comments  review_scores_rating  review_scores_accuracy  review_scores_cleanliness  review_scores_checkin  review_scores_communication  review_scores_location  review_scores_value language  word_count\n",
       "1            2595  1.917600e+04  2009-12-05      53267.0          Cate                                  Great experience.                  4.70                    4.72                       4.62                   4.76                         4.79                    4.86                 4.41       ro         2.0\n",
       "43           2595  4.498159e+08  2019-05-07  168460710.0   Christopher                           10 / 10 would stay again                  4.70                    4.72                       4.62                   4.76                         4.79                    4.86                 4.41       tl         6.0\n",
       "220          3831  2.311006e+08  2018-01-30   45150770.0         Kazue  家の近くにﾊﾞｽが色々通っていて､地下鉄駅からも近いです。水周りも綺麗で､旅行中でも朝食や夕...                  4.45                    4.58                       4.49                   4.78                         4.80                    4.71                 4.64       ja         1.0\n",
       "250          3831  2.891158e+08  2018-07-11  130956729.0        Carlos                                    Muy buen lugar!                  4.45                    4.58                       4.49                   4.78                         4.80                    4.71                 4.64       es         3.0\n",
       "271          3831  3.599348e+08  2018-12-18   22889557.0          Kyle                                       As described                  4.45                    4.58                       4.49                   4.78                         4.80                    4.71                 4.64       es         2.0\n",
       "...           ...           ...         ...          ...           ...                                                ...                   ...                     ...                        ...                    ...                          ...                     ...                  ...      ...         ...\n",
       "890931   53317234  5.057507e+17  2021-11-28  228942946.0      Liniuzka               Amables limpios céntricos increíbles                  5.00                    5.00                       5.00                   5.00                         5.00                    5.00                 5.00       es         4.0\n",
       "890938   53321762  5.006659e+17  2021-11-21  432379452.0      Naeshawn                                            Amazing                  5.00                    5.00                       5.00                   4.83                         5.00                    5.00                 5.00       sw         1.0\n",
       "891041   53489130  5.034761e+17  2021-11-25   94541631.0           Mir                                          Dont book                  1.00                    1.00                       1.00                   1.00                         1.00                    1.00                 1.00       af         2.0\n",
       "891048   53506855  5.050490e+17  2021-11-27  145811451.0            凡哲                                           Cool guy                  4.50                    4.50                       4.50                   5.00                         3.50                    4.50                 5.00       so         2.0\n",
       "891049   53506855  5.065573e+17  2021-11-29  358002180.0        Synaii                                nice view cozy room                  4.50                    4.50                       4.50                   5.00                         3.50                    4.50                 5.00       pl         4.0\n",
       "\n",
       "[25389 rows x 15 columns]"
      ]
     },
     "execution_count": 15,
     "metadata": {},
     "output_type": "execute_result"
    }
   ],
   "source": [
    "nonenglish[nonenglish['word_count'] < 7]"
   ]
  },
  {
   "cell_type": "code",
   "execution_count": 16,
   "id": "8e3bb06b-64fa-4e4b-96ed-a3c6f1851961",
   "metadata": {},
   "outputs": [
    {
     "data": {
      "text/plain": [
       "<AxesSubplot:>"
      ]
     },
     "execution_count": 16,
     "metadata": {},
     "output_type": "execute_result"
    },
    {
     "data": {
      "image/png": "[encoded data removed]",
      "text/plain": [
       "<Figure size 432x288 with 1 Axes>"
      ]
     },
     "metadata": {
      "needs_background": "light"
     },
     "output_type": "display_data"
    }
   ],
   "source": [
    "#check word count for english reviews\n",
    "\n",
    "english = df[df['language'] == 'en']\n",
    "english['word_count'].hist()"
   ]
  },
  {
   "cell_type": "code",
   "execution_count": 17,
   "id": "b899b682-06a9-46f9-8204-2c1e3abb1c96",
   "metadata": {},
   "outputs": [
    {
     "data": {
      "text/plain": [
       "count    796471.000000\n",
       "mean         48.431282\n",
       "std          50.999703\n",
       "min           1.000000\n",
       "25%          16.000000\n",
       "50%          34.000000\n",
       "75%          63.000000\n",
       "max        1041.000000\n",
       "Name: word_count, dtype: float64"
      ]
     },
     "execution_count": 17,
     "metadata": {},
     "output_type": "execute_result"
    }
   ],
   "source": [
    "english['word_count'].describe()"
   ]
  },
  {
   "cell_type": "code",
   "execution_count": 18,
   "id": "c800c158-eca8-4b9e-a1bd-3f92ea373e13",
   "metadata": {},
   "outputs": [
    {
     "name": "stderr",
     "output_type": "stream",
     "text": [
      "/Users/karenchien/opt/anaconda3/lib/python3.9/site-packages/seaborn/_decorators.py:36: FutureWarning: Pass the following variable as a keyword arg: x. From version 0.12, the only valid positional argument will be `data`, and passing other arguments without an explicit keyword will result in an error or misinterpretation.\n",
      "  warnings.warn(\n"
     ]
    },
    {
     "data": {
      "text/plain": [
       "<AxesSubplot:xlabel='word_count'>"
      ]
     },
     "execution_count": 18,
     "metadata": {},
     "output_type": "execute_result"
    },
    {
     "data": {
      "image/png": "[encoded data removed]",
      "text/plain": [
       "<Figure size 1440x360 with 1 Axes>"
      ]
     },
     "metadata": {
      "needs_background": "light"
     },
     "output_type": "display_data"
    }
   ],
   "source": [
    "#check outliers for word count\n",
    "plt.figure(figsize=(20,5))\n",
    "sns.boxplot(df['word_count'])"
   ]
  },
  {
   "cell_type": "code",
   "execution_count": 19,
   "id": "bcbd7fd4-5182-4549-a1aa-2039de0dcc85",
   "metadata": {},
   "outputs": [],
   "source": [
    "#created new dataframe for only english reviews that have 15 or more words in review\n",
    "\n",
    "df2 = df[(df['word_count'] > 15) & (df['language'] == 'en')]"
   ]
  },
  {
   "cell_type": "code",
   "execution_count": 20,
   "id": "5baf560b-7633-4edd-9509-dcc745692f56",
   "metadata": {},
   "outputs": [
    {
     "data": {
      "text/html": [
       "<div>\n",
       "<style scoped>\n",
       "    .dataframe tbody tr th:only-of-type {\n",
       "        vertical-align: middle;\n",
       "    }\n",
       "\n",
       "    .dataframe tbody tr th {\n",
       "        vertical-align: top;\n",
       "    }\n",
       "\n",
       "    .dataframe thead th {\n",
       "        text-align: right;\n",
       "    }\n",
       "</style>\n",
       "<table border=\"1\" class=\"dataframe\">\n",
       "  <thead>\n",
       "    <tr style=\"text-align: right;\">\n",
       "      <th></th>\n",
       "      <th>id</th>\n",
       "      <th>reviewer_id</th>\n",
       "      <th>review_scores_rating</th>\n",
       "      <th>review_scores_accuracy</th>\n",
       "      <th>review_scores_cleanliness</th>\n",
       "      <th>review_scores_checkin</th>\n",
       "      <th>review_scores_communication</th>\n",
       "      <th>review_scores_location</th>\n",
       "      <th>review_scores_value</th>\n",
       "      <th>word_count</th>\n",
       "    </tr>\n",
       "  </thead>\n",
       "  <tbody>\n",
       "    <tr>\n",
       "      <th>count</th>\n",
       "      <td>6.023940e+05</td>\n",
       "      <td>6.023940e+05</td>\n",
       "      <td>602394.000000</td>\n",
       "      <td>602394.000000</td>\n",
       "      <td>602394.000000</td>\n",
       "      <td>602394.000000</td>\n",
       "      <td>602394.000000</td>\n",
       "      <td>602394.000000</td>\n",
       "      <td>602394.000000</td>\n",
       "      <td>602394.000000</td>\n",
       "    </tr>\n",
       "    <tr>\n",
       "      <th>mean</th>\n",
       "      <td>6.096712e+16</td>\n",
       "      <td>9.786951e+07</td>\n",
       "      <td>4.755750</td>\n",
       "      <td>4.820700</td>\n",
       "      <td>4.728670</td>\n",
       "      <td>4.878059</td>\n",
       "      <td>4.876826</td>\n",
       "      <td>4.763602</td>\n",
       "      <td>4.731235</td>\n",
       "      <td>61.203261</td>\n",
       "    </tr>\n",
       "    <tr>\n",
       "      <th>std</th>\n",
       "      <td>1.543988e+17</td>\n",
       "      <td>1.028912e+08</td>\n",
       "      <td>0.211628</td>\n",
       "      <td>0.188526</td>\n",
       "      <td>0.261805</td>\n",
       "      <td>0.153235</td>\n",
       "      <td>0.165521</td>\n",
       "      <td>0.206491</td>\n",
       "      <td>0.199571</td>\n",
       "      <td>52.576910</td>\n",
       "    </tr>\n",
       "    <tr>\n",
       "      <th>min</th>\n",
       "      <td>1.743000e+03</td>\n",
       "      <td>1.000000e+00</td>\n",
       "      <td>0.000000</td>\n",
       "      <td>0.000000</td>\n",
       "      <td>0.000000</td>\n",
       "      <td>0.000000</td>\n",
       "      <td>0.000000</td>\n",
       "      <td>0.000000</td>\n",
       "      <td>0.000000</td>\n",
       "      <td>16.000000</td>\n",
       "    </tr>\n",
       "    <tr>\n",
       "      <th>25%</th>\n",
       "      <td>1.605538e+08</td>\n",
       "      <td>1.804919e+07</td>\n",
       "      <td>4.670000</td>\n",
       "      <td>4.760000</td>\n",
       "      <td>4.630000</td>\n",
       "      <td>4.830000</td>\n",
       "      <td>4.840000</td>\n",
       "      <td>4.660000</td>\n",
       "      <td>4.650000</td>\n",
       "      <td>29.000000</td>\n",
       "    </tr>\n",
       "    <tr>\n",
       "      <th>50%</th>\n",
       "      <td>4.002619e+08</td>\n",
       "      <td>5.837822e+07</td>\n",
       "      <td>4.800000</td>\n",
       "      <td>4.870000</td>\n",
       "      <td>4.800000</td>\n",
       "      <td>4.920000</td>\n",
       "      <td>4.920000</td>\n",
       "      <td>4.810000</td>\n",
       "      <td>4.770000</td>\n",
       "      <td>46.000000</td>\n",
       "    </tr>\n",
       "    <tr>\n",
       "      <th>75%</th>\n",
       "      <td>6.180647e+08</td>\n",
       "      <td>1.487935e+08</td>\n",
       "      <td>4.900000</td>\n",
       "      <td>4.940000</td>\n",
       "      <td>4.910000</td>\n",
       "      <td>4.970000</td>\n",
       "      <td>4.970000</td>\n",
       "      <td>4.920000</td>\n",
       "      <td>4.850000</td>\n",
       "      <td>75.000000</td>\n",
       "    </tr>\n",
       "    <tr>\n",
       "      <th>max</th>\n",
       "      <td>5.108137e+17</td>\n",
       "      <td>4.345759e+08</td>\n",
       "      <td>5.000000</td>\n",
       "      <td>5.000000</td>\n",
       "      <td>5.000000</td>\n",
       "      <td>5.000000</td>\n",
       "      <td>5.000000</td>\n",
       "      <td>5.000000</td>\n",
       "      <td>5.000000</td>\n",
       "      <td>1041.000000</td>\n",
       "    </tr>\n",
       "  </tbody>\n",
       "</table>\n",
       "</div>"
      ],
      "text/plain": [
       "                 id   reviewer_id  review_scores_rating  review_scores_accuracy  review_scores_cleanliness  review_scores_checkin  review_scores_communication  review_scores_location  review_scores_value     word_count\n",
       "count  6.023940e+05  6.023940e+05         602394.000000           602394.000000              602394.000000          602394.000000                602394.000000           602394.000000        602394.000000  602394.000000\n",
       "mean   6.096712e+16  9.786951e+07              4.755750                4.820700                   4.728670               4.878059                     4.876826                4.763602             4.731235      61.203261\n",
       "std    1.543988e+17  1.028912e+08              0.211628                0.188526                   0.261805               0.153235                     0.165521                0.206491             0.199571      52.576910\n",
       "min    1.743000e+03  1.000000e+00              0.000000                0.000000                   0.000000               0.000000                     0.000000                0.000000             0.000000      16.000000\n",
       "25%    1.605538e+08  1.804919e+07              4.670000                4.760000                   4.630000               4.830000                     4.840000                4.660000             4.650000      29.000000\n",
       "50%    4.002619e+08  5.837822e+07              4.800000                4.870000                   4.800000               4.920000                     4.920000                4.810000             4.770000      46.000000\n",
       "75%    6.180647e+08  1.487935e+08              4.900000                4.940000                   4.910000               4.970000                     4.970000                4.920000             4.850000      75.000000\n",
       "max    5.108137e+17  4.345759e+08              5.000000                5.000000                   5.000000               5.000000                     5.000000                5.000000             5.000000    1041.000000"
      ]
     },
     "execution_count": 20,
     "metadata": {},
     "output_type": "execute_result"
    }
   ],
   "source": [
    "df2.describe()"
   ]
  },
  {
   "cell_type": "code",
   "execution_count": 21,
   "id": "eaff7243-8670-49a1-ba58-e261034e4699",
   "metadata": {},
   "outputs": [
    {
     "name": "stderr",
     "output_type": "stream",
     "text": [
      "/Users/karenchien/opt/anaconda3/lib/python3.9/site-packages/seaborn/_decorators.py:36: FutureWarning: Pass the following variable as a keyword arg: x. From version 0.12, the only valid positional argument will be `data`, and passing other arguments without an explicit keyword will result in an error or misinterpretation.\n",
      "  warnings.warn(\n"
     ]
    },
    {
     "data": {
      "image/png": "[encoded data removed]",
      "text/plain": [
       "<Figure size 432x288 with 1 Axes>"
      ]
     },
     "metadata": {
      "needs_background": "light"
     },
     "output_type": "display_data"
    },
    {
     "name": "stderr",
     "output_type": "stream",
     "text": [
      "/Users/karenchien/opt/anaconda3/lib/python3.9/site-packages/seaborn/_decorators.py:36: FutureWarning: Pass the following variable as a keyword arg: x. From version 0.12, the only valid positional argument will be `data`, and passing other arguments without an explicit keyword will result in an error or misinterpretation.\n",
      "  warnings.warn(\n"
     ]
    },
    {
     "data": {
      "image/png": "[encoded data removed]",
      "text/plain": [
       "<Figure size 432x288 with 1 Axes>"
      ]
     },
     "metadata": {
      "needs_background": "light"
     },
     "output_type": "display_data"
    },
    {
     "name": "stderr",
     "output_type": "stream",
     "text": [
      "/Users/karenchien/opt/anaconda3/lib/python3.9/site-packages/seaborn/_decorators.py:36: FutureWarning: Pass the following variable as a keyword arg: x. From version 0.12, the only valid positional argument will be `data`, and passing other arguments without an explicit keyword will result in an error or misinterpretation.\n",
      "  warnings.warn(\n"
     ]
    },
    {
     "data": {
      "image/png": "[encoded data removed]",
      "text/plain": [
       "<Figure size 432x288 with 1 Axes>"
      ]
     },
     "metadata": {
      "needs_background": "light"
     },
     "output_type": "display_data"
    },
    {
     "name": "stderr",
     "output_type": "stream",
     "text": [
      "/Users/karenchien/opt/anaconda3/lib/python3.9/site-packages/seaborn/_decorators.py:36: FutureWarning: Pass the following variable as a keyword arg: x. From version 0.12, the only valid positional argument will be `data`, and passing other arguments without an explicit keyword will result in an error or misinterpretation.\n",
      "  warnings.warn(\n"
     ]
    },
    {
     "data": {
      "image/png": "[encoded data removed]",
      "text/plain": [
       "<Figure size 432x288 with 1 Axes>"
      ]
     },
     "metadata": {
      "needs_background": "light"
     },
     "output_type": "display_data"
    },
    {
     "name": "stderr",
     "output_type": "stream",
     "text": [
      "/Users/karenchien/opt/anaconda3/lib/python3.9/site-packages/seaborn/_decorators.py:36: FutureWarning: Pass the following variable as a keyword arg: x. From version 0.12, the only valid positional argument will be `data`, and passing other arguments without an explicit keyword will result in an error or misinterpretation.\n",
      "  warnings.warn(\n"
     ]
    },
    {
     "data": {
      "image/png": "[encoded data removed]",
      "text/plain": [
       "<Figure size 432x288 with 1 Axes>"
      ]
     },
     "metadata": {
      "needs_background": "light"
     },
     "output_type": "display_data"
    },
    {
     "name": "stderr",
     "output_type": "stream",
     "text": [
      "/Users/karenchien/opt/anaconda3/lib/python3.9/site-packages/seaborn/_decorators.py:36: FutureWarning: Pass the following variable as a keyword arg: x. From version 0.12, the only valid positional argument will be `data`, and passing other arguments without an explicit keyword will result in an error or misinterpretation.\n",
      "  warnings.warn(\n"
     ]
    },
    {
     "data": {
      "image/png": "[encoded data removed]",
      "text/plain": [
       "<Figure size 432x288 with 1 Axes>"
      ]
     },
     "metadata": {
      "needs_background": "light"
     },
     "output_type": "display_data"
    },
    {
     "name": "stderr",
     "output_type": "stream",
     "text": [
      "/Users/karenchien/opt/anaconda3/lib/python3.9/site-packages/seaborn/_decorators.py:36: FutureWarning: Pass the following variable as a keyword arg: x. From version 0.12, the only valid positional argument will be `data`, and passing other arguments without an explicit keyword will result in an error or misinterpretation.\n",
      "  warnings.warn(\n"
     ]
    },
    {
     "data": {
      "image/png": "[encoded data removed]",
      "text/plain": [
       "<Figure size 432x288 with 1 Axes>"
      ]
     },
     "metadata": {
      "needs_background": "light"
     },
     "output_type": "display_data"
    }
   ],
   "source": [
    "#check outlier scores for new dataframe\n",
    "\n",
    "for x in review_scores:\n",
    "    sns.boxplot(df2[x])\n",
    "    plt.title(x)\n",
    "    plt.show()"
   ]
  },
  {
   "cell_type": "code",
   "execution_count": 22,
   "id": "c9083645-9320-4dec-be64-708d00fea0bf",
   "metadata": {},
   "outputs": [
    {
     "data": {
      "image/png": "[encoded data removed]",
      "text/plain": [
       "<Figure size 432x288 with 1 Axes>"
      ]
     },
     "metadata": {
      "needs_background": "light"
     },
     "output_type": "display_data"
    },
    {
     "data": {
      "image/png": "[encoded data removed]",
      "text/plain": [
       "<Figure size 432x288 with 1 Axes>"
      ]
     },
     "metadata": {
      "needs_background": "light"
     },
     "output_type": "display_data"
    },
    {
     "data": {
      "image/png": "[encoded data removed]",
      "text/plain": [
       "<Figure size 432x288 with 1 Axes>"
      ]
     },
     "metadata": {
      "needs_background": "light"
     },
     "output_type": "display_data"
    },
    {
     "data": {
      "image/png": "[encoded data removed]",
      "text/plain": [
       "<Figure size 432x288 with 1 Axes>"
      ]
     },
     "metadata": {
      "needs_background": "light"
     },
     "output_type": "display_data"
    },
    {
     "data": {
      "image/png": "[encoded data removed]",
      "text/plain": [
       "<Figure size 432x288 with 1 Axes>"
      ]
     },
     "metadata": {
      "needs_background": "light"
     },
     "output_type": "display_data"
    },
    {
     "data": {
      "image/png": "[encoded data removed]",
      "text/plain": [
       "<Figure size 432x288 with 1 Axes>"
      ]
     },
     "metadata": {
      "needs_background": "light"
     },
     "output_type": "display_data"
    },
    {
     "data": {
      "image/png": "[encoded data removed]",
      "text/plain": [
       "<Figure size 432x288 with 1 Axes>"
      ]
     },
     "metadata": {
      "needs_background": "light"
     },
     "output_type": "display_data"
    }
   ],
   "source": [
    "#check distribution of scores for new dataframe\n",
    "\n",
    "for x in review_scores:\n",
    "    df2[x].hist()\n",
    "    plt.title(x)\n",
    "    plt.show()"
   ]
  },
  {
   "cell_type": "code",
   "execution_count": 23,
   "id": "7916784a-fd5f-4fa1-b4a6-eef9d6a1b427",
   "metadata": {},
   "outputs": [],
   "source": [
    "#export cleaned df to csv files\n",
    "\n",
    "df2.to_csv('./data/clean_review_and_scores2.csv', index=False)"
   ]
  },
  {
   "cell_type": "code",
   "execution_count": null,
   "id": "c6193659-e56d-45ab-816c-babecb6542e7",
   "metadata": {},
   "outputs": [],
   "source": []
  }
 ],
 "metadata": {
  "kernelspec": {
   "display_name": "Python 3 (ipykernel)",
   "language": "python",
   "name": "python3"
  },
  "language_info": {
   "codemirror_mode": {
    "name": "ipython",
    "version": 3
   },
   "file_extension": ".py",
   "mimetype": "text/x-python",
   "name": "python",
   "nbconvert_exporter": "python",
   "pygments_lexer": "ipython3",
   "version": "3.9.7"
  }
 },
 "nbformat": 4,
 "nbformat_minor": 5
}
