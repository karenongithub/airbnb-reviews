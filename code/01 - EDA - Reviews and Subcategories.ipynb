{
 "cells": [
  {
   "cell_type": "markdown",
   "id": "634c217d-357b-4859-b586-282aec48c979",
   "metadata": {},
   "source": [
    "## EDA - Review Text and Subcategory Scores\n",
    "- Purpose is to see if there is a relationship between subcategory scores (accuracy, cleanliness) and if those topics are mentioned in the comments to better understand how to build out my classification model"
   ]
  },
  {
   "cell_type": "code",
   "execution_count": 26,
   "id": "41e232ba-8fb0-4f8c-bfd6-f74a7483a77f",
   "metadata": {},
   "outputs": [],
   "source": [
    "import pandas as pd\n",
    "import numpy as np\n",
    "import matplotlib.pyplot as plt\n",
    "import seaborn as sns"
   ]
  },
  {
   "cell_type": "code",
   "execution_count": 27,
   "id": "e949b99b-2789-4796-83b4-8df104265202",
   "metadata": {},
   "outputs": [
    {
     "ename": "KeyError",
     "evalue": "'comments'",
     "output_type": "error",
     "traceback": [
      "\u001b[0;31m---------------------------------------------------------------------------\u001b[0m",
      "\u001b[0;31mKeyError\u001b[0m                                  Traceback (most recent call last)",
      "\u001b[0;32m~/opt/anaconda3/lib/python3.9/site-packages/pandas/core/indexes/base.py\u001b[0m in \u001b[0;36mget_loc\u001b[0;34m(self, key, method, tolerance)\u001b[0m\n\u001b[1;32m   3360\u001b[0m             \u001b[0;32mtry\u001b[0m\u001b[0;34m:\u001b[0m\u001b[0;34m\u001b[0m\u001b[0;34m\u001b[0m\u001b[0m\n\u001b[0;32m-> 3361\u001b[0;31m                 \u001b[0;32mreturn\u001b[0m \u001b[0mself\u001b[0m\u001b[0;34m.\u001b[0m\u001b[0m_engine\u001b[0m\u001b[0;34m.\u001b[0m\u001b[0mget_loc\u001b[0m\u001b[0;34m(\u001b[0m\u001b[0mcasted_key\u001b[0m\u001b[0;34m)\u001b[0m\u001b[0;34m\u001b[0m\u001b[0;34m\u001b[0m\u001b[0m\n\u001b[0m\u001b[1;32m   3362\u001b[0m             \u001b[0;32mexcept\u001b[0m \u001b[0mKeyError\u001b[0m \u001b[0;32mas\u001b[0m \u001b[0merr\u001b[0m\u001b[0;34m:\u001b[0m\u001b[0;34m\u001b[0m\u001b[0;34m\u001b[0m\u001b[0m\n",
      "\u001b[0;32m~/opt/anaconda3/lib/python3.9/site-packages/pandas/_libs/index.pyx\u001b[0m in \u001b[0;36mpandas._libs.index.IndexEngine.get_loc\u001b[0;34m()\u001b[0m\n",
      "\u001b[0;32m~/opt/anaconda3/lib/python3.9/site-packages/pandas/_libs/index.pyx\u001b[0m in \u001b[0;36mpandas._libs.index.IndexEngine.get_loc\u001b[0;34m()\u001b[0m\n",
      "\u001b[0;32mpandas/_libs/hashtable_class_helper.pxi\u001b[0m in \u001b[0;36mpandas._libs.hashtable.PyObjectHashTable.get_item\u001b[0;34m()\u001b[0m\n",
      "\u001b[0;32mpandas/_libs/hashtable_class_helper.pxi\u001b[0m in \u001b[0;36mpandas._libs.hashtable.PyObjectHashTable.get_item\u001b[0;34m()\u001b[0m\n",
      "\u001b[0;31mKeyError\u001b[0m: 'comments'",
      "\nThe above exception was the direct cause of the following exception:\n",
      "\u001b[0;31mKeyError\u001b[0m                                  Traceback (most recent call last)",
      "\u001b[0;32m/var/folders/j4/fj647cj14gd9kk21c0z8rmm00000gn/T/ipykernel_2710/1992138581.py\u001b[0m in \u001b[0;36m<module>\u001b[0;34m\u001b[0m\n\u001b[1;32m      5\u001b[0m \u001b[0mdf\u001b[0m\u001b[0;34m.\u001b[0m\u001b[0mhead\u001b[0m\u001b[0;34m(\u001b[0m\u001b[0;36m3\u001b[0m\u001b[0;34m)\u001b[0m\u001b[0;34m\u001b[0m\u001b[0;34m\u001b[0m\u001b[0m\n\u001b[1;32m      6\u001b[0m \u001b[0;34m\u001b[0m\u001b[0m\n\u001b[0;32m----> 7\u001b[0;31m \u001b[0mpd\u001b[0m\u001b[0;34m.\u001b[0m\u001b[0moptions\u001b[0m\u001b[0;34m.\u001b[0m\u001b[0mdisplay\u001b[0m\u001b[0;34m.\u001b[0m\u001b[0mmax_colwidth\u001b[0m \u001b[0;34m=\u001b[0m \u001b[0mint\u001b[0m\u001b[0;34m(\u001b[0m\u001b[0mdf\u001b[0m\u001b[0;34m[\u001b[0m\u001b[0;34m'comments'\u001b[0m\u001b[0;34m]\u001b[0m\u001b[0;34m.\u001b[0m\u001b[0mstr\u001b[0m\u001b[0;34m.\u001b[0m\u001b[0mlen\u001b[0m\u001b[0;34m(\u001b[0m\u001b[0;34m)\u001b[0m\u001b[0;34m.\u001b[0m\u001b[0mmax\u001b[0m\u001b[0;34m(\u001b[0m\u001b[0;34m)\u001b[0m\u001b[0;34m)\u001b[0m \u001b[0;34m+\u001b[0m \u001b[0;36m1\u001b[0m\u001b[0;34m\u001b[0m\u001b[0;34m\u001b[0m\u001b[0m\n\u001b[0m\u001b[1;32m      8\u001b[0m \u001b[0mpd\u001b[0m\u001b[0;34m.\u001b[0m\u001b[0moptions\u001b[0m\u001b[0;34m.\u001b[0m\u001b[0mdisplay\u001b[0m\u001b[0;34m.\u001b[0m\u001b[0mmax_rows\u001b[0m \u001b[0;34m=\u001b[0m \u001b[0;36m500\u001b[0m\u001b[0;34m\u001b[0m\u001b[0;34m\u001b[0m\u001b[0m\n\u001b[1;32m      9\u001b[0m \u001b[0mpd\u001b[0m\u001b[0;34m.\u001b[0m\u001b[0moptions\u001b[0m\u001b[0;34m.\u001b[0m\u001b[0mdisplay\u001b[0m\u001b[0;34m.\u001b[0m\u001b[0mmax_columns\u001b[0m \u001b[0;34m=\u001b[0m \u001b[0;36m500\u001b[0m\u001b[0;34m\u001b[0m\u001b[0;34m\u001b[0m\u001b[0m\n",
      "\u001b[0;32m~/opt/anaconda3/lib/python3.9/site-packages/pandas/core/frame.py\u001b[0m in \u001b[0;36m__getitem__\u001b[0;34m(self, key)\u001b[0m\n\u001b[1;32m   3456\u001b[0m             \u001b[0;32mif\u001b[0m \u001b[0mself\u001b[0m\u001b[0;34m.\u001b[0m\u001b[0mcolumns\u001b[0m\u001b[0;34m.\u001b[0m\u001b[0mnlevels\u001b[0m \u001b[0;34m>\u001b[0m \u001b[0;36m1\u001b[0m\u001b[0;34m:\u001b[0m\u001b[0;34m\u001b[0m\u001b[0;34m\u001b[0m\u001b[0m\n\u001b[1;32m   3457\u001b[0m                 \u001b[0;32mreturn\u001b[0m \u001b[0mself\u001b[0m\u001b[0;34m.\u001b[0m\u001b[0m_getitem_multilevel\u001b[0m\u001b[0;34m(\u001b[0m\u001b[0mkey\u001b[0m\u001b[0;34m)\u001b[0m\u001b[0;34m\u001b[0m\u001b[0;34m\u001b[0m\u001b[0m\n\u001b[0;32m-> 3458\u001b[0;31m             \u001b[0mindexer\u001b[0m \u001b[0;34m=\u001b[0m \u001b[0mself\u001b[0m\u001b[0;34m.\u001b[0m\u001b[0mcolumns\u001b[0m\u001b[0;34m.\u001b[0m\u001b[0mget_loc\u001b[0m\u001b[0;34m(\u001b[0m\u001b[0mkey\u001b[0m\u001b[0;34m)\u001b[0m\u001b[0;34m\u001b[0m\u001b[0;34m\u001b[0m\u001b[0m\n\u001b[0m\u001b[1;32m   3459\u001b[0m             \u001b[0;32mif\u001b[0m \u001b[0mis_integer\u001b[0m\u001b[0;34m(\u001b[0m\u001b[0mindexer\u001b[0m\u001b[0;34m)\u001b[0m\u001b[0;34m:\u001b[0m\u001b[0;34m\u001b[0m\u001b[0;34m\u001b[0m\u001b[0m\n\u001b[1;32m   3460\u001b[0m                 \u001b[0mindexer\u001b[0m \u001b[0;34m=\u001b[0m \u001b[0;34m[\u001b[0m\u001b[0mindexer\u001b[0m\u001b[0;34m]\u001b[0m\u001b[0;34m\u001b[0m\u001b[0;34m\u001b[0m\u001b[0m\n",
      "\u001b[0;32m~/opt/anaconda3/lib/python3.9/site-packages/pandas/core/indexes/base.py\u001b[0m in \u001b[0;36mget_loc\u001b[0;34m(self, key, method, tolerance)\u001b[0m\n\u001b[1;32m   3361\u001b[0m                 \u001b[0;32mreturn\u001b[0m \u001b[0mself\u001b[0m\u001b[0;34m.\u001b[0m\u001b[0m_engine\u001b[0m\u001b[0;34m.\u001b[0m\u001b[0mget_loc\u001b[0m\u001b[0;34m(\u001b[0m\u001b[0mcasted_key\u001b[0m\u001b[0;34m)\u001b[0m\u001b[0;34m\u001b[0m\u001b[0;34m\u001b[0m\u001b[0m\n\u001b[1;32m   3362\u001b[0m             \u001b[0;32mexcept\u001b[0m \u001b[0mKeyError\u001b[0m \u001b[0;32mas\u001b[0m \u001b[0merr\u001b[0m\u001b[0;34m:\u001b[0m\u001b[0;34m\u001b[0m\u001b[0;34m\u001b[0m\u001b[0m\n\u001b[0;32m-> 3363\u001b[0;31m                 \u001b[0;32mraise\u001b[0m \u001b[0mKeyError\u001b[0m\u001b[0;34m(\u001b[0m\u001b[0mkey\u001b[0m\u001b[0;34m)\u001b[0m \u001b[0;32mfrom\u001b[0m \u001b[0merr\u001b[0m\u001b[0;34m\u001b[0m\u001b[0;34m\u001b[0m\u001b[0m\n\u001b[0m\u001b[1;32m   3364\u001b[0m \u001b[0;34m\u001b[0m\u001b[0m\n\u001b[1;32m   3365\u001b[0m         \u001b[0;32mif\u001b[0m \u001b[0mis_scalar\u001b[0m\u001b[0;34m(\u001b[0m\u001b[0mkey\u001b[0m\u001b[0;34m)\u001b[0m \u001b[0;32mand\u001b[0m \u001b[0misna\u001b[0m\u001b[0;34m(\u001b[0m\u001b[0mkey\u001b[0m\u001b[0;34m)\u001b[0m \u001b[0;32mand\u001b[0m \u001b[0;32mnot\u001b[0m \u001b[0mself\u001b[0m\u001b[0;34m.\u001b[0m\u001b[0mhasnans\u001b[0m\u001b[0;34m:\u001b[0m\u001b[0;34m\u001b[0m\u001b[0;34m\u001b[0m\u001b[0m\n",
      "\u001b[0;31mKeyError\u001b[0m: 'comments'"
     ]
    }
   ],
   "source": [
    "url = 'https://drive.google.com/file/d/167mOe7k20D29QLjbYzFUi5Mqzrwf-lCe/view?usp=sharing'\n",
    "path = 'https://drive.google.com/uc?export=download&id='+url.split('/')[-2]\n",
    "df = pd.read_csv(path)\n",
    "\n",
    "df.head(3)\n",
    "\n",
    "pd.options.display.max_colwidth = int(df['comments'].str.len().max()) + 1\n",
    "pd.options.display.max_rows = 500\n",
    "pd.options.display.max_columns = 500"
   ]
  },
  {
   "cell_type": "code",
   "execution_count": 3,
   "id": "ecd4d2c3-7fe2-449b-8ed0-15405deca20f",
   "metadata": {},
   "outputs": [
    {
     "data": {
      "text/plain": [
       "id                             0\n",
       "date                           1\n",
       "reviewer_id                    1\n",
       "comments                       1\n",
       "review_scores_rating           2\n",
       "review_scores_accuracy         2\n",
       "review_scores_cleanliness      2\n",
       "review_scores_checkin          2\n",
       "review_scores_communication    2\n",
       "review_scores_location         3\n",
       "review_scores_value            3\n",
       "overall_score_bin              3\n",
       "dtype: int64"
      ]
     },
     "execution_count": 3,
     "metadata": {},
     "output_type": "execute_result"
    }
   ],
   "source": [
    "#data cleanup and checks in following cells \n",
    "\n",
    "df.isna().sum()"
   ]
  },
  {
   "cell_type": "code",
   "execution_count": 4,
   "id": "dc3c7dea-d709-41b1-b9e2-deaf935fb4f7",
   "metadata": {},
   "outputs": [],
   "source": [
    "df.dropna(inplace=True)"
   ]
  },
  {
   "cell_type": "code",
   "execution_count": 5,
   "id": "90051446-a0e3-4152-9c62-e8d55bee5e00",
   "metadata": {},
   "outputs": [
    {
     "name": "stdout",
     "output_type": "stream",
     "text": [
      "<class 'pandas.core.frame.DataFrame'>\n",
      "Int64Index: 602389 entries, 0 to 602391\n",
      "Data columns (total 12 columns):\n",
      " #   Column                       Non-Null Count   Dtype  \n",
      "---  ------                       --------------   -----  \n",
      " 0   id                           602389 non-null  object \n",
      " 1   date                         602389 non-null  object \n",
      " 2   reviewer_id                  602389 non-null  float64\n",
      " 3   comments                     602389 non-null  object \n",
      " 4   review_scores_rating         602389 non-null  float64\n",
      " 5   review_scores_accuracy       602389 non-null  float64\n",
      " 6   review_scores_cleanliness    602389 non-null  float64\n",
      " 7   review_scores_checkin        602389 non-null  float64\n",
      " 8   review_scores_communication  602389 non-null  float64\n",
      " 9   review_scores_location       602389 non-null  float64\n",
      " 10  review_scores_value          602389 non-null  float64\n",
      " 11  overall_score_bin            602389 non-null  float64\n",
      "dtypes: float64(9), object(3)\n",
      "memory usage: 59.7+ MB\n"
     ]
    }
   ],
   "source": [
    "df.info()"
   ]
  },
  {
   "cell_type": "code",
   "execution_count": 6,
   "id": "3cbfa80f-4197-4a53-8368-23c14642ee54",
   "metadata": {},
   "outputs": [],
   "source": [
    "df['id'] = df['id'].astype(float)\n",
    "df['date'] = pd.to_datetime(df['date'])"
   ]
  },
  {
   "cell_type": "code",
   "execution_count": 7,
   "id": "e411962e-fa4f-4bb0-b090-80f9c1a181de",
   "metadata": {},
   "outputs": [],
   "source": [
    "#binning review scores for subcategories for easier analysis\n",
    "\n",
    "b = [0, 1, 1.5, 2, 2.5, 3, 3.5, 4, 4.5, 5, 5.5]\n",
    "l = [0, 1, 1.5, 2, 2.5, 3, 3.5, 4, 4.5, 5]\n",
    "\n",
    "df['accuracy_score_bin'] = pd.cut(df['review_scores_accuracy'], bins = b, labels=l, right=False)\n",
    "df['cleanliness_score_bin'] = pd.cut(df['review_scores_cleanliness'], bins = b, labels=l, right=False)\n",
    "df['checkin_score_bin'] = pd.cut(df['review_scores_checkin'], bins = b, labels=l, right=False)\n",
    "df['communication_score_bin'] = pd.cut(df['review_scores_communication'], bins = b, labels=l, right=False)\n",
    "df['location_score_bin'] = pd.cut(df['review_scores_location'], bins = b, labels=l, right=False)\n",
    "df['value_score_bin'] = pd.cut(df['review_scores_value'], bins = b, labels=l, right=False)"
   ]
  },
  {
   "cell_type": "markdown",
   "id": "acb29618-a8e2-4571-b032-d5ca421dc0eb",
   "metadata": {},
   "source": [
    "## Cleanliness"
   ]
  },
  {
   "cell_type": "code",
   "execution_count": 8,
   "id": "3e975bad-61c0-4b45-88c8-310e03ed6def",
   "metadata": {},
   "outputs": [
    {
     "data": {
      "text/html": [
       "<div>\n",
       "<style scoped>\n",
       "    .dataframe tbody tr th:only-of-type {\n",
       "        vertical-align: middle;\n",
       "    }\n",
       "\n",
       "    .dataframe tbody tr th {\n",
       "        vertical-align: top;\n",
       "    }\n",
       "\n",
       "    .dataframe thead th {\n",
       "        text-align: right;\n",
       "    }\n",
       "</style>\n",
       "<table border=\"1\" class=\"dataframe\">\n",
       "  <thead>\n",
       "    <tr style=\"text-align: right;\">\n",
       "      <th></th>\n",
       "      <th>cleanliness_score_bin</th>\n",
       "      <th>comments</th>\n",
       "    </tr>\n",
       "  </thead>\n",
       "  <tbody>\n",
       "    <tr>\n",
       "      <th>0</th>\n",
       "      <td>4.5</td>\n",
       "      <td>i ve stayed with my friend at the midtown castle for six days and it was a lovely place to be a big spacious room with a pointy roof which really makes you feel like staying in a castle the location is perfect it is just a few steps from macy s time square and theatre district everything worked just perfect with the keys etc thank you so much jennifer we had a great time in new york attention it s on the 4th floor without a lift  but definetely worth it</td>\n",
       "    </tr>\n",
       "    <tr>\n",
       "      <th>1</th>\n",
       "      <td>4.5</td>\n",
       "      <td>we ve been staying here for about 9 nights enjoying to be in the center of the city that never sleepsshort ways to everywhere in manhattan by subway or by walk midtown castle is a beauftiful and tastful place jennifer and tori relaxed and friendly hosts  thats why we  the three berliners  recommand that place good to have wifi and a little kitchen too</td>\n",
       "    </tr>\n",
       "    <tr>\n",
       "      <th>2</th>\n",
       "      <td>4.5</td>\n",
       "      <td>we had a wonderful stay at jennifer s charming apartment they were very organized and helpful i would definitely recommend staying at the midtown castle</td>\n",
       "    </tr>\n",
       "  </tbody>\n",
       "</table>\n",
       "</div>"
      ],
      "text/plain": [
       "  cleanliness_score_bin  \\\n",
       "0                   4.5   \n",
       "1                   4.5   \n",
       "2                   4.5   \n",
       "\n",
       "                                                                                                                                                                                                                                                                                                                                                                                                                                                                    comments  \n",
       "0  i ve stayed with my friend at the midtown castle for six days and it was a lovely place to be a big spacious room with a pointy roof which really makes you feel like staying in a castle the location is perfect it is just a few steps from macy s time square and theatre district everything worked just perfect with the keys etc thank you so much jennifer we had a great time in new york attention it s on the 4th floor without a lift  but definetely worth it  \n",
       "1                                                                                                          we ve been staying here for about 9 nights enjoying to be in the center of the city that never sleepsshort ways to everywhere in manhattan by subway or by walk midtown castle is a beauftiful and tastful place jennifer and tori relaxed and friendly hosts  thats why we  the three berliners  recommand that place good to have wifi and a little kitchen too  \n",
       "2                                                                                                                                                                                                                                                                                                                   we had a wonderful stay at jennifer s charming apartment they were very organized and helpful i would definitely recommend staying at the midtown castle  "
      ]
     },
     "execution_count": 8,
     "metadata": {},
     "output_type": "execute_result"
    }
   ],
   "source": [
    "clean = df[['cleanliness_score_bin', 'comments']]\n",
    "clean.head(3)"
   ]
  },
  {
   "cell_type": "code",
   "execution_count": 9,
   "id": "a0543055-f75a-4988-b6d8-67cc20e60859",
   "metadata": {},
   "outputs": [
    {
     "name": "stderr",
     "output_type": "stream",
     "text": [
      "/var/folders/j4/fj647cj14gd9kk21c0z8rmm00000gn/T/ipykernel_2710/3322646403.py:5: SettingWithCopyWarning: \n",
      "A value is trying to be set on a copy of a slice from a DataFrame.\n",
      "Try using .loc[row_indexer,col_indexer] = value instead\n",
      "\n",
      "See the caveats in the documentation: https://pandas.pydata.org/pandas-docs/stable/user_guide/indexing.html#returning-a-view-versus-a-copy\n",
      "  clean['contains_clean_word'] = clean['comments'].str.contains('|'.join(clean_words), True, False)\n"
     ]
    },
    {
     "data": {
      "text/html": [
       "<div>\n",
       "<style scoped>\n",
       "    .dataframe tbody tr th:only-of-type {\n",
       "        vertical-align: middle;\n",
       "    }\n",
       "\n",
       "    .dataframe tbody tr th {\n",
       "        vertical-align: top;\n",
       "    }\n",
       "\n",
       "    .dataframe thead th {\n",
       "        text-align: right;\n",
       "    }\n",
       "</style>\n",
       "<table border=\"1\" class=\"dataframe\">\n",
       "  <thead>\n",
       "    <tr style=\"text-align: right;\">\n",
       "      <th></th>\n",
       "      <th>cleanliness_score_bin</th>\n",
       "      <th>comments</th>\n",
       "      <th>contains_clean_word</th>\n",
       "    </tr>\n",
       "  </thead>\n",
       "  <tbody>\n",
       "    <tr>\n",
       "      <th>0</th>\n",
       "      <td>4.5</td>\n",
       "      <td>i ve stayed with my friend at the midtown castle for six days and it was a lovely place to be a big spacious room with a pointy roof which really makes you feel like staying in a castle the location is perfect it is just a few steps from macy s time square and theatre district everything worked just perfect with the keys etc thank you so much jennifer we had a great time in new york attention it s on the 4th floor without a lift  but definetely worth it</td>\n",
       "      <td>False</td>\n",
       "    </tr>\n",
       "    <tr>\n",
       "      <th>1</th>\n",
       "      <td>4.5</td>\n",
       "      <td>we ve been staying here for about 9 nights enjoying to be in the center of the city that never sleepsshort ways to everywhere in manhattan by subway or by walk midtown castle is a beauftiful and tastful place jennifer and tori relaxed and friendly hosts  thats why we  the three berliners  recommand that place good to have wifi and a little kitchen too</td>\n",
       "      <td>False</td>\n",
       "    </tr>\n",
       "    <tr>\n",
       "      <th>2</th>\n",
       "      <td>4.5</td>\n",
       "      <td>we had a wonderful stay at jennifer s charming apartment they were very organized and helpful i would definitely recommend staying at the midtown castle</td>\n",
       "      <td>False</td>\n",
       "    </tr>\n",
       "  </tbody>\n",
       "</table>\n",
       "</div>"
      ],
      "text/plain": [
       "  cleanliness_score_bin  \\\n",
       "0                   4.5   \n",
       "1                   4.5   \n",
       "2                   4.5   \n",
       "\n",
       "                                                                                                                                                                                                                                                                                                                                                                                                                                                                    comments  \\\n",
       "0  i ve stayed with my friend at the midtown castle for six days and it was a lovely place to be a big spacious room with a pointy roof which really makes you feel like staying in a castle the location is perfect it is just a few steps from macy s time square and theatre district everything worked just perfect with the keys etc thank you so much jennifer we had a great time in new york attention it s on the 4th floor without a lift  but definetely worth it   \n",
       "1                                                                                                          we ve been staying here for about 9 nights enjoying to be in the center of the city that never sleepsshort ways to everywhere in manhattan by subway or by walk midtown castle is a beauftiful and tastful place jennifer and tori relaxed and friendly hosts  thats why we  the three berliners  recommand that place good to have wifi and a little kitchen too   \n",
       "2                                                                                                                                                                                                                                                                                                                   we had a wonderful stay at jennifer s charming apartment they were very organized and helpful i would definitely recommend staying at the midtown castle   \n",
       "\n",
       "   contains_clean_word  \n",
       "0                False  \n",
       "1                False  \n",
       "2                False  "
      ]
     },
     "execution_count": 9,
     "metadata": {},
     "output_type": "execute_result"
    }
   ],
   "source": [
    "#found code for joining list of words through stackoverflow\n",
    "\n",
    "clean_words = ['clean', 'dirty', 'disgusting', 'immaculate', 'gross', 'spotless']\n",
    "\n",
    "clean['contains_clean_word'] = clean['comments'].str.contains('|'.join(clean_words), True, False)\n",
    "\n",
    "clean.head(3)"
   ]
  },
  {
   "cell_type": "code",
   "execution_count": 10,
   "id": "687ed417-5d97-4d7b-8b16-cf3215a7822c",
   "metadata": {},
   "outputs": [
    {
     "data": {
      "text/plain": [
       "False    0.603781\n",
       "True     0.396219\n",
       "Name: contains_clean_word, dtype: float64"
      ]
     },
     "execution_count": 10,
     "metadata": {},
     "output_type": "execute_result"
    }
   ],
   "source": [
    "clean['contains_clean_word'].value_counts(normalize=True)"
   ]
  },
  {
   "cell_type": "code",
   "execution_count": 17,
   "id": "e2a6f5af-4ab9-446e-b94e-b89d4ffee7a2",
   "metadata": {
    "tags": []
   },
   "outputs": [
    {
     "data": {
      "text/plain": [
       "<AxesSubplot:title={'center':'Reviewers Ranked Cleanliness But Did Not Mention in Review'}>"
      ]
     },
     "execution_count": 17,
     "metadata": {},
     "output_type": "execute_result"
    },
    {
     "data": {
      "image/png": "[encoded data removed]",
      "text/plain": [
       "<Figure size 720x360 with 1 Axes>"
      ]
     },
     "metadata": {
      "needs_background": "light"
     },
     "output_type": "display_data"
    }
   ],
   "source": [
    "no_clean_words = clean[clean['contains_clean_word'] == False].sample(frac=.1)\n",
    "no_clean_words['cleanliness_score_bin'].value_counts().plot.bar(figsize=(10,5), title='Reviewers Ranked Cleanliness But Did Not Mention in Review')"
   ]
  },
  {
   "cell_type": "code",
   "execution_count": 18,
   "id": "37e6970e-2c60-476d-a306-32641fcf853b",
   "metadata": {
    "tags": []
   },
   "outputs": [
    {
     "data": {
      "text/plain": [
       "<AxesSubplot:title={'center':'Reviewers Rated Cleanliness as High And Mentioned in Reviews'}>"
      ]
     },
     "execution_count": 18,
     "metadata": {},
     "output_type": "execute_result"
    },
    {
     "data": {
      "image/png": "[encoded data removed]",
      "text/plain": [
       "<Figure size 720x360 with 1 Axes>"
      ]
     },
     "metadata": {
      "needs_background": "light"
     },
     "output_type": "display_data"
    }
   ],
   "source": [
    "with_clean_words = clean[clean['contains_clean_word'] == True].sample(frac=.1)\n",
    "with_clean_words['cleanliness_score_bin'].value_counts().plot.bar(figsize=(10,5), title='Reviewers Rated Cleanliness as High And Mentioned in Reviews')"
   ]
  },
  {
   "cell_type": "markdown",
   "id": "727d9f4d-a61f-4fe3-8fee-271b4ca6bade",
   "metadata": {},
   "source": [
    "- Not all reviews mention cleanliness, but the host still gets a score for cleanliness\n",
    "- For reviews that do mention cleanliness, it looks like there's a linear relationship between cleanliness score and the mention of being clean\n",
    "- Is there a relationship between positive and negative descriptions of cleanliness and cleanliness rating?"
   ]
  },
  {
   "cell_type": "code",
   "execution_count": 23,
   "id": "e2b86fcd-c50e-4344-9a89-468e70830335",
   "metadata": {},
   "outputs": [
    {
     "name": "stderr",
     "output_type": "stream",
     "text": [
      "/var/folders/j4/fj647cj14gd9kk21c0z8rmm00000gn/T/ipykernel_2710/2505064764.py:4: SettingWithCopyWarning: \n",
      "A value is trying to be set on a copy of a slice from a DataFrame.\n",
      "Try using .loc[row_indexer,col_indexer] = value instead\n",
      "\n",
      "See the caveats in the documentation: https://pandas.pydata.org/pandas-docs/stable/user_guide/indexing.html#returning-a-view-versus-a-copy\n",
      "  clean['positive_clean'] = clean['comments'].str.contains('|'.join(positive_clean_words), True, False)\n",
      "/var/folders/j4/fj647cj14gd9kk21c0z8rmm00000gn/T/ipykernel_2710/2505064764.py:5: SettingWithCopyWarning: \n",
      "A value is trying to be set on a copy of a slice from a DataFrame.\n",
      "Try using .loc[row_indexer,col_indexer] = value instead\n",
      "\n",
      "See the caveats in the documentation: https://pandas.pydata.org/pandas-docs/stable/user_guide/indexing.html#returning-a-view-versus-a-copy\n",
      "  clean['negative_clean'] = clean['comments'].str.contains('|'.join(negative_clean_words), True, False)\n"
     ]
    },
    {
     "data": {
      "text/html": [
       "<div>\n",
       "<style scoped>\n",
       "    .dataframe tbody tr th:only-of-type {\n",
       "        vertical-align: middle;\n",
       "    }\n",
       "\n",
       "    .dataframe tbody tr th {\n",
       "        vertical-align: top;\n",
       "    }\n",
       "\n",
       "    .dataframe thead th {\n",
       "        text-align: right;\n",
       "    }\n",
       "</style>\n",
       "<table border=\"1\" class=\"dataframe\">\n",
       "  <thead>\n",
       "    <tr style=\"text-align: right;\">\n",
       "      <th></th>\n",
       "      <th>cleanliness_score_bin</th>\n",
       "      <th>comments</th>\n",
       "      <th>contains_clean_word</th>\n",
       "      <th>positive_clean</th>\n",
       "      <th>negative_clean</th>\n",
       "    </tr>\n",
       "  </thead>\n",
       "  <tbody>\n",
       "    <tr>\n",
       "      <th>0</th>\n",
       "      <td>4.5</td>\n",
       "      <td>i ve stayed with my friend at the midtown castle for six days and it was a lovely place to be a big spacious room with a pointy roof which really makes you feel like staying in a castle the location is perfect it is just a few steps from macy s time square and theatre district everything worked just perfect with the keys etc thank you so much jennifer we had a great time in new york attention it s on the 4th floor without a lift  but definetely worth it</td>\n",
       "      <td>False</td>\n",
       "      <td>False</td>\n",
       "      <td>False</td>\n",
       "    </tr>\n",
       "    <tr>\n",
       "      <th>1</th>\n",
       "      <td>4.5</td>\n",
       "      <td>we ve been staying here for about 9 nights enjoying to be in the center of the city that never sleepsshort ways to everywhere in manhattan by subway or by walk midtown castle is a beauftiful and tastful place jennifer and tori relaxed and friendly hosts  thats why we  the three berliners  recommand that place good to have wifi and a little kitchen too</td>\n",
       "      <td>False</td>\n",
       "      <td>False</td>\n",
       "      <td>False</td>\n",
       "    </tr>\n",
       "    <tr>\n",
       "      <th>2</th>\n",
       "      <td>4.5</td>\n",
       "      <td>we had a wonderful stay at jennifer s charming apartment they were very organized and helpful i would definitely recommend staying at the midtown castle</td>\n",
       "      <td>False</td>\n",
       "      <td>False</td>\n",
       "      <td>False</td>\n",
       "    </tr>\n",
       "  </tbody>\n",
       "</table>\n",
       "</div>"
      ],
      "text/plain": [
       "  cleanliness_score_bin  \\\n",
       "0                   4.5   \n",
       "1                   4.5   \n",
       "2                   4.5   \n",
       "\n",
       "                                                                                                                                                                                                                                                                                                                                                                                                                                                                    comments  \\\n",
       "0  i ve stayed with my friend at the midtown castle for six days and it was a lovely place to be a big spacious room with a pointy roof which really makes you feel like staying in a castle the location is perfect it is just a few steps from macy s time square and theatre district everything worked just perfect with the keys etc thank you so much jennifer we had a great time in new york attention it s on the 4th floor without a lift  but definetely worth it   \n",
       "1                                                                                                          we ve been staying here for about 9 nights enjoying to be in the center of the city that never sleepsshort ways to everywhere in manhattan by subway or by walk midtown castle is a beauftiful and tastful place jennifer and tori relaxed and friendly hosts  thats why we  the three berliners  recommand that place good to have wifi and a little kitchen too   \n",
       "2                                                                                                                                                                                                                                                                                                                   we had a wonderful stay at jennifer s charming apartment they were very organized and helpful i would definitely recommend staying at the midtown castle   \n",
       "\n",
       "   contains_clean_word  positive_clean  negative_clean  \n",
       "0                False           False           False  \n",
       "1                False           False           False  \n",
       "2                False           False           False  "
      ]
     },
     "execution_count": 23,
     "metadata": {},
     "output_type": "execute_result"
    }
   ],
   "source": [
    "positive_clean_words = ['clean', 'immaculate', 'spotless', 'not dirty']\n",
    "negative_clean_words = ['dirty', 'disgusting', 'gross', 'not clean']\n",
    "\n",
    "clean['positive_clean'] = clean['comments'].str.contains('|'.join(positive_clean_words), True, False)\n",
    "clean['negative_clean'] = clean['comments'].str.contains('|'.join(negative_clean_words), True, False)\n",
    "\n",
    "clean.head(3)"
   ]
  },
  {
   "cell_type": "code",
   "execution_count": 24,
   "id": "856290b5-6237-4b3f-a52e-665b69fca38e",
   "metadata": {},
   "outputs": [
    {
     "data": {
      "text/plain": [
       "<AxesSubplot:title={'center':'Reviewers Rated Cleanliness as High With Positive Words About Cleanliness'}>"
      ]
     },
     "execution_count": 24,
     "metadata": {},
     "output_type": "execute_result"
    },
    {
     "data": {
      "image/png": "[encoded data removed]",
      "text/plain": [
       "<Figure size 720x360 with 1 Axes>"
      ]
     },
     "metadata": {
      "needs_background": "light"
     },
     "output_type": "display_data"
    }
   ],
   "source": [
    "#check rates for positive clean\n",
    "\n",
    "positive_clean  = clean[clean['positive_clean'] == True]\n",
    "positive_clean['cleanliness_score_bin'].value_counts().plot.bar(figsize=(10,5), title='Reviewers Rated Cleanliness as High With Positive Words About Cleanliness')"
   ]
  },
  {
   "cell_type": "code",
   "execution_count": 25,
   "id": "ca9eb132-a947-4158-8547-c6f75d776f5f",
   "metadata": {},
   "outputs": [
    {
     "data": {
      "text/plain": [
       "<AxesSubplot:title={'center':'Reviewers Still Rated Cleanliness as High Even With Negative Words About Cleanliness'}>"
      ]
     },
     "execution_count": 25,
     "metadata": {},
     "output_type": "execute_result"
    },
    {
     "data": {
      "image/png": "[encoded data removed]",
      "text/plain": [
       "<Figure size 720x360 with 1 Axes>"
      ]
     },
     "metadata": {
      "needs_background": "light"
     },
     "output_type": "display_data"
    }
   ],
   "source": [
    "#check rates for negative clean\n",
    "\n",
    "neg_clean  = clean[clean['negative_clean'] == True]\n",
    "neg_clean['cleanliness_score_bin'].value_counts().plot.bar(figsize=(10,5), title='Reviewers Still Rated Cleanliness as High Even With Negative Words About Cleanliness')"
   ]
  },
  {
   "cell_type": "markdown",
   "id": "099a2b41-1827-4891-8a48-9b29c63b2d41",
   "metadata": {},
   "source": [
    "- This reveals that subcategory ratings-- at an aggregate level --might have outlier incidents of being dirty or unclean, but the overall rating will still remain high if the apartment is generally clean for other stays\n",
    "- Reviews can be used to extract categories that visitors found important to mention in their reviews. Additional EDA can be done to find what key words highlight subcategory themes visitors wrote about in their reviews and pulled into target columns, which can be used to train the classification model."
   ]
  },
  {
   "cell_type": "code",
   "execution_count": null,
   "id": "a5863234-5054-4b78-821a-fa38fcbc0fb0",
   "metadata": {},
   "outputs": [],
   "source": []
  }
 ],
 "metadata": {
  "kernelspec": {
   "display_name": "Python 3 (ipykernel)",
   "language": "python",
   "name": "python3"
  },
  "language_info": {
   "codemirror_mode": {
    "name": "ipython",
    "version": 3
   },
   "file_extension": ".py",
   "mimetype": "text/x-python",
   "name": "python",
   "nbconvert_exporter": "python",
   "pygments_lexer": "ipython3",
   "version": "3.9.7"
  }
 },
 "nbformat": 4,
 "nbformat_minor": 5
}
