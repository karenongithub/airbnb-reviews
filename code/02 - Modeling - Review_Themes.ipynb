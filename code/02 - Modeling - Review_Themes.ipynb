{
  "nbformat": 4,
  "nbformat_minor": 0,
  "metadata": {
    "colab": {
      "name": "02 - Modeling - Review Themes",
      "provenance": [],
      "collapsed_sections": []
    },
    "kernelspec": {
      "name": "python3",
      "display_name": "Python 3"
    },
    "language_info": {
      "name": "python"
    }
  },
  "cells": [
    {
      "cell_type": "code",
      "execution_count": 82,
      "metadata": {
        "id": "1QvL7aQYrl74"
      },
      "outputs": [],
      "source": [
        "import pandas as pd\n",
        "import numpy as np\n",
        "import matplotlib.pyplot as plt\n",
        "import seaborn as sns\n",
        "\n",
        "from sklearn.feature_extraction.text import CountVectorizer\n",
        "from sklearn.feature_extraction import text\n",
        "\n",
        "from nltk.tokenize import sent_tokenize, word_tokenize, RegexpTokenizer\n",
        "from nltk.stem import WordNetLemmatizer\n",
        "from nltk.stem.porter import PorterStemmer\n",
        "from nltk.corpus import stopwords\n",
        "\n",
        "from spacy.lang.en.stop_words import STOP_WORDS\n",
        "\n",
        "pd.set_option('display.max_rows', 1000)\n",
        "pd.set_option('display.max_columns', 500)\n",
        "pd.set_option('display.width', 1000)"
      ]
    },
    {
      "cell_type": "code",
      "source": [
        "#found code solution from stackoverflow: https://stackoverflow.com/questions/48376580/google-colab-how-to-read-data-from-my-google-drive\n",
        "\n",
        "from google.colab import drive\n",
        "drive.mount('/content/drive')\n",
        "\n",
        "%cd /content/drive/My Drive/Datasets/Capstone/\n",
        "\n",
        "df = pd.read_csv('all_reviews_for_vectorizing.csv')"
      ],
      "metadata": {
        "colab": {
          "base_uri": "https://localhost:8080/"
        },
        "id": "bJ5A0DMrrv7M",
        "outputId": "a447d76a-192c-4555-bf40-a3ee3a3fc7ec"
      },
      "execution_count": 83,
      "outputs": [
        {
          "output_type": "stream",
          "name": "stdout",
          "text": [
            "Drive already mounted at /content/drive; to attempt to forcibly remount, call drive.mount(\"/content/drive\", force_remount=True).\n",
            "/content/drive/My Drive/Datasets/Capstone\n"
          ]
        },
        {
          "output_type": "stream",
          "name": "stderr",
          "text": [
            "/usr/local/lib/python3.7/dist-packages/IPython/core/interactiveshell.py:2882: DtypeWarning: Columns (0,8) have mixed types.Specify dtype option on import or set low_memory=False.\n",
            "  exec(code_obj, self.user_global_ns, self.user_ns)\n"
          ]
        }
      ]
    },
    {
      "cell_type": "code",
      "source": [
        "#data cleanup\n",
        "df.dropna(inplace=True)\n",
        "\n",
        "#sample down data\n",
        "df2 = df.sample(frac=0.02)"
      ],
      "metadata": {
        "id": "ioQ3SjT6r2VM"
      },
      "execution_count": 84,
      "outputs": []
    },
    {
      "cell_type": "code",
      "source": [
        "df2.head(3)"
      ],
      "metadata": {
        "colab": {
          "base_uri": "https://localhost:8080/",
          "height": 433
        },
        "id": "KGKl6JGKtVYO",
        "outputId": "59b76dbb-4711-4bef-c879-fc8a5a174bb5"
      },
      "execution_count": 85,
      "outputs": [
        {
          "output_type": "execute_result",
          "data": {
            "text/plain": [
              "       listing_id            id        date  reviewer_id reviewer_name                                           comments  review_scores_rating  review_scores_accuracy review_scores_cleanliness  review_scores_checkin  review_scores_communication  review_scores_location  review_scores_value language  word_count  overall_score_bin\n",
              "186506    6545310  5.122223e+07  2015-10-18    4602359.0        Joshua  whilst i never met clay the apartment was a fa...                  4.86                    4.79                      4.63                   4.88                         4.89                    4.76                 4.79       en        41.0                4.5\n",
              "471802   29814549  4.545447e+08  2019-05-18   20976871.0       Violeta  william was really helpful he always answered ...                  4.80                    4.90                      4.79                   4.92                         4.94                    4.80                 4.78       en       185.0                4.5\n",
              "564886   45413193  4.883849e+17  2021-11-04   70496113.0           Joy  mia is great this is a very good spot for solo...                  4.98                    4.98                      4.98                   5.00                         4.98                    4.83                 4.97       en        41.0                4.5"
            ],
            "text/html": [
              "\n",
              "  <div id=\"df-292d03c8-b497-466b-ad36-198eb1b1cc02\">\n",
              "    <div class=\"colab-df-container\">\n",
              "      <div>\n",
              "<style scoped>\n",
              "    .dataframe tbody tr th:only-of-type {\n",
              "        vertical-align: middle;\n",
              "    }\n",
              "\n",
              "    .dataframe tbody tr th {\n",
              "        vertical-align: top;\n",
              "    }\n",
              "\n",
              "    .dataframe thead th {\n",
              "        text-align: right;\n",
              "    }\n",
              "</style>\n",
              "<table border=\"1\" class=\"dataframe\">\n",
              "  <thead>\n",
              "    <tr style=\"text-align: right;\">\n",
              "      <th></th>\n",
              "      <th>listing_id</th>\n",
              "      <th>id</th>\n",
              "      <th>date</th>\n",
              "      <th>reviewer_id</th>\n",
              "      <th>reviewer_name</th>\n",
              "      <th>comments</th>\n",
              "      <th>review_scores_rating</th>\n",
              "      <th>review_scores_accuracy</th>\n",
              "      <th>review_scores_cleanliness</th>\n",
              "      <th>review_scores_checkin</th>\n",
              "      <th>review_scores_communication</th>\n",
              "      <th>review_scores_location</th>\n",
              "      <th>review_scores_value</th>\n",
              "      <th>language</th>\n",
              "      <th>word_count</th>\n",
              "      <th>overall_score_bin</th>\n",
              "    </tr>\n",
              "  </thead>\n",
              "  <tbody>\n",
              "    <tr>\n",
              "      <th>186506</th>\n",
              "      <td>6545310</td>\n",
              "      <td>5.122223e+07</td>\n",
              "      <td>2015-10-18</td>\n",
              "      <td>4602359.0</td>\n",
              "      <td>Joshua</td>\n",
              "      <td>whilst i never met clay the apartment was a fa...</td>\n",
              "      <td>4.86</td>\n",
              "      <td>4.79</td>\n",
              "      <td>4.63</td>\n",
              "      <td>4.88</td>\n",
              "      <td>4.89</td>\n",
              "      <td>4.76</td>\n",
              "      <td>4.79</td>\n",
              "      <td>en</td>\n",
              "      <td>41.0</td>\n",
              "      <td>4.5</td>\n",
              "    </tr>\n",
              "    <tr>\n",
              "      <th>471802</th>\n",
              "      <td>29814549</td>\n",
              "      <td>4.545447e+08</td>\n",
              "      <td>2019-05-18</td>\n",
              "      <td>20976871.0</td>\n",
              "      <td>Violeta</td>\n",
              "      <td>william was really helpful he always answered ...</td>\n",
              "      <td>4.80</td>\n",
              "      <td>4.90</td>\n",
              "      <td>4.79</td>\n",
              "      <td>4.92</td>\n",
              "      <td>4.94</td>\n",
              "      <td>4.80</td>\n",
              "      <td>4.78</td>\n",
              "      <td>en</td>\n",
              "      <td>185.0</td>\n",
              "      <td>4.5</td>\n",
              "    </tr>\n",
              "    <tr>\n",
              "      <th>564886</th>\n",
              "      <td>45413193</td>\n",
              "      <td>4.883849e+17</td>\n",
              "      <td>2021-11-04</td>\n",
              "      <td>70496113.0</td>\n",
              "      <td>Joy</td>\n",
              "      <td>mia is great this is a very good spot for solo...</td>\n",
              "      <td>4.98</td>\n",
              "      <td>4.98</td>\n",
              "      <td>4.98</td>\n",
              "      <td>5.00</td>\n",
              "      <td>4.98</td>\n",
              "      <td>4.83</td>\n",
              "      <td>4.97</td>\n",
              "      <td>en</td>\n",
              "      <td>41.0</td>\n",
              "      <td>4.5</td>\n",
              "    </tr>\n",
              "  </tbody>\n",
              "</table>\n",
              "</div>\n",
              "      <button class=\"colab-df-convert\" onclick=\"convertToInteractive('df-292d03c8-b497-466b-ad36-198eb1b1cc02')\"\n",
              "              title=\"Convert this dataframe to an interactive table.\"\n",
              "              style=\"display:none;\">\n",
              "        \n",
              "  <svg xmlns=\"http://www.w3.org/2000/svg\" height=\"24px\"viewBox=\"0 0 24 24\"\n",
              "       width=\"24px\">\n",
              "    <path d=\"M0 0h24v24H0V0z\" fill=\"none\"/>\n",
              "    <path d=\"M18.56 5.44l.94 2.06.94-2.06 2.06-.94-2.06-.94-.94-2.06-.94 2.06-2.06.94zm-11 1L8.5 8.5l.94-2.06 2.06-.94-2.06-.94L8.5 2.5l-.94 2.06-2.06.94zm10 10l.94 2.06.94-2.06 2.06-.94-2.06-.94-.94-2.06-.94 2.06-2.06.94z\"/><path d=\"M17.41 7.96l-1.37-1.37c-.4-.4-.92-.59-1.43-.59-.52 0-1.04.2-1.43.59L10.3 9.45l-7.72 7.72c-.78.78-.78 2.05 0 2.83L4 21.41c.39.39.9.59 1.41.59.51 0 1.02-.2 1.41-.59l7.78-7.78 2.81-2.81c.8-.78.8-2.07 0-2.86zM5.41 20L4 18.59l7.72-7.72 1.47 1.35L5.41 20z\"/>\n",
              "  </svg>\n",
              "      </button>\n",
              "      \n",
              "  <style>\n",
              "    .colab-df-container {\n",
              "      display:flex;\n",
              "      flex-wrap:wrap;\n",
              "      gap: 12px;\n",
              "    }\n",
              "\n",
              "    .colab-df-convert {\n",
              "      background-color: #E8F0FE;\n",
              "      border: none;\n",
              "      border-radius: 50%;\n",
              "      cursor: pointer;\n",
              "      display: none;\n",
              "      fill: #1967D2;\n",
              "      height: 32px;\n",
              "      padding: 0 0 0 0;\n",
              "      width: 32px;\n",
              "    }\n",
              "\n",
              "    .colab-df-convert:hover {\n",
              "      background-color: #E2EBFA;\n",
              "      box-shadow: 0px 1px 2px rgba(60, 64, 67, 0.3), 0px 1px 3px 1px rgba(60, 64, 67, 0.15);\n",
              "      fill: #174EA6;\n",
              "    }\n",
              "\n",
              "    [theme=dark] .colab-df-convert {\n",
              "      background-color: #3B4455;\n",
              "      fill: #D2E3FC;\n",
              "    }\n",
              "\n",
              "    [theme=dark] .colab-df-convert:hover {\n",
              "      background-color: #434B5C;\n",
              "      box-shadow: 0px 1px 3px 1px rgba(0, 0, 0, 0.15);\n",
              "      filter: drop-shadow(0px 1px 2px rgba(0, 0, 0, 0.3));\n",
              "      fill: #FFFFFF;\n",
              "    }\n",
              "  </style>\n",
              "\n",
              "      <script>\n",
              "        const buttonEl =\n",
              "          document.querySelector('#df-292d03c8-b497-466b-ad36-198eb1b1cc02 button.colab-df-convert');\n",
              "        buttonEl.style.display =\n",
              "          google.colab.kernel.accessAllowed ? 'block' : 'none';\n",
              "\n",
              "        async function convertToInteractive(key) {\n",
              "          const element = document.querySelector('#df-292d03c8-b497-466b-ad36-198eb1b1cc02');\n",
              "          const dataTable =\n",
              "            await google.colab.kernel.invokeFunction('convertToInteractive',\n",
              "                                                     [key], {});\n",
              "          if (!dataTable) return;\n",
              "\n",
              "          const docLinkHtml = 'Like what you see? Visit the ' +\n",
              "            '<a target=\"_blank\" href=https://colab.research.google.com/notebooks/data_table.ipynb>data table notebook</a>'\n",
              "            + ' to learn more about interactive tables.';\n",
              "          element.innerHTML = '';\n",
              "          dataTable['output_type'] = 'display_data';\n",
              "          await google.colab.output.renderOutput(dataTable, element);\n",
              "          const docLink = document.createElement('div');\n",
              "          docLink.innerHTML = docLinkHtml;\n",
              "          element.appendChild(docLink);\n",
              "        }\n",
              "      </script>\n",
              "    </div>\n",
              "  </div>\n",
              "  "
            ]
          },
          "metadata": {},
          "execution_count": 85
        }
      ]
    },
    {
      "cell_type": "code",
      "source": [
        "#stopwords\n",
        "custom_stop = ['airbnb', 'air bnb', 't', 's', 'air', 'bnb', 'new', 'york', 'new york', 'stay', 'place', 'apartment', 'll', 've']\n",
        "stop_words = text.ENGLISH_STOP_WORDS.union(custom_stop).union(STOP_WORDS)"
      ],
      "metadata": {
        "id": "RCxKonzFryTb"
      },
      "execution_count": 107,
      "outputs": []
    },
    {
      "cell_type": "code",
      "source": [
        "#remove stop words from dataframe\n",
        "\n",
        "df2['comments'] = df2['comments'].apply(lambda x: ' '.join([word for word in x.split() if word not in (stop_words)]))"
      ],
      "metadata": {
        "id": "rYu0UmH4tIW2"
      },
      "execution_count": 87,
      "outputs": []
    },
    {
      "cell_type": "code",
      "source": [
        "#create key words pulled from vectorized EDA -- added the antonym for the phrases and common words found in EDA\n",
        "location = ['walking distance', 'subway', 'close subway', 'great location', 'minute walk', 'times square',\n",
        "            'central park', 'blocks away', 'location close', 'metro station', 'neighborhood', 'nearby', 'close', 'far']\n",
        "\n",
        "host = ['great host', 'quick respond', 'communication', 'host', 'responsive', 'accomodating', 'welcoming', 'welcoming',\n",
        "        'no response', 'did not respond', 'no communication']\n",
        "\n",
        "hygeine = ['place clean', 'apartment clean', 'clean comfortable', 'room clean', 'super clean', 'clean',\n",
        "           'dirty', 'gross']\n",
        "\n",
        "comfort = ['bed comfortable', 'comfortable', 'like home', 'nice place', 'place nice', 'spacious', 'safe',\n",
        "           'unsafe', 'uncomfortable', 'small', 'cramped', 'tiny', 'unsafe']\n",
        "\n",
        "cost = ['great value', 'value', 'expensive']"
      ],
      "metadata": {
        "id": "Oxz4kBw7tbAW"
      },
      "execution_count": 88,
      "outputs": []
    },
    {
      "cell_type": "code",
      "source": [
        "#create targets\n",
        "df2['location'] = df2['comments'].str.contains('|'.join(location), 1, 0)\n",
        "df2['host'] = df2['comments'].str.contains('|'.join(host), 1, 0)\n",
        "df2['hygeine'] = df2['comments'].str.contains('|'.join(hygeine), 1, 0)\n",
        "df2['comfort'] = df2['comments'].str.contains('|'.join(comfort), 1, 0)\n",
        "df2['cost'] = df2['comments'].str.contains('|'.join(cost), 1, 0)"
      ],
      "metadata": {
        "id": "CsDSlVZKufAi"
      },
      "execution_count": 89,
      "outputs": []
    },
    {
      "cell_type": "code",
      "source": [
        "df2.head(3)"
      ],
      "metadata": {
        "colab": {
          "base_uri": "https://localhost:8080/",
          "height": 468
        },
        "id": "3raJ0tjYvykR",
        "outputId": "86f1bb0c-2af3-4900-befd-357ac7150511"
      },
      "execution_count": 90,
      "outputs": [
        {
          "output_type": "execute_result",
          "data": {
            "text/plain": [
              "       listing_id            id        date  reviewer_id reviewer_name                                           comments  review_scores_rating  review_scores_accuracy review_scores_cleanliness  review_scores_checkin  review_scores_communication  review_scores_location  review_scores_value language  word_count  overall_score_bin  location   host  hygeine  comfort   cost\n",
              "186506    6545310  5.122223e+07  2015-10-18    4602359.0        Joshua  whilst met clay fantastic rest head night amen...                  4.86                    4.79                      4.63                   4.88                         4.89                    4.76                 4.79       en        41.0                4.5     False  False     True     True  False\n",
              "471802   29814549  4.545447e+08  2019-05-18   20976871.0       Violeta  william helpful answered questions e timely ma...                  4.80                    4.90                      4.79                   4.92                         4.94                    4.80                 4.78       en       185.0                4.5      True  False     True    False  False\n",
              "564886   45413193  4.883849e+17  2021-11-04   70496113.0           Joy  mia great good spot solo travelers like home b...                  4.98                    4.98                      4.98                   5.00                         4.98                    4.83                 4.97       en        41.0                4.5      True  False    False     True  False"
            ],
            "text/html": [
              "\n",
              "  <div id=\"df-a66e3ca7-7c75-43d5-82ae-3fa8c66037e5\">\n",
              "    <div class=\"colab-df-container\">\n",
              "      <div>\n",
              "<style scoped>\n",
              "    .dataframe tbody tr th:only-of-type {\n",
              "        vertical-align: middle;\n",
              "    }\n",
              "\n",
              "    .dataframe tbody tr th {\n",
              "        vertical-align: top;\n",
              "    }\n",
              "\n",
              "    .dataframe thead th {\n",
              "        text-align: right;\n",
              "    }\n",
              "</style>\n",
              "<table border=\"1\" class=\"dataframe\">\n",
              "  <thead>\n",
              "    <tr style=\"text-align: right;\">\n",
              "      <th></th>\n",
              "      <th>listing_id</th>\n",
              "      <th>id</th>\n",
              "      <th>date</th>\n",
              "      <th>reviewer_id</th>\n",
              "      <th>reviewer_name</th>\n",
              "      <th>comments</th>\n",
              "      <th>review_scores_rating</th>\n",
              "      <th>review_scores_accuracy</th>\n",
              "      <th>review_scores_cleanliness</th>\n",
              "      <th>review_scores_checkin</th>\n",
              "      <th>review_scores_communication</th>\n",
              "      <th>review_scores_location</th>\n",
              "      <th>review_scores_value</th>\n",
              "      <th>language</th>\n",
              "      <th>word_count</th>\n",
              "      <th>overall_score_bin</th>\n",
              "      <th>location</th>\n",
              "      <th>host</th>\n",
              "      <th>hygeine</th>\n",
              "      <th>comfort</th>\n",
              "      <th>cost</th>\n",
              "    </tr>\n",
              "  </thead>\n",
              "  <tbody>\n",
              "    <tr>\n",
              "      <th>186506</th>\n",
              "      <td>6545310</td>\n",
              "      <td>5.122223e+07</td>\n",
              "      <td>2015-10-18</td>\n",
              "      <td>4602359.0</td>\n",
              "      <td>Joshua</td>\n",
              "      <td>whilst met clay fantastic rest head night amen...</td>\n",
              "      <td>4.86</td>\n",
              "      <td>4.79</td>\n",
              "      <td>4.63</td>\n",
              "      <td>4.88</td>\n",
              "      <td>4.89</td>\n",
              "      <td>4.76</td>\n",
              "      <td>4.79</td>\n",
              "      <td>en</td>\n",
              "      <td>41.0</td>\n",
              "      <td>4.5</td>\n",
              "      <td>False</td>\n",
              "      <td>False</td>\n",
              "      <td>True</td>\n",
              "      <td>True</td>\n",
              "      <td>False</td>\n",
              "    </tr>\n",
              "    <tr>\n",
              "      <th>471802</th>\n",
              "      <td>29814549</td>\n",
              "      <td>4.545447e+08</td>\n",
              "      <td>2019-05-18</td>\n",
              "      <td>20976871.0</td>\n",
              "      <td>Violeta</td>\n",
              "      <td>william helpful answered questions e timely ma...</td>\n",
              "      <td>4.80</td>\n",
              "      <td>4.90</td>\n",
              "      <td>4.79</td>\n",
              "      <td>4.92</td>\n",
              "      <td>4.94</td>\n",
              "      <td>4.80</td>\n",
              "      <td>4.78</td>\n",
              "      <td>en</td>\n",
              "      <td>185.0</td>\n",
              "      <td>4.5</td>\n",
              "      <td>True</td>\n",
              "      <td>False</td>\n",
              "      <td>True</td>\n",
              "      <td>False</td>\n",
              "      <td>False</td>\n",
              "    </tr>\n",
              "    <tr>\n",
              "      <th>564886</th>\n",
              "      <td>45413193</td>\n",
              "      <td>4.883849e+17</td>\n",
              "      <td>2021-11-04</td>\n",
              "      <td>70496113.0</td>\n",
              "      <td>Joy</td>\n",
              "      <td>mia great good spot solo travelers like home b...</td>\n",
              "      <td>4.98</td>\n",
              "      <td>4.98</td>\n",
              "      <td>4.98</td>\n",
              "      <td>5.00</td>\n",
              "      <td>4.98</td>\n",
              "      <td>4.83</td>\n",
              "      <td>4.97</td>\n",
              "      <td>en</td>\n",
              "      <td>41.0</td>\n",
              "      <td>4.5</td>\n",
              "      <td>True</td>\n",
              "      <td>False</td>\n",
              "      <td>False</td>\n",
              "      <td>True</td>\n",
              "      <td>False</td>\n",
              "    </tr>\n",
              "  </tbody>\n",
              "</table>\n",
              "</div>\n",
              "      <button class=\"colab-df-convert\" onclick=\"convertToInteractive('df-a66e3ca7-7c75-43d5-82ae-3fa8c66037e5')\"\n",
              "              title=\"Convert this dataframe to an interactive table.\"\n",
              "              style=\"display:none;\">\n",
              "        \n",
              "  <svg xmlns=\"http://www.w3.org/2000/svg\" height=\"24px\"viewBox=\"0 0 24 24\"\n",
              "       width=\"24px\">\n",
              "    <path d=\"M0 0h24v24H0V0z\" fill=\"none\"/>\n",
              "    <path d=\"M18.56 5.44l.94 2.06.94-2.06 2.06-.94-2.06-.94-.94-2.06-.94 2.06-2.06.94zm-11 1L8.5 8.5l.94-2.06 2.06-.94-2.06-.94L8.5 2.5l-.94 2.06-2.06.94zm10 10l.94 2.06.94-2.06 2.06-.94-2.06-.94-.94-2.06-.94 2.06-2.06.94z\"/><path d=\"M17.41 7.96l-1.37-1.37c-.4-.4-.92-.59-1.43-.59-.52 0-1.04.2-1.43.59L10.3 9.45l-7.72 7.72c-.78.78-.78 2.05 0 2.83L4 21.41c.39.39.9.59 1.41.59.51 0 1.02-.2 1.41-.59l7.78-7.78 2.81-2.81c.8-.78.8-2.07 0-2.86zM5.41 20L4 18.59l7.72-7.72 1.47 1.35L5.41 20z\"/>\n",
              "  </svg>\n",
              "      </button>\n",
              "      \n",
              "  <style>\n",
              "    .colab-df-container {\n",
              "      display:flex;\n",
              "      flex-wrap:wrap;\n",
              "      gap: 12px;\n",
              "    }\n",
              "\n",
              "    .colab-df-convert {\n",
              "      background-color: #E8F0FE;\n",
              "      border: none;\n",
              "      border-radius: 50%;\n",
              "      cursor: pointer;\n",
              "      display: none;\n",
              "      fill: #1967D2;\n",
              "      height: 32px;\n",
              "      padding: 0 0 0 0;\n",
              "      width: 32px;\n",
              "    }\n",
              "\n",
              "    .colab-df-convert:hover {\n",
              "      background-color: #E2EBFA;\n",
              "      box-shadow: 0px 1px 2px rgba(60, 64, 67, 0.3), 0px 1px 3px 1px rgba(60, 64, 67, 0.15);\n",
              "      fill: #174EA6;\n",
              "    }\n",
              "\n",
              "    [theme=dark] .colab-df-convert {\n",
              "      background-color: #3B4455;\n",
              "      fill: #D2E3FC;\n",
              "    }\n",
              "\n",
              "    [theme=dark] .colab-df-convert:hover {\n",
              "      background-color: #434B5C;\n",
              "      box-shadow: 0px 1px 3px 1px rgba(0, 0, 0, 0.15);\n",
              "      filter: drop-shadow(0px 1px 2px rgba(0, 0, 0, 0.3));\n",
              "      fill: #FFFFFF;\n",
              "    }\n",
              "  </style>\n",
              "\n",
              "      <script>\n",
              "        const buttonEl =\n",
              "          document.querySelector('#df-a66e3ca7-7c75-43d5-82ae-3fa8c66037e5 button.colab-df-convert');\n",
              "        buttonEl.style.display =\n",
              "          google.colab.kernel.accessAllowed ? 'block' : 'none';\n",
              "\n",
              "        async function convertToInteractive(key) {\n",
              "          const element = document.querySelector('#df-a66e3ca7-7c75-43d5-82ae-3fa8c66037e5');\n",
              "          const dataTable =\n",
              "            await google.colab.kernel.invokeFunction('convertToInteractive',\n",
              "                                                     [key], {});\n",
              "          if (!dataTable) return;\n",
              "\n",
              "          const docLinkHtml = 'Like what you see? Visit the ' +\n",
              "            '<a target=\"_blank\" href=https://colab.research.google.com/notebooks/data_table.ipynb>data table notebook</a>'\n",
              "            + ' to learn more about interactive tables.';\n",
              "          element.innerHTML = '';\n",
              "          dataTable['output_type'] = 'display_data';\n",
              "          await google.colab.output.renderOutput(dataTable, element);\n",
              "          const docLink = document.createElement('div');\n",
              "          docLink.innerHTML = docLinkHtml;\n",
              "          element.appendChild(docLink);\n",
              "        }\n",
              "      </script>\n",
              "    </div>\n",
              "  </div>\n",
              "  "
            ]
          },
          "metadata": {},
          "execution_count": 90
        }
      ]
    },
    {
      "cell_type": "code",
      "source": [
        "#convert targets to integers\n",
        "df2['location'] = df2['location'].astype(int)\n",
        "df2['host'] = df2['host'].astype(int)\n",
        "df2['hygeine'] = df2['hygeine'].astype(int)\n",
        "df2['comfort'] = df2['comfort'].astype(int)\n",
        "df2['cost'] = df2['cost'].astype(int)\n",
        "\n",
        "df2.head(3)"
      ],
      "metadata": {
        "colab": {
          "base_uri": "https://localhost:8080/",
          "height": 468
        },
        "id": "Y0q5mV9awAKS",
        "outputId": "e34d9c14-34cf-45bc-b0f7-5d1eacf1376c"
      },
      "execution_count": 91,
      "outputs": [
        {
          "output_type": "execute_result",
          "data": {
            "text/plain": [
              "       listing_id            id        date  reviewer_id reviewer_name                                           comments  review_scores_rating  review_scores_accuracy review_scores_cleanliness  review_scores_checkin  review_scores_communication  review_scores_location  review_scores_value language  word_count  overall_score_bin  location  host  hygeine  comfort  cost\n",
              "186506    6545310  5.122223e+07  2015-10-18    4602359.0        Joshua  whilst met clay fantastic rest head night amen...                  4.86                    4.79                      4.63                   4.88                         4.89                    4.76                 4.79       en        41.0                4.5         0     0        1        1     0\n",
              "471802   29814549  4.545447e+08  2019-05-18   20976871.0       Violeta  william helpful answered questions e timely ma...                  4.80                    4.90                      4.79                   4.92                         4.94                    4.80                 4.78       en       185.0                4.5         1     0        1        0     0\n",
              "564886   45413193  4.883849e+17  2021-11-04   70496113.0           Joy  mia great good spot solo travelers like home b...                  4.98                    4.98                      4.98                   5.00                         4.98                    4.83                 4.97       en        41.0                4.5         1     0        0        1     0"
            ],
            "text/html": [
              "\n",
              "  <div id=\"df-17beb467-5a5d-406e-a905-444795b77c12\">\n",
              "    <div class=\"colab-df-container\">\n",
              "      <div>\n",
              "<style scoped>\n",
              "    .dataframe tbody tr th:only-of-type {\n",
              "        vertical-align: middle;\n",
              "    }\n",
              "\n",
              "    .dataframe tbody tr th {\n",
              "        vertical-align: top;\n",
              "    }\n",
              "\n",
              "    .dataframe thead th {\n",
              "        text-align: right;\n",
              "    }\n",
              "</style>\n",
              "<table border=\"1\" class=\"dataframe\">\n",
              "  <thead>\n",
              "    <tr style=\"text-align: right;\">\n",
              "      <th></th>\n",
              "      <th>listing_id</th>\n",
              "      <th>id</th>\n",
              "      <th>date</th>\n",
              "      <th>reviewer_id</th>\n",
              "      <th>reviewer_name</th>\n",
              "      <th>comments</th>\n",
              "      <th>review_scores_rating</th>\n",
              "      <th>review_scores_accuracy</th>\n",
              "      <th>review_scores_cleanliness</th>\n",
              "      <th>review_scores_checkin</th>\n",
              "      <th>review_scores_communication</th>\n",
              "      <th>review_scores_location</th>\n",
              "      <th>review_scores_value</th>\n",
              "      <th>language</th>\n",
              "      <th>word_count</th>\n",
              "      <th>overall_score_bin</th>\n",
              "      <th>location</th>\n",
              "      <th>host</th>\n",
              "      <th>hygeine</th>\n",
              "      <th>comfort</th>\n",
              "      <th>cost</th>\n",
              "    </tr>\n",
              "  </thead>\n",
              "  <tbody>\n",
              "    <tr>\n",
              "      <th>186506</th>\n",
              "      <td>6545310</td>\n",
              "      <td>5.122223e+07</td>\n",
              "      <td>2015-10-18</td>\n",
              "      <td>4602359.0</td>\n",
              "      <td>Joshua</td>\n",
              "      <td>whilst met clay fantastic rest head night amen...</td>\n",
              "      <td>4.86</td>\n",
              "      <td>4.79</td>\n",
              "      <td>4.63</td>\n",
              "      <td>4.88</td>\n",
              "      <td>4.89</td>\n",
              "      <td>4.76</td>\n",
              "      <td>4.79</td>\n",
              "      <td>en</td>\n",
              "      <td>41.0</td>\n",
              "      <td>4.5</td>\n",
              "      <td>0</td>\n",
              "      <td>0</td>\n",
              "      <td>1</td>\n",
              "      <td>1</td>\n",
              "      <td>0</td>\n",
              "    </tr>\n",
              "    <tr>\n",
              "      <th>471802</th>\n",
              "      <td>29814549</td>\n",
              "      <td>4.545447e+08</td>\n",
              "      <td>2019-05-18</td>\n",
              "      <td>20976871.0</td>\n",
              "      <td>Violeta</td>\n",
              "      <td>william helpful answered questions e timely ma...</td>\n",
              "      <td>4.80</td>\n",
              "      <td>4.90</td>\n",
              "      <td>4.79</td>\n",
              "      <td>4.92</td>\n",
              "      <td>4.94</td>\n",
              "      <td>4.80</td>\n",
              "      <td>4.78</td>\n",
              "      <td>en</td>\n",
              "      <td>185.0</td>\n",
              "      <td>4.5</td>\n",
              "      <td>1</td>\n",
              "      <td>0</td>\n",
              "      <td>1</td>\n",
              "      <td>0</td>\n",
              "      <td>0</td>\n",
              "    </tr>\n",
              "    <tr>\n",
              "      <th>564886</th>\n",
              "      <td>45413193</td>\n",
              "      <td>4.883849e+17</td>\n",
              "      <td>2021-11-04</td>\n",
              "      <td>70496113.0</td>\n",
              "      <td>Joy</td>\n",
              "      <td>mia great good spot solo travelers like home b...</td>\n",
              "      <td>4.98</td>\n",
              "      <td>4.98</td>\n",
              "      <td>4.98</td>\n",
              "      <td>5.00</td>\n",
              "      <td>4.98</td>\n",
              "      <td>4.83</td>\n",
              "      <td>4.97</td>\n",
              "      <td>en</td>\n",
              "      <td>41.0</td>\n",
              "      <td>4.5</td>\n",
              "      <td>1</td>\n",
              "      <td>0</td>\n",
              "      <td>0</td>\n",
              "      <td>1</td>\n",
              "      <td>0</td>\n",
              "    </tr>\n",
              "  </tbody>\n",
              "</table>\n",
              "</div>\n",
              "      <button class=\"colab-df-convert\" onclick=\"convertToInteractive('df-17beb467-5a5d-406e-a905-444795b77c12')\"\n",
              "              title=\"Convert this dataframe to an interactive table.\"\n",
              "              style=\"display:none;\">\n",
              "        \n",
              "  <svg xmlns=\"http://www.w3.org/2000/svg\" height=\"24px\"viewBox=\"0 0 24 24\"\n",
              "       width=\"24px\">\n",
              "    <path d=\"M0 0h24v24H0V0z\" fill=\"none\"/>\n",
              "    <path d=\"M18.56 5.44l.94 2.06.94-2.06 2.06-.94-2.06-.94-.94-2.06-.94 2.06-2.06.94zm-11 1L8.5 8.5l.94-2.06 2.06-.94-2.06-.94L8.5 2.5l-.94 2.06-2.06.94zm10 10l.94 2.06.94-2.06 2.06-.94-2.06-.94-.94-2.06-.94 2.06-2.06.94z\"/><path d=\"M17.41 7.96l-1.37-1.37c-.4-.4-.92-.59-1.43-.59-.52 0-1.04.2-1.43.59L10.3 9.45l-7.72 7.72c-.78.78-.78 2.05 0 2.83L4 21.41c.39.39.9.59 1.41.59.51 0 1.02-.2 1.41-.59l7.78-7.78 2.81-2.81c.8-.78.8-2.07 0-2.86zM5.41 20L4 18.59l7.72-7.72 1.47 1.35L5.41 20z\"/>\n",
              "  </svg>\n",
              "      </button>\n",
              "      \n",
              "  <style>\n",
              "    .colab-df-container {\n",
              "      display:flex;\n",
              "      flex-wrap:wrap;\n",
              "      gap: 12px;\n",
              "    }\n",
              "\n",
              "    .colab-df-convert {\n",
              "      background-color: #E8F0FE;\n",
              "      border: none;\n",
              "      border-radius: 50%;\n",
              "      cursor: pointer;\n",
              "      display: none;\n",
              "      fill: #1967D2;\n",
              "      height: 32px;\n",
              "      padding: 0 0 0 0;\n",
              "      width: 32px;\n",
              "    }\n",
              "\n",
              "    .colab-df-convert:hover {\n",
              "      background-color: #E2EBFA;\n",
              "      box-shadow: 0px 1px 2px rgba(60, 64, 67, 0.3), 0px 1px 3px 1px rgba(60, 64, 67, 0.15);\n",
              "      fill: #174EA6;\n",
              "    }\n",
              "\n",
              "    [theme=dark] .colab-df-convert {\n",
              "      background-color: #3B4455;\n",
              "      fill: #D2E3FC;\n",
              "    }\n",
              "\n",
              "    [theme=dark] .colab-df-convert:hover {\n",
              "      background-color: #434B5C;\n",
              "      box-shadow: 0px 1px 3px 1px rgba(0, 0, 0, 0.15);\n",
              "      filter: drop-shadow(0px 1px 2px rgba(0, 0, 0, 0.3));\n",
              "      fill: #FFFFFF;\n",
              "    }\n",
              "  </style>\n",
              "\n",
              "      <script>\n",
              "        const buttonEl =\n",
              "          document.querySelector('#df-17beb467-5a5d-406e-a905-444795b77c12 button.colab-df-convert');\n",
              "        buttonEl.style.display =\n",
              "          google.colab.kernel.accessAllowed ? 'block' : 'none';\n",
              "\n",
              "        async function convertToInteractive(key) {\n",
              "          const element = document.querySelector('#df-17beb467-5a5d-406e-a905-444795b77c12');\n",
              "          const dataTable =\n",
              "            await google.colab.kernel.invokeFunction('convertToInteractive',\n",
              "                                                     [key], {});\n",
              "          if (!dataTable) return;\n",
              "\n",
              "          const docLinkHtml = 'Like what you see? Visit the ' +\n",
              "            '<a target=\"_blank\" href=https://colab.research.google.com/notebooks/data_table.ipynb>data table notebook</a>'\n",
              "            + ' to learn more about interactive tables.';\n",
              "          element.innerHTML = '';\n",
              "          dataTable['output_type'] = 'display_data';\n",
              "          await google.colab.output.renderOutput(dataTable, element);\n",
              "          const docLink = document.createElement('div');\n",
              "          docLink.innerHTML = docLinkHtml;\n",
              "          element.appendChild(docLink);\n",
              "        }\n",
              "      </script>\n",
              "    </div>\n",
              "  </div>\n",
              "  "
            ]
          },
          "metadata": {},
          "execution_count": 91
        }
      ]
    },
    {
      "cell_type": "code",
      "source": [
        "#convert dataframe to data set for modeling\n",
        "df = df2[['comments', 'location', 'host', 'hygeine', 'comfort','cost']]\n",
        "df.head(3)"
      ],
      "metadata": {
        "colab": {
          "base_uri": "https://localhost:8080/",
          "height": 143
        },
        "id": "-iPq7KJmyYv3",
        "outputId": "0055cd18-a610-41ea-dadf-f10c8ae6074a"
      },
      "execution_count": 92,
      "outputs": [
        {
          "output_type": "execute_result",
          "data": {
            "text/plain": [
              "                                                 comments  location  host  hygeine  comfort  cost\n",
              "186506  whilst met clay fantastic rest head night amen...         0     0        1        1     0\n",
              "471802  william helpful answered questions e timely ma...         1     0        1        0     0\n",
              "564886  mia great good spot solo travelers like home b...         1     0        0        1     0"
            ],
            "text/html": [
              "\n",
              "  <div id=\"df-51416924-3431-4524-93fc-fe0176724474\">\n",
              "    <div class=\"colab-df-container\">\n",
              "      <div>\n",
              "<style scoped>\n",
              "    .dataframe tbody tr th:only-of-type {\n",
              "        vertical-align: middle;\n",
              "    }\n",
              "\n",
              "    .dataframe tbody tr th {\n",
              "        vertical-align: top;\n",
              "    }\n",
              "\n",
              "    .dataframe thead th {\n",
              "        text-align: right;\n",
              "    }\n",
              "</style>\n",
              "<table border=\"1\" class=\"dataframe\">\n",
              "  <thead>\n",
              "    <tr style=\"text-align: right;\">\n",
              "      <th></th>\n",
              "      <th>comments</th>\n",
              "      <th>location</th>\n",
              "      <th>host</th>\n",
              "      <th>hygeine</th>\n",
              "      <th>comfort</th>\n",
              "      <th>cost</th>\n",
              "    </tr>\n",
              "  </thead>\n",
              "  <tbody>\n",
              "    <tr>\n",
              "      <th>186506</th>\n",
              "      <td>whilst met clay fantastic rest head night amen...</td>\n",
              "      <td>0</td>\n",
              "      <td>0</td>\n",
              "      <td>1</td>\n",
              "      <td>1</td>\n",
              "      <td>0</td>\n",
              "    </tr>\n",
              "    <tr>\n",
              "      <th>471802</th>\n",
              "      <td>william helpful answered questions e timely ma...</td>\n",
              "      <td>1</td>\n",
              "      <td>0</td>\n",
              "      <td>1</td>\n",
              "      <td>0</td>\n",
              "      <td>0</td>\n",
              "    </tr>\n",
              "    <tr>\n",
              "      <th>564886</th>\n",
              "      <td>mia great good spot solo travelers like home b...</td>\n",
              "      <td>1</td>\n",
              "      <td>0</td>\n",
              "      <td>0</td>\n",
              "      <td>1</td>\n",
              "      <td>0</td>\n",
              "    </tr>\n",
              "  </tbody>\n",
              "</table>\n",
              "</div>\n",
              "      <button class=\"colab-df-convert\" onclick=\"convertToInteractive('df-51416924-3431-4524-93fc-fe0176724474')\"\n",
              "              title=\"Convert this dataframe to an interactive table.\"\n",
              "              style=\"display:none;\">\n",
              "        \n",
              "  <svg xmlns=\"http://www.w3.org/2000/svg\" height=\"24px\"viewBox=\"0 0 24 24\"\n",
              "       width=\"24px\">\n",
              "    <path d=\"M0 0h24v24H0V0z\" fill=\"none\"/>\n",
              "    <path d=\"M18.56 5.44l.94 2.06.94-2.06 2.06-.94-2.06-.94-.94-2.06-.94 2.06-2.06.94zm-11 1L8.5 8.5l.94-2.06 2.06-.94-2.06-.94L8.5 2.5l-.94 2.06-2.06.94zm10 10l.94 2.06.94-2.06 2.06-.94-2.06-.94-.94-2.06-.94 2.06-2.06.94z\"/><path d=\"M17.41 7.96l-1.37-1.37c-.4-.4-.92-.59-1.43-.59-.52 0-1.04.2-1.43.59L10.3 9.45l-7.72 7.72c-.78.78-.78 2.05 0 2.83L4 21.41c.39.39.9.59 1.41.59.51 0 1.02-.2 1.41-.59l7.78-7.78 2.81-2.81c.8-.78.8-2.07 0-2.86zM5.41 20L4 18.59l7.72-7.72 1.47 1.35L5.41 20z\"/>\n",
              "  </svg>\n",
              "      </button>\n",
              "      \n",
              "  <style>\n",
              "    .colab-df-container {\n",
              "      display:flex;\n",
              "      flex-wrap:wrap;\n",
              "      gap: 12px;\n",
              "    }\n",
              "\n",
              "    .colab-df-convert {\n",
              "      background-color: #E8F0FE;\n",
              "      border: none;\n",
              "      border-radius: 50%;\n",
              "      cursor: pointer;\n",
              "      display: none;\n",
              "      fill: #1967D2;\n",
              "      height: 32px;\n",
              "      padding: 0 0 0 0;\n",
              "      width: 32px;\n",
              "    }\n",
              "\n",
              "    .colab-df-convert:hover {\n",
              "      background-color: #E2EBFA;\n",
              "      box-shadow: 0px 1px 2px rgba(60, 64, 67, 0.3), 0px 1px 3px 1px rgba(60, 64, 67, 0.15);\n",
              "      fill: #174EA6;\n",
              "    }\n",
              "\n",
              "    [theme=dark] .colab-df-convert {\n",
              "      background-color: #3B4455;\n",
              "      fill: #D2E3FC;\n",
              "    }\n",
              "\n",
              "    [theme=dark] .colab-df-convert:hover {\n",
              "      background-color: #434B5C;\n",
              "      box-shadow: 0px 1px 3px 1px rgba(0, 0, 0, 0.15);\n",
              "      filter: drop-shadow(0px 1px 2px rgba(0, 0, 0, 0.3));\n",
              "      fill: #FFFFFF;\n",
              "    }\n",
              "  </style>\n",
              "\n",
              "      <script>\n",
              "        const buttonEl =\n",
              "          document.querySelector('#df-51416924-3431-4524-93fc-fe0176724474 button.colab-df-convert');\n",
              "        buttonEl.style.display =\n",
              "          google.colab.kernel.accessAllowed ? 'block' : 'none';\n",
              "\n",
              "        async function convertToInteractive(key) {\n",
              "          const element = document.querySelector('#df-51416924-3431-4524-93fc-fe0176724474');\n",
              "          const dataTable =\n",
              "            await google.colab.kernel.invokeFunction('convertToInteractive',\n",
              "                                                     [key], {});\n",
              "          if (!dataTable) return;\n",
              "\n",
              "          const docLinkHtml = 'Like what you see? Visit the ' +\n",
              "            '<a target=\"_blank\" href=https://colab.research.google.com/notebooks/data_table.ipynb>data table notebook</a>'\n",
              "            + ' to learn more about interactive tables.';\n",
              "          element.innerHTML = '';\n",
              "          dataTable['output_type'] = 'display_data';\n",
              "          await google.colab.output.renderOutput(dataTable, element);\n",
              "          const docLink = document.createElement('div');\n",
              "          docLink.innerHTML = docLinkHtml;\n",
              "          element.appendChild(docLink);\n",
              "        }\n",
              "      </script>\n",
              "    </div>\n",
              "  </div>\n",
              "  "
            ]
          },
          "metadata": {},
          "execution_count": 92
        }
      ]
    },
    {
      "cell_type": "code",
      "source": [
        "#export prepared dataset for future modeling\n",
        "df.to_csv('review_data_for_modeling.csv', index=False)"
      ],
      "metadata": {
        "id": "9SEIdLM8yjuP"
      },
      "execution_count": 93,
      "outputs": []
    },
    {
      "cell_type": "markdown",
      "source": [
        "# Modeling"
      ],
      "metadata": {
        "id": "3Q32SxqnzHu_"
      }
    },
    {
      "cell_type": "code",
      "source": [
        "from sklearn.linear_model import LogisticRegression\n",
        "from sklearn.model_selection import train_test_split, cross_val_score\n",
        "from sklearn.preprocessing import StandardScaler\n",
        "from sklearn.metrics import confusion_matrix, plot_confusion_matrix, recall_score, precision_score, accuracy_score\n",
        "from sklearn.feature_extraction.text import CountVectorizer\n",
        "\n",
        "#setting random seed for all models\n",
        "np.random.seed(42)\n"
      ],
      "metadata": {
        "id": "CGlDoj5V9jMZ"
      },
      "execution_count": 94,
      "outputs": []
    },
    {
      "cell_type": "markdown",
      "source": [
        "### Establishing baselines\n",
        "- Relatively balanced classes for location and host\n",
        "- Imbalanced classes for hygeine, comfort and cost"
      ],
      "metadata": {
        "id": "FN7vYKdxzOAl"
      }
    },
    {
      "cell_type": "code",
      "source": [
        "features = ['location', 'host', 'hygeine', 'comfort', 'cost']\n",
        "\n",
        "for x in features:\n",
        "  df[x].value_counts(normalize=True).plot.barh(title=x)\n",
        "  plt.show()"
      ],
      "metadata": {
        "colab": {
          "base_uri": "https://localhost:8080/",
          "height": 1000
        },
        "id": "6hfiixXqzPAi",
        "outputId": "28c2c5e1-1583-4665-de8d-660deda2cd9d"
      },
      "execution_count": 95,
      "outputs": [
        {
          "output_type": "display_data",
          "data": {
            "text/plain": [
              "<Figure size 432x288 with 1 Axes>"
            ],
            "image/png": "[encoded data removed]"
          },
          "metadata": {
            "needs_background": "light"
          }
        },
        {
          "output_type": "display_data",
          "data": {
            "text/plain": [
              "<Figure size 432x288 with 1 Axes>"
            ],
            "image/png": "[encoded data removed]"
          },
          "metadata": {
            "needs_background": "light"
          }
        },
        {
          "output_type": "display_data",
          "data": {
            "text/plain": [
              "<Figure size 432x288 with 1 Axes>"
            ],
            "image/png": "[encoded data removed]"
          },
          "metadata": {
            "needs_background": "light"
          }
        },
        {
          "output_type": "display_data",
          "data": {
            "text/plain": [
              "<Figure size 432x288 with 1 Axes>"
            ],
            "image/png": "[encoded data removed]"
          },
          "metadata": {
            "needs_background": "light"
          }
        },
        {
          "output_type": "display_data",
          "data": {
            "text/plain": [
              "<Figure size 432x288 with 1 Axes>"
            ],
            "image/png": "[encoded data removed]"
          },
          "metadata": {
            "needs_background": "light"
          }
        }
      ]
    },
    {
      "cell_type": "markdown",
      "source": [
        "# Approach 1: Building multiple binary classification models to detect each category within comments. Combine together to form ensemble models to detect within comments"
      ],
      "metadata": {
        "id": "pF1du_gB4juC"
      }
    },
    {
      "cell_type": "code",
      "source": [
        "#function to prepare data for modeling\n",
        "\n",
        "def model_data (target, model_type):\n",
        "  #prepare dataframes\n",
        "  X = df['comments']\n",
        "  y = df[target]\n",
        "\n",
        "  cvec = CountVectorizer(stop_words=stop_words)\n",
        "  \n",
        "  #train test split\n",
        "  X_train, X_test, y_train, y_test = train_test_split(X, y, stratify=y)\n",
        "\n",
        "  #vectorize\n",
        "  X_train_vectorized = cvec.fit_transform(X_train)\n",
        "  X_test_vectorized = cvec.transform(X_test)\n",
        "  X_traindf = pd.DataFrame(X_train_vectorized.todense(), columns=cvec.get_feature_names_out())\n",
        "  X_testdf = pd.DataFrame(X_test_vectorized.todense(), columns=cvec.get_feature_names_out())\n",
        "\n",
        "  #model fitting\n",
        "  model = model_type\n",
        "  model.fit(X_traindf, y_train)\n",
        "\n",
        "  #predictions\n",
        "  preds = model.predict(X_testdf)\n",
        "\n",
        "  #accuracy scores\n",
        "  print('----------')\n",
        "  print(f'{target} accuracy: {model.score(X_traindf, y_train)}, {model.score(X_testdf, y_test)}')\n",
        "  print(f'{target} recall: {recall_score(y_test, preds)}')\n",
        "  print(f'{target} precision: {precision_score(y_test, preds)}')\n",
        "\n",
        "  return "
      ],
      "metadata": {
        "id": "jz3gItYB420R"
      },
      "execution_count": 110,
      "outputs": []
    },
    {
      "cell_type": "code",
      "source": [
        "#model results for Logistic Regression\n",
        "for x in features:\n",
        "  model_data(x, LogisticRegression())"
      ],
      "metadata": {
        "colab": {
          "base_uri": "https://localhost:8080/"
        },
        "id": "Xfve1EsnlvUR",
        "outputId": "0f40376a-2d49-417c-964a-8d5871f4ba48"
      },
      "execution_count": 111,
      "outputs": [
        {
          "output_type": "stream",
          "name": "stdout",
          "text": [
            "----------\n",
            "location accuracy: 0.9881584772023019, 0.9339309428950863\n",
            "location recall: 0.9119000657462196\n",
            "location precision: 0.9552341597796143\n",
            "----------\n",
            "host accuracy: 0.9967906153165117, 0.9847277556440903\n",
            "host recall: 0.969718817591925\n",
            "host precision: 0.9970348406226834\n",
            "----------\n",
            "hygeine accuracy: 0.9982293050022134, 0.9897078353253652\n",
            "hygeine recall: 0.9736611062335382\n",
            "hygeine precision: 0.9990990990990991\n",
            "----------\n",
            "comfort accuracy: 0.9967906153165117, 0.9747675962815405\n",
            "comfort recall: 0.9450945094509451\n",
            "comfort precision: 0.9859154929577465\n",
            "----------\n",
            "cost accuracy: 0.9994466578131916, 0.9930278884462151\n",
            "cost recall: 0.8037383177570093\n",
            "cost precision: 1.0\n"
          ]
        }
      ]
    },
    {
      "cell_type": "markdown",
      "source": [
        "# Modeling Results\n",
        "- Based on the words discovered during EDA, the logistic model performs fairly well on terms of accuracy, precision and recall. Each category performs above their baseline majority categories.\n",
        "- The only exception is cost, which scored less well on recall and showed a precision rate of 1.0, which means additional data related specifically to cost will need to be brough into the dataset to better train the model.\n",
        "- Now that models have been created to detect subcategory themes from reviews, the next stepp will be ensembling these models and applying them to test data."
      ],
      "metadata": {
        "id": "KpSDa9AFrb4f"
      }
    },
    {
      "cell_type": "code",
      "source": [
        ""
      ],
      "metadata": {
        "id": "jGG8QDXusBy3"
      },
      "execution_count": null,
      "outputs": []
    }
  ]
}