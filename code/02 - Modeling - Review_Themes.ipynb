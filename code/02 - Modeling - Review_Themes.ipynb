{
  "nbformat": 4,
  "nbformat_minor": 0,
  "metadata": {
    "colab": {
      "name": "02 - Modeling - Review Themes",
      "provenance": [],
      "collapsed_sections": []
    },
    "kernelspec": {
      "name": "python3",
      "display_name": "Python 3"
    },
    "language_info": {
      "name": "python"
    }
  },
  "cells": [
    {
      "cell_type": "code",
      "execution_count": null,
      "metadata": {
        "id": "1QvL7aQYrl74"
      },
      "outputs": [],
      "source": [
        "import pandas as pd\n",
        "import numpy as np\n",
        "import matplotlib.pyplot as plt\n",
        "import seaborn as sns\n",
        "\n",
        "from sklearn.feature_extraction.text import CountVectorizer\n",
        "from sklearn.feature_extraction import text\n",
        "\n",
        "from nltk.tokenize import sent_tokenize, word_tokenize, RegexpTokenizer\n",
        "from nltk.stem import WordNetLemmatizer\n",
        "from nltk.stem.porter import PorterStemmer\n",
        "from nltk.corpus import stopwords\n",
        "\n",
        "from spacy.lang.en.stop_words import STOP_WORDS\n",
        "\n",
        "pd.set_option('display.max_rows', 1000)\n",
        "pd.set_option('display.max_columns', 500)\n",
        "pd.set_option('display.width', 1000)\n",
        "\n",
        "#setting random seed for all items\n",
        "np.random.seed(42)"
      ]
    },
    {
      "cell_type": "code",
      "source": [
        "#found code solution from stackoverflow: https://stackoverflow.com/questions/48376580/google-colab-how-to-read-data-from-my-google-drive\n",
        "\n",
        "from google.colab import drive\n",
        "drive.mount('/content/drive')\n",
        "\n",
        "%cd /content/drive/My Drive/Datasets/Capstone/\n",
        "\n",
        "df = pd.read_csv('all_reviews_for_vectorizing.csv')"
      ],
      "metadata": {
        "colab": {
          "base_uri": "https://localhost:8080/"
        },
        "id": "bJ5A0DMrrv7M",
        "outputId": "24e2d7db-ab66-43d5-b501-562b2a4c180a"
      },
      "execution_count": null,
      "outputs": [
        {
          "output_type": "stream",
          "name": "stdout",
          "text": [
            "Drive already mounted at /content/drive; to attempt to forcibly remount, call drive.mount(\"/content/drive\", force_remount=True).\n",
            "/content/drive/My Drive/Datasets/Capstone\n"
          ]
        },
        {
          "output_type": "stream",
          "name": "stderr",
          "text": [
            "/usr/local/lib/python3.7/dist-packages/IPython/core/interactiveshell.py:2882: DtypeWarning: Columns (0,8) have mixed types.Specify dtype option on import or set low_memory=False.\n",
            "  exec(code_obj, self.user_global_ns, self.user_ns)\n"
          ]
        }
      ]
    },
    {
      "cell_type": "code",
      "source": [
        "#data cleanup\n",
        "df.dropna(inplace=True)\n",
        "\n",
        "#sample down data\n",
        "df2 = df.sample(frac=0.02)"
      ],
      "metadata": {
        "id": "ioQ3SjT6r2VM"
      },
      "execution_count": null,
      "outputs": []
    },
    {
      "cell_type": "code",
      "source": [
        "df2.head(3)"
      ],
      "metadata": {
        "colab": {
          "base_uri": "https://localhost:8080/",
          "height": 433
        },
        "id": "KGKl6JGKtVYO",
        "outputId": "b47e1fb1-783e-441b-c026-8ac0962cbdc7"
      },
      "execution_count": null,
      "outputs": [
        {
          "output_type": "execute_result",
          "data": {
            "text/plain": [
              "       listing_id           id        date  reviewer_id reviewer_name                                           comments  review_scores_rating  review_scores_accuracy review_scores_cleanliness  review_scores_checkin  review_scores_communication  review_scores_location  review_scores_value language  word_count  overall_score_bin\n",
              "504120   34071692  641819025.0  2020-07-24  238920450.0          Rich  just dont like that they keep your deposit for...                  4.42                    4.52                      4.67                   4.72                         4.62                    4.83                 4.52       en        17.0                4.0\n",
              "203842    7760808  158636817.0  2017-06-07   17444346.0           Ido  location location location best spot in the ci...                  5.00                    4.95                      4.89                   4.89                         5.00                    4.95                 4.89       en        19.0                5.0\n",
              "71313      973535   11279373.0  2014-03-28   10711062.0        Maelle  hello  this was our first airbnb experience an...                  4.51                    4.47                      4.46                   4.85                         4.83                    4.52                 4.51       en        75.0                4.5"
            ],
            "text/html": [
              "\n",
              "  <div id=\"df-a8e2c944-f772-470b-a92a-4edc6a3a4099\">\n",
              "    <div class=\"colab-df-container\">\n",
              "      <div>\n",
              "<style scoped>\n",
              "    .dataframe tbody tr th:only-of-type {\n",
              "        vertical-align: middle;\n",
              "    }\n",
              "\n",
              "    .dataframe tbody tr th {\n",
              "        vertical-align: top;\n",
              "    }\n",
              "\n",
              "    .dataframe thead th {\n",
              "        text-align: right;\n",
              "    }\n",
              "</style>\n",
              "<table border=\"1\" class=\"dataframe\">\n",
              "  <thead>\n",
              "    <tr style=\"text-align: right;\">\n",
              "      <th></th>\n",
              "      <th>listing_id</th>\n",
              "      <th>id</th>\n",
              "      <th>date</th>\n",
              "      <th>reviewer_id</th>\n",
              "      <th>reviewer_name</th>\n",
              "      <th>comments</th>\n",
              "      <th>review_scores_rating</th>\n",
              "      <th>review_scores_accuracy</th>\n",
              "      <th>review_scores_cleanliness</th>\n",
              "      <th>review_scores_checkin</th>\n",
              "      <th>review_scores_communication</th>\n",
              "      <th>review_scores_location</th>\n",
              "      <th>review_scores_value</th>\n",
              "      <th>language</th>\n",
              "      <th>word_count</th>\n",
              "      <th>overall_score_bin</th>\n",
              "    </tr>\n",
              "  </thead>\n",
              "  <tbody>\n",
              "    <tr>\n",
              "      <th>504120</th>\n",
              "      <td>34071692</td>\n",
              "      <td>641819025.0</td>\n",
              "      <td>2020-07-24</td>\n",
              "      <td>238920450.0</td>\n",
              "      <td>Rich</td>\n",
              "      <td>just dont like that they keep your deposit for...</td>\n",
              "      <td>4.42</td>\n",
              "      <td>4.52</td>\n",
              "      <td>4.67</td>\n",
              "      <td>4.72</td>\n",
              "      <td>4.62</td>\n",
              "      <td>4.83</td>\n",
              "      <td>4.52</td>\n",
              "      <td>en</td>\n",
              "      <td>17.0</td>\n",
              "      <td>4.0</td>\n",
              "    </tr>\n",
              "    <tr>\n",
              "      <th>203842</th>\n",
              "      <td>7760808</td>\n",
              "      <td>158636817.0</td>\n",
              "      <td>2017-06-07</td>\n",
              "      <td>17444346.0</td>\n",
              "      <td>Ido</td>\n",
              "      <td>location location location best spot in the ci...</td>\n",
              "      <td>5.00</td>\n",
              "      <td>4.95</td>\n",
              "      <td>4.89</td>\n",
              "      <td>4.89</td>\n",
              "      <td>5.00</td>\n",
              "      <td>4.95</td>\n",
              "      <td>4.89</td>\n",
              "      <td>en</td>\n",
              "      <td>19.0</td>\n",
              "      <td>5.0</td>\n",
              "    </tr>\n",
              "    <tr>\n",
              "      <th>71313</th>\n",
              "      <td>973535</td>\n",
              "      <td>11279373.0</td>\n",
              "      <td>2014-03-28</td>\n",
              "      <td>10711062.0</td>\n",
              "      <td>Maelle</td>\n",
              "      <td>hello  this was our first airbnb experience an...</td>\n",
              "      <td>4.51</td>\n",
              "      <td>4.47</td>\n",
              "      <td>4.46</td>\n",
              "      <td>4.85</td>\n",
              "      <td>4.83</td>\n",
              "      <td>4.52</td>\n",
              "      <td>4.51</td>\n",
              "      <td>en</td>\n",
              "      <td>75.0</td>\n",
              "      <td>4.5</td>\n",
              "    </tr>\n",
              "  </tbody>\n",
              "</table>\n",
              "</div>\n",
              "      <button class=\"colab-df-convert\" onclick=\"convertToInteractive('df-a8e2c944-f772-470b-a92a-4edc6a3a4099')\"\n",
              "              title=\"Convert this dataframe to an interactive table.\"\n",
              "              style=\"display:none;\">\n",
              "        \n",
              "  <svg xmlns=\"http://www.w3.org/2000/svg\" height=\"24px\"viewBox=\"0 0 24 24\"\n",
              "       width=\"24px\">\n",
              "    <path d=\"M0 0h24v24H0V0z\" fill=\"none\"/>\n",
              "    <path d=\"M18.56 5.44l.94 2.06.94-2.06 2.06-.94-2.06-.94-.94-2.06-.94 2.06-2.06.94zm-11 1L8.5 8.5l.94-2.06 2.06-.94-2.06-.94L8.5 2.5l-.94 2.06-2.06.94zm10 10l.94 2.06.94-2.06 2.06-.94-2.06-.94-.94-2.06-.94 2.06-2.06.94z\"/><path d=\"M17.41 7.96l-1.37-1.37c-.4-.4-.92-.59-1.43-.59-.52 0-1.04.2-1.43.59L10.3 9.45l-7.72 7.72c-.78.78-.78 2.05 0 2.83L4 21.41c.39.39.9.59 1.41.59.51 0 1.02-.2 1.41-.59l7.78-7.78 2.81-2.81c.8-.78.8-2.07 0-2.86zM5.41 20L4 18.59l7.72-7.72 1.47 1.35L5.41 20z\"/>\n",
              "  </svg>\n",
              "      </button>\n",
              "      \n",
              "  <style>\n",
              "    .colab-df-container {\n",
              "      display:flex;\n",
              "      flex-wrap:wrap;\n",
              "      gap: 12px;\n",
              "    }\n",
              "\n",
              "    .colab-df-convert {\n",
              "      background-color: #E8F0FE;\n",
              "      border: none;\n",
              "      border-radius: 50%;\n",
              "      cursor: pointer;\n",
              "      display: none;\n",
              "      fill: #1967D2;\n",
              "      height: 32px;\n",
              "      padding: 0 0 0 0;\n",
              "      width: 32px;\n",
              "    }\n",
              "\n",
              "    .colab-df-convert:hover {\n",
              "      background-color: #E2EBFA;\n",
              "      box-shadow: 0px 1px 2px rgba(60, 64, 67, 0.3), 0px 1px 3px 1px rgba(60, 64, 67, 0.15);\n",
              "      fill: #174EA6;\n",
              "    }\n",
              "\n",
              "    [theme=dark] .colab-df-convert {\n",
              "      background-color: #3B4455;\n",
              "      fill: #D2E3FC;\n",
              "    }\n",
              "\n",
              "    [theme=dark] .colab-df-convert:hover {\n",
              "      background-color: #434B5C;\n",
              "      box-shadow: 0px 1px 3px 1px rgba(0, 0, 0, 0.15);\n",
              "      filter: drop-shadow(0px 1px 2px rgba(0, 0, 0, 0.3));\n",
              "      fill: #FFFFFF;\n",
              "    }\n",
              "  </style>\n",
              "\n",
              "      <script>\n",
              "        const buttonEl =\n",
              "          document.querySelector('#df-a8e2c944-f772-470b-a92a-4edc6a3a4099 button.colab-df-convert');\n",
              "        buttonEl.style.display =\n",
              "          google.colab.kernel.accessAllowed ? 'block' : 'none';\n",
              "\n",
              "        async function convertToInteractive(key) {\n",
              "          const element = document.querySelector('#df-a8e2c944-f772-470b-a92a-4edc6a3a4099');\n",
              "          const dataTable =\n",
              "            await google.colab.kernel.invokeFunction('convertToInteractive',\n",
              "                                                     [key], {});\n",
              "          if (!dataTable) return;\n",
              "\n",
              "          const docLinkHtml = 'Like what you see? Visit the ' +\n",
              "            '<a target=\"_blank\" href=https://colab.research.google.com/notebooks/data_table.ipynb>data table notebook</a>'\n",
              "            + ' to learn more about interactive tables.';\n",
              "          element.innerHTML = '';\n",
              "          dataTable['output_type'] = 'display_data';\n",
              "          await google.colab.output.renderOutput(dataTable, element);\n",
              "          const docLink = document.createElement('div');\n",
              "          docLink.innerHTML = docLinkHtml;\n",
              "          element.appendChild(docLink);\n",
              "        }\n",
              "      </script>\n",
              "    </div>\n",
              "  </div>\n",
              "  "
            ]
          },
          "metadata": {},
          "execution_count": 4
        }
      ]
    },
    {
      "cell_type": "markdown",
      "source": [
        "# Preparing Dataset for Training"
      ],
      "metadata": {
        "id": "hV7v7U_nD2K3"
      }
    },
    {
      "cell_type": "code",
      "source": [
        "#stopwords\n",
        "custom_stop = ['airbnb', 'air bnb', 't', 's', 'air', 'bnb', 'new', 'york', 'new york', 'stay', 'place', 'apartment', 'll', 've']\n",
        "stop_words = text.ENGLISH_STOP_WORDS.union(custom_stop).union(STOP_WORDS)"
      ],
      "metadata": {
        "id": "RCxKonzFryTb"
      },
      "execution_count": null,
      "outputs": []
    },
    {
      "cell_type": "code",
      "source": [
        "#remove stop words from dataframe\n",
        "\n",
        "df2['comments'] = df2['comments'].apply(lambda x: ' '.join([word for word in x.split() if word not in (stop_words)]))"
      ],
      "metadata": {
        "id": "rYu0UmH4tIW2"
      },
      "execution_count": null,
      "outputs": []
    },
    {
      "cell_type": "code",
      "source": [
        "#create key words pulled from vectorized EDA -- added the antonym for the phrases and common words found in EDA\n",
        "location = ['walking distance', 'subway', 'close subway', 'great location', 'minute walk', 'times square',\n",
        "            'central park', 'blocks away', 'location close', 'metro station', 'neighborhood', 'nearby', 'close', 'far', 'location']\n",
        "\n",
        "host = ['great host', 'quick respond', 'communication', 'host', 'responsive', 'accomodating', 'welcoming', 'welcoming',\n",
        "        'no response', 'did not respond', 'no communication', 'kind', 'nice', 'mean', 'helpful', 'quick']\n",
        "\n",
        "hygeine = ['place clean', 'apartment clean', 'clean comfortable', 'room clean', 'super clean', 'clean',\n",
        "           'dirty', 'gross']\n",
        "\n",
        "comfort = ['bed comfortable', 'comfortable', 'like home', 'nice place', 'place nice', 'spacious', 'safe',\n",
        "           'unsafe', 'uncomfortable', 'small', 'cramped', 'tiny', 'unsafe']\n",
        "\n",
        "cost = ['great value', 'value', 'expensive']"
      ],
      "metadata": {
        "id": "Oxz4kBw7tbAW"
      },
      "execution_count": null,
      "outputs": []
    },
    {
      "cell_type": "code",
      "source": [
        "#create targets to train model\n",
        "df2['location'] = df2['comments'].str.contains('|'.join(location), 1, 0)\n",
        "df2['host'] = df2['comments'].str.contains('|'.join(host), 1, 0)\n",
        "df2['hygeine'] = df2['comments'].str.contains('|'.join(hygeine), 1, 0)\n",
        "df2['comfort'] = df2['comments'].str.contains('|'.join(comfort), 1, 0)\n",
        "df2['cost'] = df2['comments'].str.contains('|'.join(cost), 1, 0)"
      ],
      "metadata": {
        "id": "CsDSlVZKufAi"
      },
      "execution_count": null,
      "outputs": []
    },
    {
      "cell_type": "code",
      "source": [
        "df2.head(3)"
      ],
      "metadata": {
        "colab": {
          "base_uri": "https://localhost:8080/",
          "height": 433
        },
        "id": "3raJ0tjYvykR",
        "outputId": "a269bc01-0661-42fe-a1c4-4ecc817e9299"
      },
      "execution_count": null,
      "outputs": [
        {
          "output_type": "execute_result",
          "data": {
            "text/plain": [
              "       listing_id           id        date  reviewer_id reviewer_name                                           comments  review_scores_rating  review_scores_accuracy review_scores_cleanliness  review_scores_checkin  review_scores_communication  review_scores_location  review_scores_value language  word_count  overall_score_bin  location   host  hygeine  comfort   cost\n",
              "504120   34071692  641819025.0  2020-07-24  238920450.0          Rich              dont like deposit 2weeks release card                  4.42                    4.52                      4.67                   4.72                         4.62                    4.83                 4.52       en        17.0                4.0     False  False    False    False  False\n",
              "203842    7760808  158636817.0  2017-06-07   17444346.0           Ido  location location location best spot city went...                  5.00                    4.95                      4.89                   4.89                         5.00                    4.95                 4.89       en        19.0                5.0      True  False    False    False  False\n",
              "71313      973535   11279373.0  2014-03-28   10711062.0        Maelle  hello experience nice gonzalo nora great lande...                  4.51                    4.47                      4.46                   4.85                         4.83                    4.52                 4.51       en        75.0                4.5     False  False     True     True  False"
            ],
            "text/html": [
              "\n",
              "  <div id=\"df-37e1ca2f-eb69-4689-ad4c-973354c4f4db\">\n",
              "    <div class=\"colab-df-container\">\n",
              "      <div>\n",
              "<style scoped>\n",
              "    .dataframe tbody tr th:only-of-type {\n",
              "        vertical-align: middle;\n",
              "    }\n",
              "\n",
              "    .dataframe tbody tr th {\n",
              "        vertical-align: top;\n",
              "    }\n",
              "\n",
              "    .dataframe thead th {\n",
              "        text-align: right;\n",
              "    }\n",
              "</style>\n",
              "<table border=\"1\" class=\"dataframe\">\n",
              "  <thead>\n",
              "    <tr style=\"text-align: right;\">\n",
              "      <th></th>\n",
              "      <th>listing_id</th>\n",
              "      <th>id</th>\n",
              "      <th>date</th>\n",
              "      <th>reviewer_id</th>\n",
              "      <th>reviewer_name</th>\n",
              "      <th>comments</th>\n",
              "      <th>review_scores_rating</th>\n",
              "      <th>review_scores_accuracy</th>\n",
              "      <th>review_scores_cleanliness</th>\n",
              "      <th>review_scores_checkin</th>\n",
              "      <th>review_scores_communication</th>\n",
              "      <th>review_scores_location</th>\n",
              "      <th>review_scores_value</th>\n",
              "      <th>language</th>\n",
              "      <th>word_count</th>\n",
              "      <th>overall_score_bin</th>\n",
              "      <th>location</th>\n",
              "      <th>host</th>\n",
              "      <th>hygeine</th>\n",
              "      <th>comfort</th>\n",
              "      <th>cost</th>\n",
              "    </tr>\n",
              "  </thead>\n",
              "  <tbody>\n",
              "    <tr>\n",
              "      <th>504120</th>\n",
              "      <td>34071692</td>\n",
              "      <td>641819025.0</td>\n",
              "      <td>2020-07-24</td>\n",
              "      <td>238920450.0</td>\n",
              "      <td>Rich</td>\n",
              "      <td>dont like deposit 2weeks release card</td>\n",
              "      <td>4.42</td>\n",
              "      <td>4.52</td>\n",
              "      <td>4.67</td>\n",
              "      <td>4.72</td>\n",
              "      <td>4.62</td>\n",
              "      <td>4.83</td>\n",
              "      <td>4.52</td>\n",
              "      <td>en</td>\n",
              "      <td>17.0</td>\n",
              "      <td>4.0</td>\n",
              "      <td>False</td>\n",
              "      <td>False</td>\n",
              "      <td>False</td>\n",
              "      <td>False</td>\n",
              "      <td>False</td>\n",
              "    </tr>\n",
              "    <tr>\n",
              "      <th>203842</th>\n",
              "      <td>7760808</td>\n",
              "      <td>158636817.0</td>\n",
              "      <td>2017-06-07</td>\n",
              "      <td>17444346.0</td>\n",
              "      <td>Ido</td>\n",
              "      <td>location location location best spot city went...</td>\n",
              "      <td>5.00</td>\n",
              "      <td>4.95</td>\n",
              "      <td>4.89</td>\n",
              "      <td>4.89</td>\n",
              "      <td>5.00</td>\n",
              "      <td>4.95</td>\n",
              "      <td>4.89</td>\n",
              "      <td>en</td>\n",
              "      <td>19.0</td>\n",
              "      <td>5.0</td>\n",
              "      <td>True</td>\n",
              "      <td>False</td>\n",
              "      <td>False</td>\n",
              "      <td>False</td>\n",
              "      <td>False</td>\n",
              "    </tr>\n",
              "    <tr>\n",
              "      <th>71313</th>\n",
              "      <td>973535</td>\n",
              "      <td>11279373.0</td>\n",
              "      <td>2014-03-28</td>\n",
              "      <td>10711062.0</td>\n",
              "      <td>Maelle</td>\n",
              "      <td>hello experience nice gonzalo nora great lande...</td>\n",
              "      <td>4.51</td>\n",
              "      <td>4.47</td>\n",
              "      <td>4.46</td>\n",
              "      <td>4.85</td>\n",
              "      <td>4.83</td>\n",
              "      <td>4.52</td>\n",
              "      <td>4.51</td>\n",
              "      <td>en</td>\n",
              "      <td>75.0</td>\n",
              "      <td>4.5</td>\n",
              "      <td>False</td>\n",
              "      <td>False</td>\n",
              "      <td>True</td>\n",
              "      <td>True</td>\n",
              "      <td>False</td>\n",
              "    </tr>\n",
              "  </tbody>\n",
              "</table>\n",
              "</div>\n",
              "      <button class=\"colab-df-convert\" onclick=\"convertToInteractive('df-37e1ca2f-eb69-4689-ad4c-973354c4f4db')\"\n",
              "              title=\"Convert this dataframe to an interactive table.\"\n",
              "              style=\"display:none;\">\n",
              "        \n",
              "  <svg xmlns=\"http://www.w3.org/2000/svg\" height=\"24px\"viewBox=\"0 0 24 24\"\n",
              "       width=\"24px\">\n",
              "    <path d=\"M0 0h24v24H0V0z\" fill=\"none\"/>\n",
              "    <path d=\"M18.56 5.44l.94 2.06.94-2.06 2.06-.94-2.06-.94-.94-2.06-.94 2.06-2.06.94zm-11 1L8.5 8.5l.94-2.06 2.06-.94-2.06-.94L8.5 2.5l-.94 2.06-2.06.94zm10 10l.94 2.06.94-2.06 2.06-.94-2.06-.94-.94-2.06-.94 2.06-2.06.94z\"/><path d=\"M17.41 7.96l-1.37-1.37c-.4-.4-.92-.59-1.43-.59-.52 0-1.04.2-1.43.59L10.3 9.45l-7.72 7.72c-.78.78-.78 2.05 0 2.83L4 21.41c.39.39.9.59 1.41.59.51 0 1.02-.2 1.41-.59l7.78-7.78 2.81-2.81c.8-.78.8-2.07 0-2.86zM5.41 20L4 18.59l7.72-7.72 1.47 1.35L5.41 20z\"/>\n",
              "  </svg>\n",
              "      </button>\n",
              "      \n",
              "  <style>\n",
              "    .colab-df-container {\n",
              "      display:flex;\n",
              "      flex-wrap:wrap;\n",
              "      gap: 12px;\n",
              "    }\n",
              "\n",
              "    .colab-df-convert {\n",
              "      background-color: #E8F0FE;\n",
              "      border: none;\n",
              "      border-radius: 50%;\n",
              "      cursor: pointer;\n",
              "      display: none;\n",
              "      fill: #1967D2;\n",
              "      height: 32px;\n",
              "      padding: 0 0 0 0;\n",
              "      width: 32px;\n",
              "    }\n",
              "\n",
              "    .colab-df-convert:hover {\n",
              "      background-color: #E2EBFA;\n",
              "      box-shadow: 0px 1px 2px rgba(60, 64, 67, 0.3), 0px 1px 3px 1px rgba(60, 64, 67, 0.15);\n",
              "      fill: #174EA6;\n",
              "    }\n",
              "\n",
              "    [theme=dark] .colab-df-convert {\n",
              "      background-color: #3B4455;\n",
              "      fill: #D2E3FC;\n",
              "    }\n",
              "\n",
              "    [theme=dark] .colab-df-convert:hover {\n",
              "      background-color: #434B5C;\n",
              "      box-shadow: 0px 1px 3px 1px rgba(0, 0, 0, 0.15);\n",
              "      filter: drop-shadow(0px 1px 2px rgba(0, 0, 0, 0.3));\n",
              "      fill: #FFFFFF;\n",
              "    }\n",
              "  </style>\n",
              "\n",
              "      <script>\n",
              "        const buttonEl =\n",
              "          document.querySelector('#df-37e1ca2f-eb69-4689-ad4c-973354c4f4db button.colab-df-convert');\n",
              "        buttonEl.style.display =\n",
              "          google.colab.kernel.accessAllowed ? 'block' : 'none';\n",
              "\n",
              "        async function convertToInteractive(key) {\n",
              "          const element = document.querySelector('#df-37e1ca2f-eb69-4689-ad4c-973354c4f4db');\n",
              "          const dataTable =\n",
              "            await google.colab.kernel.invokeFunction('convertToInteractive',\n",
              "                                                     [key], {});\n",
              "          if (!dataTable) return;\n",
              "\n",
              "          const docLinkHtml = 'Like what you see? Visit the ' +\n",
              "            '<a target=\"_blank\" href=https://colab.research.google.com/notebooks/data_table.ipynb>data table notebook</a>'\n",
              "            + ' to learn more about interactive tables.';\n",
              "          element.innerHTML = '';\n",
              "          dataTable['output_type'] = 'display_data';\n",
              "          await google.colab.output.renderOutput(dataTable, element);\n",
              "          const docLink = document.createElement('div');\n",
              "          docLink.innerHTML = docLinkHtml;\n",
              "          element.appendChild(docLink);\n",
              "        }\n",
              "      </script>\n",
              "    </div>\n",
              "  </div>\n",
              "  "
            ]
          },
          "metadata": {},
          "execution_count": 9
        }
      ]
    },
    {
      "cell_type": "code",
      "source": [
        "#convert targets to integers\n",
        "df2['location'] = df2['location'].astype(int)\n",
        "df2['host'] = df2['host'].astype(int)\n",
        "df2['hygeine'] = df2['hygeine'].astype(int)\n",
        "df2['comfort'] = df2['comfort'].astype(int)\n",
        "df2['cost'] = df2['cost'].astype(int)\n",
        "df2['themes'] = df2['location'].astype(str)+df2['host'].astype(str)+df2['hygeine'].astype(str)+df2['comfort'].astype(str)+df2['cost'].astype(str)\n",
        "\n",
        "df2.head(3)"
      ],
      "metadata": {
        "colab": {
          "base_uri": "https://localhost:8080/",
          "height": 433
        },
        "id": "Y0q5mV9awAKS",
        "outputId": "b7035d63-243a-4726-b1de-9b7a37242beb"
      },
      "execution_count": null,
      "outputs": [
        {
          "output_type": "execute_result",
          "data": {
            "text/plain": [
              "       listing_id           id        date  reviewer_id reviewer_name                                           comments  review_scores_rating  review_scores_accuracy review_scores_cleanliness  review_scores_checkin  review_scores_communication  review_scores_location  review_scores_value language  word_count  overall_score_bin  location  host  hygeine  comfort  cost themes\n",
              "504120   34071692  641819025.0  2020-07-24  238920450.0          Rich              dont like deposit 2weeks release card                  4.42                    4.52                      4.67                   4.72                         4.62                    4.83                 4.52       en        17.0                4.0         0     0        0        0     0  00000\n",
              "203842    7760808  158636817.0  2017-06-07   17444346.0           Ido  location location location best spot city went...                  5.00                    4.95                      4.89                   4.89                         5.00                    4.95                 4.89       en        19.0                5.0         1     0        0        0     0  10000\n",
              "71313      973535   11279373.0  2014-03-28   10711062.0        Maelle  hello experience nice gonzalo nora great lande...                  4.51                    4.47                      4.46                   4.85                         4.83                    4.52                 4.51       en        75.0                4.5         0     0        1        1     0  00110"
            ],
            "text/html": [
              "\n",
              "  <div id=\"df-1cf0f05a-8757-432a-a4b3-2ce74de96e69\">\n",
              "    <div class=\"colab-df-container\">\n",
              "      <div>\n",
              "<style scoped>\n",
              "    .dataframe tbody tr th:only-of-type {\n",
              "        vertical-align: middle;\n",
              "    }\n",
              "\n",
              "    .dataframe tbody tr th {\n",
              "        vertical-align: top;\n",
              "    }\n",
              "\n",
              "    .dataframe thead th {\n",
              "        text-align: right;\n",
              "    }\n",
              "</style>\n",
              "<table border=\"1\" class=\"dataframe\">\n",
              "  <thead>\n",
              "    <tr style=\"text-align: right;\">\n",
              "      <th></th>\n",
              "      <th>listing_id</th>\n",
              "      <th>id</th>\n",
              "      <th>date</th>\n",
              "      <th>reviewer_id</th>\n",
              "      <th>reviewer_name</th>\n",
              "      <th>comments</th>\n",
              "      <th>review_scores_rating</th>\n",
              "      <th>review_scores_accuracy</th>\n",
              "      <th>review_scores_cleanliness</th>\n",
              "      <th>review_scores_checkin</th>\n",
              "      <th>review_scores_communication</th>\n",
              "      <th>review_scores_location</th>\n",
              "      <th>review_scores_value</th>\n",
              "      <th>language</th>\n",
              "      <th>word_count</th>\n",
              "      <th>overall_score_bin</th>\n",
              "      <th>location</th>\n",
              "      <th>host</th>\n",
              "      <th>hygeine</th>\n",
              "      <th>comfort</th>\n",
              "      <th>cost</th>\n",
              "      <th>themes</th>\n",
              "    </tr>\n",
              "  </thead>\n",
              "  <tbody>\n",
              "    <tr>\n",
              "      <th>504120</th>\n",
              "      <td>34071692</td>\n",
              "      <td>641819025.0</td>\n",
              "      <td>2020-07-24</td>\n",
              "      <td>238920450.0</td>\n",
              "      <td>Rich</td>\n",
              "      <td>dont like deposit 2weeks release card</td>\n",
              "      <td>4.42</td>\n",
              "      <td>4.52</td>\n",
              "      <td>4.67</td>\n",
              "      <td>4.72</td>\n",
              "      <td>4.62</td>\n",
              "      <td>4.83</td>\n",
              "      <td>4.52</td>\n",
              "      <td>en</td>\n",
              "      <td>17.0</td>\n",
              "      <td>4.0</td>\n",
              "      <td>0</td>\n",
              "      <td>0</td>\n",
              "      <td>0</td>\n",
              "      <td>0</td>\n",
              "      <td>0</td>\n",
              "      <td>00000</td>\n",
              "    </tr>\n",
              "    <tr>\n",
              "      <th>203842</th>\n",
              "      <td>7760808</td>\n",
              "      <td>158636817.0</td>\n",
              "      <td>2017-06-07</td>\n",
              "      <td>17444346.0</td>\n",
              "      <td>Ido</td>\n",
              "      <td>location location location best spot city went...</td>\n",
              "      <td>5.00</td>\n",
              "      <td>4.95</td>\n",
              "      <td>4.89</td>\n",
              "      <td>4.89</td>\n",
              "      <td>5.00</td>\n",
              "      <td>4.95</td>\n",
              "      <td>4.89</td>\n",
              "      <td>en</td>\n",
              "      <td>19.0</td>\n",
              "      <td>5.0</td>\n",
              "      <td>1</td>\n",
              "      <td>0</td>\n",
              "      <td>0</td>\n",
              "      <td>0</td>\n",
              "      <td>0</td>\n",
              "      <td>10000</td>\n",
              "    </tr>\n",
              "    <tr>\n",
              "      <th>71313</th>\n",
              "      <td>973535</td>\n",
              "      <td>11279373.0</td>\n",
              "      <td>2014-03-28</td>\n",
              "      <td>10711062.0</td>\n",
              "      <td>Maelle</td>\n",
              "      <td>hello experience nice gonzalo nora great lande...</td>\n",
              "      <td>4.51</td>\n",
              "      <td>4.47</td>\n",
              "      <td>4.46</td>\n",
              "      <td>4.85</td>\n",
              "      <td>4.83</td>\n",
              "      <td>4.52</td>\n",
              "      <td>4.51</td>\n",
              "      <td>en</td>\n",
              "      <td>75.0</td>\n",
              "      <td>4.5</td>\n",
              "      <td>0</td>\n",
              "      <td>0</td>\n",
              "      <td>1</td>\n",
              "      <td>1</td>\n",
              "      <td>0</td>\n",
              "      <td>00110</td>\n",
              "    </tr>\n",
              "  </tbody>\n",
              "</table>\n",
              "</div>\n",
              "      <button class=\"colab-df-convert\" onclick=\"convertToInteractive('df-1cf0f05a-8757-432a-a4b3-2ce74de96e69')\"\n",
              "              title=\"Convert this dataframe to an interactive table.\"\n",
              "              style=\"display:none;\">\n",
              "        \n",
              "  <svg xmlns=\"http://www.w3.org/2000/svg\" height=\"24px\"viewBox=\"0 0 24 24\"\n",
              "       width=\"24px\">\n",
              "    <path d=\"M0 0h24v24H0V0z\" fill=\"none\"/>\n",
              "    <path d=\"M18.56 5.44l.94 2.06.94-2.06 2.06-.94-2.06-.94-.94-2.06-.94 2.06-2.06.94zm-11 1L8.5 8.5l.94-2.06 2.06-.94-2.06-.94L8.5 2.5l-.94 2.06-2.06.94zm10 10l.94 2.06.94-2.06 2.06-.94-2.06-.94-.94-2.06-.94 2.06-2.06.94z\"/><path d=\"M17.41 7.96l-1.37-1.37c-.4-.4-.92-.59-1.43-.59-.52 0-1.04.2-1.43.59L10.3 9.45l-7.72 7.72c-.78.78-.78 2.05 0 2.83L4 21.41c.39.39.9.59 1.41.59.51 0 1.02-.2 1.41-.59l7.78-7.78 2.81-2.81c.8-.78.8-2.07 0-2.86zM5.41 20L4 18.59l7.72-7.72 1.47 1.35L5.41 20z\"/>\n",
              "  </svg>\n",
              "      </button>\n",
              "      \n",
              "  <style>\n",
              "    .colab-df-container {\n",
              "      display:flex;\n",
              "      flex-wrap:wrap;\n",
              "      gap: 12px;\n",
              "    }\n",
              "\n",
              "    .colab-df-convert {\n",
              "      background-color: #E8F0FE;\n",
              "      border: none;\n",
              "      border-radius: 50%;\n",
              "      cursor: pointer;\n",
              "      display: none;\n",
              "      fill: #1967D2;\n",
              "      height: 32px;\n",
              "      padding: 0 0 0 0;\n",
              "      width: 32px;\n",
              "    }\n",
              "\n",
              "    .colab-df-convert:hover {\n",
              "      background-color: #E2EBFA;\n",
              "      box-shadow: 0px 1px 2px rgba(60, 64, 67, 0.3), 0px 1px 3px 1px rgba(60, 64, 67, 0.15);\n",
              "      fill: #174EA6;\n",
              "    }\n",
              "\n",
              "    [theme=dark] .colab-df-convert {\n",
              "      background-color: #3B4455;\n",
              "      fill: #D2E3FC;\n",
              "    }\n",
              "\n",
              "    [theme=dark] .colab-df-convert:hover {\n",
              "      background-color: #434B5C;\n",
              "      box-shadow: 0px 1px 3px 1px rgba(0, 0, 0, 0.15);\n",
              "      filter: drop-shadow(0px 1px 2px rgba(0, 0, 0, 0.3));\n",
              "      fill: #FFFFFF;\n",
              "    }\n",
              "  </style>\n",
              "\n",
              "      <script>\n",
              "        const buttonEl =\n",
              "          document.querySelector('#df-1cf0f05a-8757-432a-a4b3-2ce74de96e69 button.colab-df-convert');\n",
              "        buttonEl.style.display =\n",
              "          google.colab.kernel.accessAllowed ? 'block' : 'none';\n",
              "\n",
              "        async function convertToInteractive(key) {\n",
              "          const element = document.querySelector('#df-1cf0f05a-8757-432a-a4b3-2ce74de96e69');\n",
              "          const dataTable =\n",
              "            await google.colab.kernel.invokeFunction('convertToInteractive',\n",
              "                                                     [key], {});\n",
              "          if (!dataTable) return;\n",
              "\n",
              "          const docLinkHtml = 'Like what you see? Visit the ' +\n",
              "            '<a target=\"_blank\" href=https://colab.research.google.com/notebooks/data_table.ipynb>data table notebook</a>'\n",
              "            + ' to learn more about interactive tables.';\n",
              "          element.innerHTML = '';\n",
              "          dataTable['output_type'] = 'display_data';\n",
              "          await google.colab.output.renderOutput(dataTable, element);\n",
              "          const docLink = document.createElement('div');\n",
              "          docLink.innerHTML = docLinkHtml;\n",
              "          element.appendChild(docLink);\n",
              "        }\n",
              "      </script>\n",
              "    </div>\n",
              "  </div>\n",
              "  "
            ]
          },
          "metadata": {},
          "execution_count": 10
        }
      ]
    },
    {
      "cell_type": "code",
      "source": [
        "#convert dataframe to data set for modeling\n",
        "df = df2[['comments', 'location', 'host', 'hygeine', 'comfort','cost']]\n",
        "df.head(3)"
      ],
      "metadata": {
        "colab": {
          "base_uri": "https://localhost:8080/",
          "height": 143
        },
        "id": "-iPq7KJmyYv3",
        "outputId": "ed003fc6-b8fe-4be2-992a-315db4702c83"
      },
      "execution_count": null,
      "outputs": [
        {
          "output_type": "execute_result",
          "data": {
            "text/plain": [
              "                                                 comments  location  host  hygeine  comfort  cost\n",
              "504120              dont like deposit 2weeks release card         0     0        0        0     0\n",
              "203842  location location location best spot city went...         1     0        0        0     0\n",
              "71313   hello experience nice gonzalo nora great lande...         0     0        1        1     0"
            ],
            "text/html": [
              "\n",
              "  <div id=\"df-72e7ce0b-0fb7-4a84-a130-b3a38079f764\">\n",
              "    <div class=\"colab-df-container\">\n",
              "      <div>\n",
              "<style scoped>\n",
              "    .dataframe tbody tr th:only-of-type {\n",
              "        vertical-align: middle;\n",
              "    }\n",
              "\n",
              "    .dataframe tbody tr th {\n",
              "        vertical-align: top;\n",
              "    }\n",
              "\n",
              "    .dataframe thead th {\n",
              "        text-align: right;\n",
              "    }\n",
              "</style>\n",
              "<table border=\"1\" class=\"dataframe\">\n",
              "  <thead>\n",
              "    <tr style=\"text-align: right;\">\n",
              "      <th></th>\n",
              "      <th>comments</th>\n",
              "      <th>location</th>\n",
              "      <th>host</th>\n",
              "      <th>hygeine</th>\n",
              "      <th>comfort</th>\n",
              "      <th>cost</th>\n",
              "    </tr>\n",
              "  </thead>\n",
              "  <tbody>\n",
              "    <tr>\n",
              "      <th>504120</th>\n",
              "      <td>dont like deposit 2weeks release card</td>\n",
              "      <td>0</td>\n",
              "      <td>0</td>\n",
              "      <td>0</td>\n",
              "      <td>0</td>\n",
              "      <td>0</td>\n",
              "    </tr>\n",
              "    <tr>\n",
              "      <th>203842</th>\n",
              "      <td>location location location best spot city went...</td>\n",
              "      <td>1</td>\n",
              "      <td>0</td>\n",
              "      <td>0</td>\n",
              "      <td>0</td>\n",
              "      <td>0</td>\n",
              "    </tr>\n",
              "    <tr>\n",
              "      <th>71313</th>\n",
              "      <td>hello experience nice gonzalo nora great lande...</td>\n",
              "      <td>0</td>\n",
              "      <td>0</td>\n",
              "      <td>1</td>\n",
              "      <td>1</td>\n",
              "      <td>0</td>\n",
              "    </tr>\n",
              "  </tbody>\n",
              "</table>\n",
              "</div>\n",
              "      <button class=\"colab-df-convert\" onclick=\"convertToInteractive('df-72e7ce0b-0fb7-4a84-a130-b3a38079f764')\"\n",
              "              title=\"Convert this dataframe to an interactive table.\"\n",
              "              style=\"display:none;\">\n",
              "        \n",
              "  <svg xmlns=\"http://www.w3.org/2000/svg\" height=\"24px\"viewBox=\"0 0 24 24\"\n",
              "       width=\"24px\">\n",
              "    <path d=\"M0 0h24v24H0V0z\" fill=\"none\"/>\n",
              "    <path d=\"M18.56 5.44l.94 2.06.94-2.06 2.06-.94-2.06-.94-.94-2.06-.94 2.06-2.06.94zm-11 1L8.5 8.5l.94-2.06 2.06-.94-2.06-.94L8.5 2.5l-.94 2.06-2.06.94zm10 10l.94 2.06.94-2.06 2.06-.94-2.06-.94-.94-2.06-.94 2.06-2.06.94z\"/><path d=\"M17.41 7.96l-1.37-1.37c-.4-.4-.92-.59-1.43-.59-.52 0-1.04.2-1.43.59L10.3 9.45l-7.72 7.72c-.78.78-.78 2.05 0 2.83L4 21.41c.39.39.9.59 1.41.59.51 0 1.02-.2 1.41-.59l7.78-7.78 2.81-2.81c.8-.78.8-2.07 0-2.86zM5.41 20L4 18.59l7.72-7.72 1.47 1.35L5.41 20z\"/>\n",
              "  </svg>\n",
              "      </button>\n",
              "      \n",
              "  <style>\n",
              "    .colab-df-container {\n",
              "      display:flex;\n",
              "      flex-wrap:wrap;\n",
              "      gap: 12px;\n",
              "    }\n",
              "\n",
              "    .colab-df-convert {\n",
              "      background-color: #E8F0FE;\n",
              "      border: none;\n",
              "      border-radius: 50%;\n",
              "      cursor: pointer;\n",
              "      display: none;\n",
              "      fill: #1967D2;\n",
              "      height: 32px;\n",
              "      padding: 0 0 0 0;\n",
              "      width: 32px;\n",
              "    }\n",
              "\n",
              "    .colab-df-convert:hover {\n",
              "      background-color: #E2EBFA;\n",
              "      box-shadow: 0px 1px 2px rgba(60, 64, 67, 0.3), 0px 1px 3px 1px rgba(60, 64, 67, 0.15);\n",
              "      fill: #174EA6;\n",
              "    }\n",
              "\n",
              "    [theme=dark] .colab-df-convert {\n",
              "      background-color: #3B4455;\n",
              "      fill: #D2E3FC;\n",
              "    }\n",
              "\n",
              "    [theme=dark] .colab-df-convert:hover {\n",
              "      background-color: #434B5C;\n",
              "      box-shadow: 0px 1px 3px 1px rgba(0, 0, 0, 0.15);\n",
              "      filter: drop-shadow(0px 1px 2px rgba(0, 0, 0, 0.3));\n",
              "      fill: #FFFFFF;\n",
              "    }\n",
              "  </style>\n",
              "\n",
              "      <script>\n",
              "        const buttonEl =\n",
              "          document.querySelector('#df-72e7ce0b-0fb7-4a84-a130-b3a38079f764 button.colab-df-convert');\n",
              "        buttonEl.style.display =\n",
              "          google.colab.kernel.accessAllowed ? 'block' : 'none';\n",
              "\n",
              "        async function convertToInteractive(key) {\n",
              "          const element = document.querySelector('#df-72e7ce0b-0fb7-4a84-a130-b3a38079f764');\n",
              "          const dataTable =\n",
              "            await google.colab.kernel.invokeFunction('convertToInteractive',\n",
              "                                                     [key], {});\n",
              "          if (!dataTable) return;\n",
              "\n",
              "          const docLinkHtml = 'Like what you see? Visit the ' +\n",
              "            '<a target=\"_blank\" href=https://colab.research.google.com/notebooks/data_table.ipynb>data table notebook</a>'\n",
              "            + ' to learn more about interactive tables.';\n",
              "          element.innerHTML = '';\n",
              "          dataTable['output_type'] = 'display_data';\n",
              "          await google.colab.output.renderOutput(dataTable, element);\n",
              "          const docLink = document.createElement('div');\n",
              "          docLink.innerHTML = docLinkHtml;\n",
              "          element.appendChild(docLink);\n",
              "        }\n",
              "      </script>\n",
              "    </div>\n",
              "  </div>\n",
              "  "
            ]
          },
          "metadata": {},
          "execution_count": 11
        }
      ]
    },
    {
      "cell_type": "code",
      "source": [
        "#export prepared dataset for future modeling\n",
        "df.to_csv('review_data_for_modeling.csv', index=False)"
      ],
      "metadata": {
        "id": "9SEIdLM8yjuP"
      },
      "execution_count": null,
      "outputs": []
    },
    {
      "cell_type": "markdown",
      "source": [
        "# Modeling"
      ],
      "metadata": {
        "id": "3Q32SxqnzHu_"
      }
    },
    {
      "cell_type": "code",
      "source": [
        "from sklearn.linear_model import LogisticRegression\n",
        "from sklearn.model_selection import train_test_split, cross_val_score\n",
        "from sklearn.metrics import confusion_matrix, plot_confusion_matrix, recall_score, precision_score, accuracy_score\n",
        "\n",
        "import pickle\n"
      ],
      "metadata": {
        "id": "CGlDoj5V9jMZ"
      },
      "execution_count": null,
      "outputs": []
    },
    {
      "cell_type": "markdown",
      "source": [
        "### Establishing baselines\n",
        "- Relatively balanced classes for location and host\n",
        "- Imbalanced classes for hygeine, comfort and cost"
      ],
      "metadata": {
        "id": "FN7vYKdxzOAl"
      }
    },
    {
      "cell_type": "code",
      "source": [
        "features = ['location', 'host', 'hygeine', 'comfort', 'cost']\n",
        "\n",
        "for x in features:\n",
        "  df[x].value_counts(normalize=True).plot.barh(title=x)\n",
        "  plt.show()"
      ],
      "metadata": {
        "colab": {
          "base_uri": "https://localhost:8080/",
          "height": 1000
        },
        "id": "6hfiixXqzPAi",
        "outputId": "27959f12-ff36-413b-db7f-306124a08333"
      },
      "execution_count": null,
      "outputs": [
        {
          "output_type": "display_data",
          "data": {
            "text/plain": [
              "<Figure size 432x288 with 1 Axes>"
            ],
            "image/png": "[encoded data removed]"
          },
          "metadata": {
            "needs_background": "light"
          }
        },
        {
          "output_type": "display_data",
          "data": {
            "text/plain": [
              "<Figure size 432x288 with 1 Axes>"
            ],
            "image/png": "[encoded data removed]"
          },
          "metadata": {
            "needs_background": "light"
          }
        },
        {
          "output_type": "display_data",
          "data": {
            "text/plain": [
              "<Figure size 432x288 with 1 Axes>"
            ],
            "image/png": "[encoded data removed]"
          },
          "metadata": {
            "needs_background": "light"
          }
        },
        {
          "output_type": "display_data",
          "data": {
            "text/plain": [
              "<Figure size 432x288 with 1 Axes>"
            ],
            "image/png": "[encoded data removed]"
          },
          "metadata": {
            "needs_background": "light"
          }
        },
        {
          "output_type": "display_data",
          "data": {
            "text/plain": [
              "<Figure size 432x288 with 1 Axes>"
            ],
            "image/png": "[encoded data removed]"
          },
          "metadata": {
            "needs_background": "light"
          }
        }
      ]
    },
    {
      "cell_type": "markdown",
      "source": [
        "# Build multiple binary classification models to detect each category within comments. Combine together to form models to detect within comments"
      ],
      "metadata": {
        "id": "pF1du_gB4juC"
      }
    },
    {
      "cell_type": "code",
      "source": [
        "#function to prepare data for modeling\n",
        "\n",
        "def model_data (target, model_type):\n",
        "  #prepare dataframes\n",
        "  X = df['comments']\n",
        "  y = df[target]\n",
        "\n",
        "  cvec = CountVectorizer()\n",
        "  \n",
        "  #train test split\n",
        "  X_train, X_test, y_train, y_test = train_test_split(X, y, stratify=y)\n",
        "\n",
        "  #vectorize\n",
        "  X_train_vectorized = cvec.fit_transform(X_train)\n",
        "  X_test_vectorized = cvec.transform(X_test)\n",
        "  X_traindf = pd.DataFrame(X_train_vectorized.todense(), columns=cvec.get_feature_names_out())\n",
        "  X_testdf = pd.DataFrame(X_test_vectorized.todense(), columns=cvec.get_feature_names_out())\n",
        "\n",
        "  #model fitting\n",
        "  model = model_type\n",
        "  model.fit(X_traindf, y_train)\n",
        "\n",
        "  #predictions\n",
        "  preds = model.predict(X_testdf)\n",
        "\n",
        "  #pickle models\n",
        "  with open('{}.pkl'.format(target), 'wb') as pickle_out:\n",
        "    pickle_out = pickle.dump(model, pickle_out)\n",
        "\n",
        "  #scores\n",
        "  print('----------')\n",
        "  print(f'{target} accuracy: {model.score(X_traindf, y_train)}, {model.score(X_testdf, y_test)}')\n",
        "  print(f'{target} recall: {recall_score(y_test, preds)}')\n",
        "  print(f'{target} precision: {precision_score(y_test, preds)}')\n",
        "\n",
        "  #prepare test set for each data based on vectorizer\n",
        "  df3 = pd.read_csv('all_reviews_for_vectorizing.csv')\n",
        "  df3.dropna(inplace=True)\n",
        "  df4 = df3.sample(frac=0.02, random_state=35) #sample down data with different random state for different subset\n",
        "  df4['comments'] = df4['comments'].apply(lambda x: ' '.join([word for word in x.split() if word not in (stop_words)])) #remove stop words from dataframe\n",
        "\n",
        "  #transform test set\n",
        "  X2 = df4['comments']\n",
        "  X2_test = cvec.transform(X2.values)\n",
        "  X2df = pd.DataFrame(X2_test.todense(), columns=cvec.get_feature_names_out())\n",
        "\n",
        "  #save transformed test set\n",
        "  X2df.to_csv('{}_test_dataset.csv'.format(target), index=False)\n",
        "\n",
        "  return "
      ],
      "metadata": {
        "id": "jz3gItYB420R"
      },
      "execution_count": null,
      "outputs": []
    },
    {
      "cell_type": "code",
      "source": [
        "#model results for Logistic Regression\n",
        "for x in features:\n",
        "  model_data(x, LogisticRegression())"
      ],
      "metadata": {
        "colab": {
          "base_uri": "https://localhost:8080/"
        },
        "id": "Xfve1EsnlvUR",
        "outputId": "cf3dd809-43fb-43ed-eefc-3ac554a3325c"
      },
      "execution_count": null,
      "outputs": [
        {
          "output_type": "stream",
          "name": "stdout",
          "text": [
            "----------\n",
            "location accuracy: 0.9981186365648517, 0.9767596281540505\n",
            "location recall: 0.9708067940552016\n",
            "location precision: 0.9918655097613883\n"
          ]
        },
        {
          "output_type": "stream",
          "name": "stderr",
          "text": [
            "/usr/local/lib/python3.7/dist-packages/ipykernel_launcher.py:3: DtypeWarning: Columns (0,8) have mixed types.Specify dtype option on import or set low_memory=False.\n",
            "  This is separate from the ipykernel package so we can avoid doing imports until\n"
          ]
        },
        {
          "output_type": "stream",
          "name": "stdout",
          "text": [
            "----------\n",
            "host accuracy: 0.9965692784417884, 0.9843957503320053\n",
            "host recall: 0.9680534918276374\n",
            "host precision: 0.9969395562356542\n"
          ]
        },
        {
          "output_type": "stream",
          "name": "stderr",
          "text": [
            "/usr/local/lib/python3.7/dist-packages/ipykernel_launcher.py:3: DtypeWarning: Columns (0,8) have mixed types.Specify dtype option on import or set low_memory=False.\n",
            "  This is separate from the ipykernel package so we can avoid doing imports until\n"
          ]
        },
        {
          "output_type": "stream",
          "name": "stdout",
          "text": [
            "----------\n",
            "hygeine accuracy: 0.997675962815405, 0.9850597609561753\n",
            "hygeine recall: 0.9611307420494699\n",
            "hygeine precision: 0.9990817263544536\n"
          ]
        },
        {
          "output_type": "stream",
          "name": "stderr",
          "text": [
            "/usr/local/lib/python3.7/dist-packages/ipykernel_launcher.py:3: DtypeWarning: Columns (0,8) have mixed types.Specify dtype option on import or set low_memory=False.\n",
            "  This is separate from the ipykernel package so we can avoid doing imports until\n"
          ]
        },
        {
          "output_type": "stream",
          "name": "stdout",
          "text": [
            "----------\n",
            "comfort accuracy: 0.9969012837538734, 0.9774236387782205\n",
            "comfort recall: 0.9446428571428571\n",
            "comfort precision: 0.9943609022556391\n"
          ]
        },
        {
          "output_type": "stream",
          "name": "stderr",
          "text": [
            "/usr/local/lib/python3.7/dist-packages/ipykernel_launcher.py:3: DtypeWarning: Columns (0,8) have mixed types.Specify dtype option on import or set low_memory=False.\n",
            "  This is separate from the ipykernel package so we can avoid doing imports until\n"
          ]
        },
        {
          "output_type": "stream",
          "name": "stdout",
          "text": [
            "----------\n",
            "cost accuracy: 0.9995573262505534, 0.9946879150066401\n",
            "cost recall: 0.8545454545454545\n",
            "cost precision: 1.0\n"
          ]
        },
        {
          "output_type": "stream",
          "name": "stderr",
          "text": [
            "/usr/local/lib/python3.7/dist-packages/ipykernel_launcher.py:3: DtypeWarning: Columns (0,8) have mixed types.Specify dtype option on import or set low_memory=False.\n",
            "  This is separate from the ipykernel package so we can avoid doing imports until\n"
          ]
        }
      ]
    },
    {
      "cell_type": "markdown",
      "source": [
        "# Modeling Results\n",
        "- Based on the words discovered during EDA, the logistic model performs fairly well on terms of accuracy, precision and recall. Each category performs above their baseline majority categories.\n",
        "- The only exception are categorise with a precision rate of 1.0, which means additional data related specifically to cost will need to be brough into the dataset to better train the model.\n",
        "- Now that models have been created to detect subcategory themes from reviews, the next step will be ensembling these models and applying them to test data."
      ],
      "metadata": {
        "id": "KpSDa9AFrb4f"
      }
    },
    {
      "cell_type": "markdown",
      "source": [
        "# Testing Models with Test Data"
      ],
      "metadata": {
        "id": "pAQsafDwxi0X"
      }
    },
    {
      "cell_type": "code",
      "source": [
        "#load models\n",
        "with open('location.pkl', 'rb') as pickle_in:\n",
        "    loc_model = pickle.load(pickle_in)\n",
        "\n",
        "with open('host.pkl', 'rb') as pickle_in:\n",
        "    host_model = pickle.load(pickle_in)\n",
        "\n",
        "with open('hygeine.pkl', 'rb') as pickle_in:\n",
        "    hygeine_model = pickle.load(pickle_in)\n",
        "\n",
        "with open('comfort.pkl', 'rb') as pickle_in:\n",
        "    comfort_model = pickle.load(pickle_in)\n",
        "\n",
        "with open('cost.pkl', 'rb') as pickle_in:\n",
        "    cost_model = pickle.load(pickle_in)"
      ],
      "metadata": {
        "id": "gvBcU8aIzdyA"
      },
      "execution_count": null,
      "outputs": []
    },
    {
      "cell_type": "code",
      "source": [
        "#load test dataset\n",
        "locdf = pd.read_csv('location_test_dataset.csv')\n",
        "hostdf = pd.read_csv('host_test_dataset.csv')\n",
        "hygeinedf = pd.read_csv('hygeine_test_dataset.csv')\n",
        "comfortdf = pd.read_csv('comfort_test_dataset.csv')\n",
        "costdf = pd.read_csv('cost_test_dataset.csv')"
      ],
      "metadata": {
        "id": "ijdPhCVW0YBo"
      },
      "execution_count": null,
      "outputs": []
    },
    {
      "cell_type": "code",
      "source": [
        "#join prediction results to original data for comparison\n",
        "test_df = pd.read_csv('all_reviews_for_vectorizing.csv')\n",
        "test_df.dropna(inplace=True)\n",
        "test_df2 = test_df.sample(frac=0.02, random_state=35)\n",
        "test_df2['comments'] = test_df2['comments'].apply(lambda x: ' '.join([word for word in x.split() if word not in (stop_words)]))\n",
        "test_df2 = test_df2[['comments']]\n",
        "\n",
        "#joining predictions to test dataframe\n",
        "test_df2['location_predictions'] = loc_model.predict(locdf)\n",
        "test_df2['host_predictions'] = host_model.predict(hostdf)\n",
        "test_df2['hygeine_predictions'] = hygeine_model.predict(hygeinedf)\n",
        "test_df2['comfort_predictions'] = comfort_model.predict(comfortdf)\n",
        "test_df2['cost_predictions'] = cost_model.predict(costdf)\n"
      ],
      "metadata": {
        "colab": {
          "base_uri": "https://localhost:8080/"
        },
        "id": "1-y3Ykhi44Hg",
        "outputId": "c96ad45d-5f78-4d63-bc56-9aaa1e4813ad"
      },
      "execution_count": null,
      "outputs": [
        {
          "output_type": "stream",
          "name": "stderr",
          "text": [
            "/usr/local/lib/python3.7/dist-packages/IPython/core/interactiveshell.py:2882: DtypeWarning: Columns (0,8) have mixed types.Specify dtype option on import or set low_memory=False.\n",
            "  exec(code_obj, self.user_global_ns, self.user_ns)\n"
          ]
        }
      ]
    },
    {
      "cell_type": "code",
      "source": [
        "test_df2.head(3)"
      ],
      "metadata": {
        "colab": {
          "base_uri": "https://localhost:8080/",
          "height": 143
        },
        "id": "hTz7eUtc5OA1",
        "outputId": "a3574ef3-a738-4e10-e6e8-9fca1673b042"
      },
      "execution_count": null,
      "outputs": [
        {
          "output_type": "execute_result",
          "data": {
            "text/plain": [
              "                                                 comments  location_predictions  host_predictions  hygeine_predictions  comfort_predictions  cost_predictions\n",
              "26735   lulia worked home arrived flexible early depar...                     0                 0                    1                    0                 1\n",
              "475965  great sam accommodating responds super fast me...                     1                 0                    0                    0                 0\n",
              "447766  great value short walk train edgar accommodati...                     0                 0                    0                    0                 1"
            ],
            "text/html": [
              "\n",
              "  <div id=\"df-40ebc3aa-e844-4a32-a521-bf168f258a5d\">\n",
              "    <div class=\"colab-df-container\">\n",
              "      <div>\n",
              "<style scoped>\n",
              "    .dataframe tbody tr th:only-of-type {\n",
              "        vertical-align: middle;\n",
              "    }\n",
              "\n",
              "    .dataframe tbody tr th {\n",
              "        vertical-align: top;\n",
              "    }\n",
              "\n",
              "    .dataframe thead th {\n",
              "        text-align: right;\n",
              "    }\n",
              "</style>\n",
              "<table border=\"1\" class=\"dataframe\">\n",
              "  <thead>\n",
              "    <tr style=\"text-align: right;\">\n",
              "      <th></th>\n",
              "      <th>comments</th>\n",
              "      <th>location_predictions</th>\n",
              "      <th>host_predictions</th>\n",
              "      <th>hygeine_predictions</th>\n",
              "      <th>comfort_predictions</th>\n",
              "      <th>cost_predictions</th>\n",
              "    </tr>\n",
              "  </thead>\n",
              "  <tbody>\n",
              "    <tr>\n",
              "      <th>26735</th>\n",
              "      <td>lulia worked home arrived flexible early depar...</td>\n",
              "      <td>0</td>\n",
              "      <td>0</td>\n",
              "      <td>1</td>\n",
              "      <td>0</td>\n",
              "      <td>1</td>\n",
              "    </tr>\n",
              "    <tr>\n",
              "      <th>475965</th>\n",
              "      <td>great sam accommodating responds super fast me...</td>\n",
              "      <td>1</td>\n",
              "      <td>0</td>\n",
              "      <td>0</td>\n",
              "      <td>0</td>\n",
              "      <td>0</td>\n",
              "    </tr>\n",
              "    <tr>\n",
              "      <th>447766</th>\n",
              "      <td>great value short walk train edgar accommodati...</td>\n",
              "      <td>0</td>\n",
              "      <td>0</td>\n",
              "      <td>0</td>\n",
              "      <td>0</td>\n",
              "      <td>1</td>\n",
              "    </tr>\n",
              "  </tbody>\n",
              "</table>\n",
              "</div>\n",
              "      <button class=\"colab-df-convert\" onclick=\"convertToInteractive('df-40ebc3aa-e844-4a32-a521-bf168f258a5d')\"\n",
              "              title=\"Convert this dataframe to an interactive table.\"\n",
              "              style=\"display:none;\">\n",
              "        \n",
              "  <svg xmlns=\"http://www.w3.org/2000/svg\" height=\"24px\"viewBox=\"0 0 24 24\"\n",
              "       width=\"24px\">\n",
              "    <path d=\"M0 0h24v24H0V0z\" fill=\"none\"/>\n",
              "    <path d=\"M18.56 5.44l.94 2.06.94-2.06 2.06-.94-2.06-.94-.94-2.06-.94 2.06-2.06.94zm-11 1L8.5 8.5l.94-2.06 2.06-.94-2.06-.94L8.5 2.5l-.94 2.06-2.06.94zm10 10l.94 2.06.94-2.06 2.06-.94-2.06-.94-.94-2.06-.94 2.06-2.06.94z\"/><path d=\"M17.41 7.96l-1.37-1.37c-.4-.4-.92-.59-1.43-.59-.52 0-1.04.2-1.43.59L10.3 9.45l-7.72 7.72c-.78.78-.78 2.05 0 2.83L4 21.41c.39.39.9.59 1.41.59.51 0 1.02-.2 1.41-.59l7.78-7.78 2.81-2.81c.8-.78.8-2.07 0-2.86zM5.41 20L4 18.59l7.72-7.72 1.47 1.35L5.41 20z\"/>\n",
              "  </svg>\n",
              "      </button>\n",
              "      \n",
              "  <style>\n",
              "    .colab-df-container {\n",
              "      display:flex;\n",
              "      flex-wrap:wrap;\n",
              "      gap: 12px;\n",
              "    }\n",
              "\n",
              "    .colab-df-convert {\n",
              "      background-color: #E8F0FE;\n",
              "      border: none;\n",
              "      border-radius: 50%;\n",
              "      cursor: pointer;\n",
              "      display: none;\n",
              "      fill: #1967D2;\n",
              "      height: 32px;\n",
              "      padding: 0 0 0 0;\n",
              "      width: 32px;\n",
              "    }\n",
              "\n",
              "    .colab-df-convert:hover {\n",
              "      background-color: #E2EBFA;\n",
              "      box-shadow: 0px 1px 2px rgba(60, 64, 67, 0.3), 0px 1px 3px 1px rgba(60, 64, 67, 0.15);\n",
              "      fill: #174EA6;\n",
              "    }\n",
              "\n",
              "    [theme=dark] .colab-df-convert {\n",
              "      background-color: #3B4455;\n",
              "      fill: #D2E3FC;\n",
              "    }\n",
              "\n",
              "    [theme=dark] .colab-df-convert:hover {\n",
              "      background-color: #434B5C;\n",
              "      box-shadow: 0px 1px 3px 1px rgba(0, 0, 0, 0.15);\n",
              "      filter: drop-shadow(0px 1px 2px rgba(0, 0, 0, 0.3));\n",
              "      fill: #FFFFFF;\n",
              "    }\n",
              "  </style>\n",
              "\n",
              "      <script>\n",
              "        const buttonEl =\n",
              "          document.querySelector('#df-40ebc3aa-e844-4a32-a521-bf168f258a5d button.colab-df-convert');\n",
              "        buttonEl.style.display =\n",
              "          google.colab.kernel.accessAllowed ? 'block' : 'none';\n",
              "\n",
              "        async function convertToInteractive(key) {\n",
              "          const element = document.querySelector('#df-40ebc3aa-e844-4a32-a521-bf168f258a5d');\n",
              "          const dataTable =\n",
              "            await google.colab.kernel.invokeFunction('convertToInteractive',\n",
              "                                                     [key], {});\n",
              "          if (!dataTable) return;\n",
              "\n",
              "          const docLinkHtml = 'Like what you see? Visit the ' +\n",
              "            '<a target=\"_blank\" href=https://colab.research.google.com/notebooks/data_table.ipynb>data table notebook</a>'\n",
              "            + ' to learn more about interactive tables.';\n",
              "          element.innerHTML = '';\n",
              "          dataTable['output_type'] = 'display_data';\n",
              "          await google.colab.output.renderOutput(dataTable, element);\n",
              "          const docLink = document.createElement('div');\n",
              "          docLink.innerHTML = docLinkHtml;\n",
              "          element.appendChild(docLink);\n",
              "        }\n",
              "      </script>\n",
              "    </div>\n",
              "  </div>\n",
              "  "
            ]
          },
          "metadata": {},
          "execution_count": 20
        }
      ]
    },
    {
      "cell_type": "code",
      "source": [
        "#export test results to csv\n",
        "test_df2.to_csv('model_results.csv', index=False)"
      ],
      "metadata": {
        "id": "ADrgUpvmDdp4"
      },
      "execution_count": null,
      "outputs": []
    },
    {
      "cell_type": "code",
      "source": [
        ""
      ],
      "metadata": {
        "id": "n4W-0C07Dian"
      },
      "execution_count": null,
      "outputs": []
    }
  ]
}