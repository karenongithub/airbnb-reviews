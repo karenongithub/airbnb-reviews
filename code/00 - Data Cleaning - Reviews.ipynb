{
 "cells": [
  {
   "cell_type": "markdown",
   "id": "3cfb1ff3-6e2d-41bf-909d-0877dec934e3",
   "metadata": {},
   "source": [
    "## Data Cleaning - Reviews"
   ]
  },
  {
   "cell_type": "code",
   "execution_count": 1,
   "id": "dc986d29-36a0-4962-b4ae-ce047c8e03da",
   "metadata": {},
   "outputs": [],
   "source": [
    "import pandas as pd\n",
    "import numpy as np\n",
    "import matplotlib.pyplot as plt\n",
    "import seaborn as sns\n",
    "\n",
    "from sklearn.feature_extraction.text import CountVectorizer\n",
    "from sklearn.feature_extraction import text\n",
    "\n",
    "from nltk.tokenize import sent_tokenize, word_tokenize, RegexpTokenizer\n",
    "from nltk.stem import WordNetLemmatizer\n",
    "from nltk.stem.porter import PorterStemmer\n",
    "from nltk.corpus import stopwords\n",
    "\n",
    "pd.set_option('display.max_rows', 1000)\n",
    "pd.set_option('display.max_columns', 500)\n",
    "pd.set_option('display.width', 1000)"
   ]
  },
  {
   "cell_type": "code",
   "execution_count": 2,
   "id": "af093149-11ff-44a5-b7a8-325fb96f1b97",
   "metadata": {},
   "outputs": [],
   "source": [
    "df = pd.read_csv('./data/clean_review_and_scores2.csv')"
   ]
  },
  {
   "cell_type": "code",
   "execution_count": 3,
   "id": "af9c6dfc-ec58-4367-acc4-6c07f2b4871d",
   "metadata": {},
   "outputs": [
    {
     "data": {
      "text/html": [
       "<div>\n",
       "<style scoped>\n",
       "    .dataframe tbody tr th:only-of-type {\n",
       "        vertical-align: middle;\n",
       "    }\n",
       "\n",
       "    .dataframe tbody tr th {\n",
       "        vertical-align: top;\n",
       "    }\n",
       "\n",
       "    .dataframe thead th {\n",
       "        text-align: right;\n",
       "    }\n",
       "</style>\n",
       "<table border=\"1\" class=\"dataframe\">\n",
       "  <thead>\n",
       "    <tr style=\"text-align: right;\">\n",
       "      <th></th>\n",
       "      <th>listing_id</th>\n",
       "      <th>id</th>\n",
       "      <th>date</th>\n",
       "      <th>reviewer_id</th>\n",
       "      <th>reviewer_name</th>\n",
       "      <th>comments</th>\n",
       "      <th>review_scores_rating</th>\n",
       "      <th>review_scores_accuracy</th>\n",
       "      <th>review_scores_cleanliness</th>\n",
       "      <th>review_scores_checkin</th>\n",
       "      <th>review_scores_communication</th>\n",
       "      <th>review_scores_location</th>\n",
       "      <th>review_scores_value</th>\n",
       "      <th>language</th>\n",
       "      <th>word_count</th>\n",
       "    </tr>\n",
       "  </thead>\n",
       "  <tbody>\n",
       "    <tr>\n",
       "      <th>0</th>\n",
       "      <td>2595</td>\n",
       "      <td>19760.0</td>\n",
       "      <td>2009-12-10</td>\n",
       "      <td>38960.0</td>\n",
       "      <td>Anita</td>\n",
       "      <td>I ve stayed with my friend at the Midtown Cast...</td>\n",
       "      <td>4.7</td>\n",
       "      <td>4.72</td>\n",
       "      <td>4.62</td>\n",
       "      <td>4.76</td>\n",
       "      <td>4.79</td>\n",
       "      <td>4.86</td>\n",
       "      <td>4.41</td>\n",
       "      <td>en</td>\n",
       "      <td>93.0</td>\n",
       "    </tr>\n",
       "    <tr>\n",
       "      <th>1</th>\n",
       "      <td>2595</td>\n",
       "      <td>34320.0</td>\n",
       "      <td>2010-04-09</td>\n",
       "      <td>71130.0</td>\n",
       "      <td>Kai-Uwe</td>\n",
       "      <td>We ve been staying here for about 9 nights, en...</td>\n",
       "      <td>4.7</td>\n",
       "      <td>4.72</td>\n",
       "      <td>4.62</td>\n",
       "      <td>4.76</td>\n",
       "      <td>4.79</td>\n",
       "      <td>4.86</td>\n",
       "      <td>4.41</td>\n",
       "      <td>en</td>\n",
       "      <td>67.0</td>\n",
       "    </tr>\n",
       "    <tr>\n",
       "      <th>2</th>\n",
       "      <td>2595</td>\n",
       "      <td>46312.0</td>\n",
       "      <td>2010-05-25</td>\n",
       "      <td>117113.0</td>\n",
       "      <td>Alicia</td>\n",
       "      <td>We had a wonderful stay at Jennifer s charming...</td>\n",
       "      <td>4.7</td>\n",
       "      <td>4.72</td>\n",
       "      <td>4.62</td>\n",
       "      <td>4.76</td>\n",
       "      <td>4.79</td>\n",
       "      <td>4.86</td>\n",
       "      <td>4.41</td>\n",
       "      <td>en</td>\n",
       "      <td>25.0</td>\n",
       "    </tr>\n",
       "  </tbody>\n",
       "</table>\n",
       "</div>"
      ],
      "text/plain": [
       "   listing_id       id        date  reviewer_id reviewer_name                                           comments  review_scores_rating  review_scores_accuracy  review_scores_cleanliness  review_scores_checkin  review_scores_communication  review_scores_location  review_scores_value language  word_count\n",
       "0        2595  19760.0  2009-12-10      38960.0         Anita  I ve stayed with my friend at the Midtown Cast...                   4.7                    4.72                       4.62                   4.76                         4.79                    4.86                 4.41       en        93.0\n",
       "1        2595  34320.0  2010-04-09      71130.0       Kai-Uwe  We ve been staying here for about 9 nights, en...                   4.7                    4.72                       4.62                   4.76                         4.79                    4.86                 4.41       en        67.0\n",
       "2        2595  46312.0  2010-05-25     117113.0        Alicia  We had a wonderful stay at Jennifer s charming...                   4.7                    4.72                       4.62                   4.76                         4.79                    4.86                 4.41       en        25.0"
      ]
     },
     "execution_count": 3,
     "metadata": {},
     "output_type": "execute_result"
    }
   ],
   "source": [
    "df.head(3)"
   ]
  },
  {
   "cell_type": "code",
   "execution_count": 4,
   "id": "f7766d38-8043-49f9-b485-6b13435f7e83",
   "metadata": {},
   "outputs": [],
   "source": [
    "#remove puncutation from comments\n",
    "\n",
    "df['comments'] = df['comments'].str.replace(r'[^\\w\\s]', '', regex=True)"
   ]
  },
  {
   "cell_type": "code",
   "execution_count": 5,
   "id": "e438fc68-fb43-4cb6-98ab-6d4f88f7ac0a",
   "metadata": {},
   "outputs": [],
   "source": [
    "#change comments to lowercase\n",
    "\n",
    "df['comments'] = df['comments'].str.lower()"
   ]
  },
  {
   "cell_type": "code",
   "execution_count": 6,
   "id": "f0bcfc28-4dbc-447c-9a79-bd714f0f620f",
   "metadata": {},
   "outputs": [
    {
     "data": {
      "text/html": [
       "<div>\n",
       "<style scoped>\n",
       "    .dataframe tbody tr th:only-of-type {\n",
       "        vertical-align: middle;\n",
       "    }\n",
       "\n",
       "    .dataframe tbody tr th {\n",
       "        vertical-align: top;\n",
       "    }\n",
       "\n",
       "    .dataframe thead th {\n",
       "        text-align: right;\n",
       "    }\n",
       "</style>\n",
       "<table border=\"1\" class=\"dataframe\">\n",
       "  <thead>\n",
       "    <tr style=\"text-align: right;\">\n",
       "      <th></th>\n",
       "      <th>listing_id</th>\n",
       "      <th>id</th>\n",
       "      <th>date</th>\n",
       "      <th>reviewer_id</th>\n",
       "      <th>reviewer_name</th>\n",
       "      <th>comments</th>\n",
       "      <th>review_scores_rating</th>\n",
       "      <th>review_scores_accuracy</th>\n",
       "      <th>review_scores_cleanliness</th>\n",
       "      <th>review_scores_checkin</th>\n",
       "      <th>review_scores_communication</th>\n",
       "      <th>review_scores_location</th>\n",
       "      <th>review_scores_value</th>\n",
       "      <th>language</th>\n",
       "      <th>word_count</th>\n",
       "    </tr>\n",
       "  </thead>\n",
       "  <tbody>\n",
       "    <tr>\n",
       "      <th>0</th>\n",
       "      <td>2595</td>\n",
       "      <td>19760.0</td>\n",
       "      <td>2009-12-10</td>\n",
       "      <td>38960.0</td>\n",
       "      <td>Anita</td>\n",
       "      <td>i ve stayed with my friend at the midtown cast...</td>\n",
       "      <td>4.7</td>\n",
       "      <td>4.72</td>\n",
       "      <td>4.62</td>\n",
       "      <td>4.76</td>\n",
       "      <td>4.79</td>\n",
       "      <td>4.86</td>\n",
       "      <td>4.41</td>\n",
       "      <td>en</td>\n",
       "      <td>93.0</td>\n",
       "    </tr>\n",
       "    <tr>\n",
       "      <th>1</th>\n",
       "      <td>2595</td>\n",
       "      <td>34320.0</td>\n",
       "      <td>2010-04-09</td>\n",
       "      <td>71130.0</td>\n",
       "      <td>Kai-Uwe</td>\n",
       "      <td>we ve been staying here for about 9 nights enj...</td>\n",
       "      <td>4.7</td>\n",
       "      <td>4.72</td>\n",
       "      <td>4.62</td>\n",
       "      <td>4.76</td>\n",
       "      <td>4.79</td>\n",
       "      <td>4.86</td>\n",
       "      <td>4.41</td>\n",
       "      <td>en</td>\n",
       "      <td>67.0</td>\n",
       "    </tr>\n",
       "    <tr>\n",
       "      <th>2</th>\n",
       "      <td>2595</td>\n",
       "      <td>46312.0</td>\n",
       "      <td>2010-05-25</td>\n",
       "      <td>117113.0</td>\n",
       "      <td>Alicia</td>\n",
       "      <td>we had a wonderful stay at jennifer s charming...</td>\n",
       "      <td>4.7</td>\n",
       "      <td>4.72</td>\n",
       "      <td>4.62</td>\n",
       "      <td>4.76</td>\n",
       "      <td>4.79</td>\n",
       "      <td>4.86</td>\n",
       "      <td>4.41</td>\n",
       "      <td>en</td>\n",
       "      <td>25.0</td>\n",
       "    </tr>\n",
       "  </tbody>\n",
       "</table>\n",
       "</div>"
      ],
      "text/plain": [
       "   listing_id       id        date  reviewer_id reviewer_name                                           comments  review_scores_rating  review_scores_accuracy  review_scores_cleanliness  review_scores_checkin  review_scores_communication  review_scores_location  review_scores_value language  word_count\n",
       "0        2595  19760.0  2009-12-10      38960.0         Anita  i ve stayed with my friend at the midtown cast...                   4.7                    4.72                       4.62                   4.76                         4.79                    4.86                 4.41       en        93.0\n",
       "1        2595  34320.0  2010-04-09      71130.0       Kai-Uwe  we ve been staying here for about 9 nights enj...                   4.7                    4.72                       4.62                   4.76                         4.79                    4.86                 4.41       en        67.0\n",
       "2        2595  46312.0  2010-05-25     117113.0        Alicia  we had a wonderful stay at jennifer s charming...                   4.7                    4.72                       4.62                   4.76                         4.79                    4.86                 4.41       en        25.0"
      ]
     },
     "execution_count": 6,
     "metadata": {},
     "output_type": "execute_result"
    }
   ],
   "source": [
    "df.head(3)"
   ]
  },
  {
   "cell_type": "code",
   "execution_count": 7,
   "id": "5e6454ef-e7d5-4565-ac80-733fef3363d4",
   "metadata": {},
   "outputs": [
    {
     "name": "stdout",
     "output_type": "stream",
     "text": [
      "<class 'pandas.core.frame.DataFrame'>\n",
      "RangeIndex: 602394 entries, 0 to 602393\n",
      "Data columns (total 15 columns):\n",
      " #   Column                       Non-Null Count   Dtype  \n",
      "---  ------                       --------------   -----  \n",
      " 0   listing_id                   602394 non-null  int64  \n",
      " 1   id                           602394 non-null  float64\n",
      " 2   date                         602394 non-null  object \n",
      " 3   reviewer_id                  602394 non-null  float64\n",
      " 4   reviewer_name                602394 non-null  object \n",
      " 5   comments                     602394 non-null  object \n",
      " 6   review_scores_rating         602394 non-null  float64\n",
      " 7   review_scores_accuracy       602394 non-null  float64\n",
      " 8   review_scores_cleanliness    602394 non-null  float64\n",
      " 9   review_scores_checkin        602394 non-null  float64\n",
      " 10  review_scores_communication  602394 non-null  float64\n",
      " 11  review_scores_location       602394 non-null  float64\n",
      " 12  review_scores_value          602394 non-null  float64\n",
      " 13  language                     602394 non-null  object \n",
      " 14  word_count                   602394 non-null  float64\n",
      "dtypes: float64(10), int64(1), object(4)\n",
      "memory usage: 68.9+ MB\n"
     ]
    }
   ],
   "source": [
    "df.info()"
   ]
  },
  {
   "cell_type": "code",
   "execution_count": 8,
   "id": "7cd33eca-27d7-49a9-aa30-f08acf9a380f",
   "metadata": {},
   "outputs": [
    {
     "data": {
      "text/plain": [
       "listing_id                     0\n",
       "id                             0\n",
       "date                           0\n",
       "reviewer_id                    0\n",
       "reviewer_name                  0\n",
       "comments                       0\n",
       "review_scores_rating           0\n",
       "review_scores_accuracy         0\n",
       "review_scores_cleanliness      0\n",
       "review_scores_checkin          0\n",
       "review_scores_communication    0\n",
       "review_scores_location         0\n",
       "review_scores_value            0\n",
       "language                       0\n",
       "word_count                     0\n",
       "dtype: int64"
      ]
     },
     "execution_count": 8,
     "metadata": {},
     "output_type": "execute_result"
    }
   ],
   "source": [
    "df.isna().sum()"
   ]
  },
  {
   "cell_type": "code",
   "execution_count": 9,
   "id": "9bbcec89-9306-4186-ae99-96230fff899b",
   "metadata": {},
   "outputs": [],
   "source": [
    "#split data into separate categories\n",
    "\n",
    "zero = df[(df['review_scores_rating'] >= 0) & (df['review_scores_rating'] <1)]\n",
    "one = df[(df['review_scores_rating'] >= 1) & (df['review_scores_rating'] <2)]\n",
    "two = df[(df['review_scores_rating'] >= 2) & (df['review_scores_rating'] <3)]\n",
    "three = df[(df['review_scores_rating'] >= 3) & (df['review_scores_rating'] <4)]\n",
    "four = df[(df['review_scores_rating'] >= 4) & (df['review_scores_rating'] <5)]\n",
    "five = df[df['review_scores_rating'] == 5]"
   ]
  },
  {
   "cell_type": "code",
   "execution_count": 10,
   "id": "a5cba986-1cbd-4a22-9dba-ad1931408e33",
   "metadata": {},
   "outputs": [
    {
     "name": "stdout",
     "output_type": "stream",
     "text": [
      "4\n",
      "153\n",
      "181\n",
      "2391\n",
      "568756\n",
      "30909\n"
     ]
    }
   ],
   "source": [
    "#check counts of reviews \n",
    "\n",
    "print(len(zero))\n",
    "print(len(one))\n",
    "print(len(two))\n",
    "print(len(three))\n",
    "print(len(four))\n",
    "print(len(five))"
   ]
  },
  {
   "cell_type": "code",
   "execution_count": 35,
   "id": "abcdc313-e4e7-4d61-ba1c-806742eaa009",
   "metadata": {},
   "outputs": [],
   "source": [
    "#randomly sampled 10% of original dataset\n",
    "zerosampled = zero.sample(frac=0.02)\n",
    "onesampled = one.sample(frac=0.02)\n",
    "twosampled = two.sample(frac=0.02)\n",
    "threesampled = three.sample(frac=0.02)\n",
    "foursampled = four.sample(frac=0.02)\n",
    "fivesampled = five.sample(frac=0.02)\n",
    "zerototwo = df[(df['review_scores_rating'] >= 0) & (df['review_scores_rating'] <3)].sample(frac=0.02)"
   ]
  },
  {
   "cell_type": "code",
   "execution_count": 36,
   "id": "7ffb16a9-57cf-42b8-be94-6ecaacbaa31a",
   "metadata": {},
   "outputs": [
    {
     "name": "stdout",
     "output_type": "stream",
     "text": [
      "0\n",
      "3\n",
      "48\n",
      "11375\n",
      "618\n",
      "7\n"
     ]
    }
   ],
   "source": [
    "print(len(zerosampled))\n",
    "print(len(onesampled))\n",
    "print(len(threesampled))\n",
    "print(len(foursampled))\n",
    "print(len(fivesampled))\n",
    "print(len(zerototwo))"
   ]
  },
  {
   "cell_type": "markdown",
   "id": "de9af427-b7df-4d7d-87ef-ca7206e5f360",
   "metadata": {},
   "source": [
    "* for ratings that are between 0 and less than 4, there are significantly less observations\n",
    "* attempt to combine for vectorizing to analyze in groups. 3 will be middle, 0-2 will be its own category"
   ]
  },
  {
   "cell_type": "code",
   "execution_count": 28,
   "id": "8af48063-aab0-4481-9f49-76a3ef03d951",
   "metadata": {},
   "outputs": [],
   "source": [
    "#export to csv to run in colab -- kernel dies when attempting to run\n",
    "\n",
    "zerototwo = df[(df['review_scores_rating'] >= 0) & (df['review_scores_rating'] <3)].sample(frac=0.1)\n",
    "\n",
    "df.to_csv('./data/all_reviews_for_vectorizing.csv', index=False)\n",
    "zerototwo.to_csv('./data/0to2stars_for_vectorizing.csv', index=False)\n",
    "threesampled.to_csv('./data/3stars_for_vectorizing.csv', index=False)\n",
    "foursampled.to_csv('./data/4stars_for_vectorizing.csv', index=False)\n",
    "fivesampled.to_csv('./data/5stars_for_vectorizing.csv', index=False)"
   ]
  },
  {
   "cell_type": "code",
   "execution_count": 14,
   "id": "7cd83eb0-8bfd-4d1b-8ac9-b0d0780b2766",
   "metadata": {},
   "outputs": [],
   "source": [
    "#colab link: https://colab.research.google.com/drive/1MDlUv_tvVwNCOQc3SGnPu6k_22pq98k6?usp=sharing"
   ]
  },
  {
   "cell_type": "code",
   "execution_count": null,
   "id": "335f963e-f290-4afa-8c64-752d3eb58b70",
   "metadata": {},
   "outputs": [],
   "source": []
  }
 ],
 "metadata": {
  "kernelspec": {
   "display_name": "Python 3 (ipykernel)",
   "language": "python",
   "name": "python3"
  },
  "language_info": {
   "codemirror_mode": {
    "name": "ipython",
    "version": 3
   },
   "file_extension": ".py",
   "mimetype": "text/x-python",
   "name": "python",
   "nbconvert_exporter": "python",
   "pygments_lexer": "ipython3",
   "version": "3.9.7"
  }
 },
 "nbformat": 4,
 "nbformat_minor": 5
}
